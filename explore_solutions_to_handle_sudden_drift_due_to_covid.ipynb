{
 "cells": [
  {
   "cell_type": "markdown",
   "id": "25af9afa",
   "metadata": {
    "toc": true
   },
   "source": [
    "<h1>Table of Contents<span class=\"tocSkip\"></span></h1>\n",
    "<div class=\"toc\"><ul class=\"toc-item\"><li><span><a href=\"#ML-Monitoring---Explore-solutions-to-handle-sudden-drift-due-to-covid\" data-toc-modified-id=\"ML-Monitoring---Explore-solutions-to-handle-sudden-drift-due-to-covid-1\"><span class=\"toc-item-num\">1&nbsp;&nbsp;</span>ML Monitoring - Explore solutions to handle sudden drift due to covid</a></span><ul class=\"toc-item\"><li><span><a href=\"#Overview\" data-toc-modified-id=\"Overview-1.1\"><span class=\"toc-item-num\">1.1&nbsp;&nbsp;</span>Overview</a></span></li><li><span><a href=\"#Solutions-to-explore\" data-toc-modified-id=\"Solutions-to-explore-1.2\"><span class=\"toc-item-num\">1.2&nbsp;&nbsp;</span>Solutions to explore</a></span></li><li><span><a href=\"#Dataset:\" data-toc-modified-id=\"Dataset:-1.3\"><span class=\"toc-item-num\">1.3&nbsp;&nbsp;</span>Dataset:</a></span></li><li><span><a href=\"#Assumptions\" data-toc-modified-id=\"Assumptions-1.4\"><span class=\"toc-item-num\">1.4&nbsp;&nbsp;</span>Assumptions</a></span></li><li><span><a href=\"#Libraries\" data-toc-modified-id=\"Libraries-1.5\"><span class=\"toc-item-num\">1.5&nbsp;&nbsp;</span>Libraries</a></span></li><li><span><a href=\"#Data\" data-toc-modified-id=\"Data-1.6\"><span class=\"toc-item-num\">1.6&nbsp;&nbsp;</span>Data</a></span><ul class=\"toc-item\"><li><span><a href=\"#Load-data\" data-toc-modified-id=\"Load-data-1.6.1\"><span class=\"toc-item-num\">1.6.1&nbsp;&nbsp;</span>Load data</a></span></li><li><span><a href=\"#Data-preprocessing\" data-toc-modified-id=\"Data-preprocessing-1.6.2\"><span class=\"toc-item-num\">1.6.2&nbsp;&nbsp;</span>Data preprocessing</a></span></li><li><span><a href=\"#Data-transformation\" data-toc-modified-id=\"Data-transformation-1.6.3\"><span class=\"toc-item-num\">1.6.3&nbsp;&nbsp;</span>Data transformation</a></span></li></ul></li><li><span><a href=\"#Modelling\" data-toc-modified-id=\"Modelling-1.7\"><span class=\"toc-item-num\">1.7&nbsp;&nbsp;</span>Modelling</a></span><ul class=\"toc-item\"><li><ul class=\"toc-item\"><li><span><a href=\"#Adaptive-model-training\" data-toc-modified-id=\"Adaptive-model-training-1.7.0.1\"><span class=\"toc-item-num\">1.7.0.1&nbsp;&nbsp;</span>Adaptive model training</a></span></li><li><span><a href=\"#Instance-weights-based-training\" data-toc-modified-id=\"Instance-weights-based-training-1.7.0.2\"><span class=\"toc-item-num\">1.7.0.2&nbsp;&nbsp;</span>Instance weights based training</a></span></li><li><span><a href=\"#Model-evaluation\" data-toc-modified-id=\"Model-evaluation-1.7.0.3\"><span class=\"toc-item-num\">1.7.0.3&nbsp;&nbsp;</span>Model evaluation</a></span></li><li><span><a href=\"#Metric-selection\" data-toc-modified-id=\"Metric-selection-1.7.0.4\"><span class=\"toc-item-num\">1.7.0.4&nbsp;&nbsp;</span>Metric selection</a></span></li><li><span><a href=\"#Final-model-trained-using-data-from-2017-01-01-to-2019-02-28\" data-toc-modified-id=\"Final-model-trained-using-data-from-2017-01-01-to-2019-02-28-1.7.0.5\"><span class=\"toc-item-num\">1.7.0.5&nbsp;&nbsp;</span>Final model trained using data from 2017-01-01 to 2019-02-28</a></span></li></ul></li><li><span><a href=\"#Feature-attribution-weighted-drift-detection\" data-toc-modified-id=\"Feature-attribution-weighted-drift-detection-1.7.1\"><span class=\"toc-item-num\">1.7.1&nbsp;&nbsp;</span>Feature attribution weighted drift detection</a></span><ul class=\"toc-item\"><li><span><a href=\"#Test-for-target-drift\" data-toc-modified-id=\"Test-for-target-drift-1.7.1.1\"><span class=\"toc-item-num\">1.7.1.1&nbsp;&nbsp;</span>Test for target drift</a></span></li></ul></li></ul></li><li><span><a href=\"#Simulate-model-on-data-from-2019-03-01-to-2020-11-15\" data-toc-modified-id=\"Simulate-model-on-data-from-2019-03-01-to-2020-11-15-1.8\"><span class=\"toc-item-num\">1.8&nbsp;&nbsp;</span>Simulate model on data from 2019-03-01 to 2020-11-15</a></span><ul class=\"toc-item\"><li><ul class=\"toc-item\"><li><span><a href=\"#Experiment-monthly-performance-comparision-plot\" data-toc-modified-id=\"Experiment-monthly-performance-comparision-plot-1.8.0.1\"><span class=\"toc-item-num\">1.8.0.1&nbsp;&nbsp;</span>Experiment monthly performance comparision plot</a></span></li><li><span><a href=\"#Model-decay-before-covid\" data-toc-modified-id=\"Model-decay-before-covid-1.8.0.2\"><span class=\"toc-item-num\">1.8.0.2&nbsp;&nbsp;</span>Model decay before covid</a></span></li><li><span><a href=\"#Model-decay-after-covid\" data-toc-modified-id=\"Model-decay-after-covid-1.8.0.3\"><span class=\"toc-item-num\">1.8.0.3&nbsp;&nbsp;</span>Model decay after covid</a></span></li><li><span><a href=\"#Overall-model-decay\" data-toc-modified-id=\"Overall-model-decay-1.8.0.4\"><span class=\"toc-item-num\">1.8.0.4&nbsp;&nbsp;</span>Overall model decay</a></span></li></ul></li></ul></li></ul></li></ul></div>"
   ]
  },
  {
   "cell_type": "markdown",
   "id": "bc63de82",
   "metadata": {},
   "source": [
    "# ML Monitoring - Explore solutions to handle sudden drift due to covid\n",
    "\n",
    "## Overview\n",
    "\n",
    "Drifts are of generally 3 types\n",
    "\n",
    "* Gradual drift - happens naturally as change in user behaviours over time\n",
    "* Cyclic drift - happens due to seasonal effects\n",
    "* Sudden drift - happens due to unexpected events with large scale impact changing user behaviours in matter of days to weeks.\n",
    "\n",
    "Retraining model periodically or based on drift detection techniques is generally sufficient to handle gradual and cyclic drift. But to handle sudden drift retraining model may not be enough, since model is not trained on sufficient amount of data on the new behaviour patterns. In this notebook we will explore few of the solutions to handle sudden drift and compare them.\n",
    "\n",
    "## Solutions to explore\n",
    "\n",
    "* Is simply retraining model based on model performance decay and drift detection sufficient?\n",
    "* Retrain model with instance weightage. Give higher weighted to most recent training examples and least to oldest. Exponential decay will be used for instance weightage\n",
    "* Retrain model with adaptive window. Use only last 12 month data to train model\n",
    "* Retrain model with adaptive window and expoential decay based instance weightage\n",
    "* Generate synthetic data based on newly available behaviour pattern and retrain model\n",
    "\n",
    "## Dataset:\n",
    "\n",
    "* Contains warehouse demand data from 2017-01-01 to 2020-11-15\n",
    "\n",
    "## Assumptions\n",
    "\n",
    "* Initial model deployment on march 2019\n",
    "* True labels/ actual demand available over the weekend\n",
    "* Model monitored on monthly basis"
   ]
  },
  {
   "cell_type": "markdown",
   "id": "20bc077d",
   "metadata": {},
   "source": [
    "## Libraries"
   ]
  },
  {
   "cell_type": "code",
   "execution_count": 1,
   "id": "2150e659",
   "metadata": {},
   "outputs": [],
   "source": [
    "import pandas as pd\n",
    "import numpy as np\n",
    "import scipy as sp\n",
    "import calendar\n",
    "from datetime import date,datetime,timedelta\n",
    "import time\n",
    "from sklearn.model_selection import train_test_split\n",
    "from rdt import HyperTransformer\n",
    "import xgboost as xgb\n",
    "from matplotlib import pyplot as plt\n",
    "import traceback\n",
    "import shap\n",
    "import logging\n",
    "from importlib import reload\n",
    "import logging\n",
    "from sklearn.metrics import mean_squared_error, mean_absolute_percentage_error, mean_absolute_error\n",
    "from evidently import ColumnMapping\n",
    "from evidently.model_profile import Profile\n",
    "from evidently.model_profile.sections import DataDriftProfileSection, NumTargetDriftProfileSection\n",
    "import plotly.graph_objects as go\n",
    "import plotly.express as px\n",
    "import os\n",
    "import json\n",
    "import mlflow\n",
    "from functools import wraps\n",
    "from mlflow.tracking import MlflowClient\n",
    "import plotly.io as pio\n",
    "# remove static rendering to allow interactive mode\n",
    "#pio.renderers.default = \"notebook\"\n",
    "pio.renderers.default = \"svg\"\n",
    "import warnings\n",
    "warnings.filterwarnings(\"ignore\")\n",
    "%matplotlib inline"
   ]
  },
  {
   "cell_type": "code",
   "execution_count": 2,
   "id": "a8149581",
   "metadata": {},
   "outputs": [],
   "source": [
    "# set up logging\n",
    "reload(logging)\n",
    "logging.basicConfig(format='%(asctime)s %(levelname)s:%(message)s', level=logging.INFO, datefmt='%I:%M:%S')"
   ]
  },
  {
   "cell_type": "code",
   "execution_count": 3,
   "id": "9a7fe6d4",
   "metadata": {},
   "outputs": [],
   "source": [
    "# mlflow runner\n",
    "def mlflow_runner(func):\n",
    "    @wraps(func)\n",
    "    def wrapper(*args, **kwargs):\n",
    "        # log into MLflow\n",
    "        client = MlflowClient()\n",
    "        experiment_name = kwargs['experiment_name']\n",
    "        run_name = kwargs['run_name']\n",
    "        try:\n",
    "            mlflow.set_experiment(experiment_name)\n",
    "        except Exception:\n",
    "            logging.error('Experiment does not exists')\n",
    "            logging.error('Stack trace:{}'.format(traceback.format_exc()))\n",
    "            experiment_id = mlflow.create_experiment(experiment_name)\n",
    "            mlflow.set_experiment(experiment_name)\n",
    "        finally:\n",
    "            run = mlflow.active_run()\n",
    "            nested = False if run is None else True\n",
    "            with mlflow.start_run(run_name=run_name, nested=nested) as run:\n",
    "                    rv = func(*args, **kwargs)   \n",
    "            return rv\n",
    "\n",
    "    return wrapper"
   ]
  },
  {
   "cell_type": "markdown",
   "id": "fe10566d",
   "metadata": {},
   "source": [
    "## Data"
   ]
  },
  {
   "cell_type": "markdown",
   "id": "2e080f13",
   "metadata": {},
   "source": [
    "### Load data"
   ]
  },
  {
   "cell_type": "code",
   "execution_count": 53,
   "id": "3b082e99",
   "metadata": {},
   "outputs": [],
   "source": [
    "df = pd.read_csv('cpp_demand_forecasting_clean_data_v2.csv', index_col=0)"
   ]
  },
  {
   "cell_type": "code",
   "execution_count": 54,
   "id": "f2e957d5",
   "metadata": {},
   "outputs": [
    {
     "name": "stderr",
     "output_type": "stream",
     "text": [
      "11:26:25 INFO:dataset shape : (13315, 33)\n"
     ]
    }
   ],
   "source": [
    "logging.info(f'dataset shape : {df.shape}')"
   ]
  },
  {
   "cell_type": "code",
   "execution_count": 55,
   "id": "2de736f2",
   "metadata": {},
   "outputs": [],
   "source": [
    "# set random state\n",
    "rng = np.random.RandomState(0)"
   ]
  },
  {
   "cell_type": "code",
   "execution_count": 56,
   "id": "7ce62229",
   "metadata": {},
   "outputs": [
    {
     "data": {
      "text/html": [
       "<div>\n",
       "<style scoped>\n",
       "    .dataframe tbody tr th:only-of-type {\n",
       "        vertical-align: middle;\n",
       "    }\n",
       "\n",
       "    .dataframe tbody tr th {\n",
       "        vertical-align: top;\n",
       "    }\n",
       "\n",
       "    .dataframe thead th {\n",
       "        text-align: right;\n",
       "    }\n",
       "</style>\n",
       "<table border=\"1\" class=\"dataframe\">\n",
       "  <thead>\n",
       "    <tr style=\"text-align: right;\">\n",
       "      <th></th>\n",
       "      <th>date</th>\n",
       "      <th>warehouse_ID</th>\n",
       "      <th>Latitude</th>\n",
       "      <th>Longitude</th>\n",
       "      <th>Product_Type</th>\n",
       "      <th>year</th>\n",
       "      <th>month</th>\n",
       "      <th>is_weekend</th>\n",
       "      <th>is_warehouse_closed</th>\n",
       "      <th>daily_dispatch_count</th>\n",
       "      <th>...</th>\n",
       "      <th>statewise_land_area_per_sqmile</th>\n",
       "      <th>statewise_population_per_sqmile</th>\n",
       "      <th>statewise_geographic_region</th>\n",
       "      <th>geographic_region_division</th>\n",
       "      <th>statewise_median_age</th>\n",
       "      <th>statewise_median_household_income</th>\n",
       "      <th>total_count</th>\n",
       "      <th>yearly_count</th>\n",
       "      <th>monthly_count</th>\n",
       "      <th>weekly_count</th>\n",
       "    </tr>\n",
       "    <tr>\n",
       "      <th>ID</th>\n",
       "      <th></th>\n",
       "      <th></th>\n",
       "      <th></th>\n",
       "      <th></th>\n",
       "      <th></th>\n",
       "      <th></th>\n",
       "      <th></th>\n",
       "      <th></th>\n",
       "      <th></th>\n",
       "      <th></th>\n",
       "      <th></th>\n",
       "      <th></th>\n",
       "      <th></th>\n",
       "      <th></th>\n",
       "      <th></th>\n",
       "      <th></th>\n",
       "      <th></th>\n",
       "      <th></th>\n",
       "      <th></th>\n",
       "      <th></th>\n",
       "      <th></th>\n",
       "    </tr>\n",
       "  </thead>\n",
       "  <tbody>\n",
       "    <tr>\n",
       "      <th>0x2710</th>\n",
       "      <td>2017-01-01</td>\n",
       "      <td>WH_0x3e9</td>\n",
       "      <td>41.681471</td>\n",
       "      <td>-72.794746</td>\n",
       "      <td>Type_A</td>\n",
       "      <td>2017</td>\n",
       "      <td>1</td>\n",
       "      <td>Yes</td>\n",
       "      <td>No</td>\n",
       "      <td>5.5</td>\n",
       "      <td>...</td>\n",
       "      <td>4842</td>\n",
       "      <td>744.722016</td>\n",
       "      <td>new_england</td>\n",
       "      <td>north_east</td>\n",
       "      <td>41.2</td>\n",
       "      <td>78833</td>\n",
       "      <td>0</td>\n",
       "      <td>0</td>\n",
       "      <td>0</td>\n",
       "      <td>0</td>\n",
       "    </tr>\n",
       "    <tr>\n",
       "      <th>0x33e6</th>\n",
       "      <td>2017-01-01</td>\n",
       "      <td>WH_0x3ea</td>\n",
       "      <td>38.749077</td>\n",
       "      <td>-105.183060</td>\n",
       "      <td>Type_A</td>\n",
       "      <td>2017</td>\n",
       "      <td>1</td>\n",
       "      <td>Yes</td>\n",
       "      <td>No</td>\n",
       "      <td>6.1</td>\n",
       "      <td>...</td>\n",
       "      <td>103642</td>\n",
       "      <td>56.078318</td>\n",
       "      <td>mountain</td>\n",
       "      <td>west</td>\n",
       "      <td>37.3</td>\n",
       "      <td>41053</td>\n",
       "      <td>0</td>\n",
       "      <td>0</td>\n",
       "      <td>0</td>\n",
       "      <td>0</td>\n",
       "    </tr>\n",
       "  </tbody>\n",
       "</table>\n",
       "<p>2 rows × 33 columns</p>\n",
       "</div>"
      ],
      "text/plain": [
       "              date warehouse_ID   Latitude   Longitude Product_Type  year  \\\n",
       "ID                                                                          \n",
       "0x2710  2017-01-01     WH_0x3e9  41.681471  -72.794746       Type_A  2017   \n",
       "0x33e6  2017-01-01     WH_0x3ea  38.749077 -105.183060       Type_A  2017   \n",
       "\n",
       "        month is_weekend is_warehouse_closed  daily_dispatch_count  ...  \\\n",
       "ID                                                                  ...   \n",
       "0x2710      1        Yes                  No                   5.5  ...   \n",
       "0x33e6      1        Yes                  No                   6.1  ...   \n",
       "\n",
       "        statewise_land_area_per_sqmile  statewise_population_per_sqmile  \\\n",
       "ID                                                                        \n",
       "0x2710                            4842                       744.722016   \n",
       "0x33e6                          103642                        56.078318   \n",
       "\n",
       "       statewise_geographic_region geographic_region_division  \\\n",
       "ID                                                              \n",
       "0x2710                 new_england                 north_east   \n",
       "0x33e6                    mountain                       west   \n",
       "\n",
       "        statewise_median_age  statewise_median_household_income  total_count  \\\n",
       "ID                                                                             \n",
       "0x2710                  41.2                              78833            0   \n",
       "0x33e6                  37.3                              41053            0   \n",
       "\n",
       "        yearly_count  monthly_count  weekly_count  \n",
       "ID                                                 \n",
       "0x2710             0              0             0  \n",
       "0x33e6             0              0             0  \n",
       "\n",
       "[2 rows x 33 columns]"
      ]
     },
     "execution_count": 56,
     "metadata": {},
     "output_type": "execute_result"
    }
   ],
   "source": [
    "df.head(2)"
   ]
  },
  {
   "cell_type": "code",
   "execution_count": 57,
   "id": "b32c9da2",
   "metadata": {},
   "outputs": [],
   "source": [
    "df.date = pd.to_datetime(df.date)"
   ]
  },
  {
   "cell_type": "markdown",
   "id": "9a90b42c",
   "metadata": {},
   "source": [
    "<b> Data available during initial model deployment is from 2017-01-01 to 2019-02-28"
   ]
  },
  {
   "cell_type": "code",
   "execution_count": 58,
   "id": "29f7d1f2",
   "metadata": {},
   "outputs": [],
   "source": [
    "intial_df = df[df.date < datetime(2019,3,1)]"
   ]
  },
  {
   "cell_type": "code",
   "execution_count": 59,
   "id": "644635c4",
   "metadata": {},
   "outputs": [],
   "source": [
    "# Split the dataset\n",
    "train_df, test_df = train_test_split(intial_df,\n",
    "                                     test_size=0.3,\n",
    "                                     shuffle=False,\n",
    "                                     random_state=rng)\n",
    "eval_df, serve_df = train_test_split(test_df,\n",
    "                                     test_size=0.5,\n",
    "                                     shuffle=False,\n",
    "                                     random_state=rng)"
   ]
  },
  {
   "cell_type": "code",
   "execution_count": 60,
   "id": "430f225a",
   "metadata": {},
   "outputs": [
    {
     "name": "stderr",
     "output_type": "stream",
     "text": [
      "11:26:28 INFO:train_df shape : (2794, 33)\n",
      "11:26:28 INFO:eval_df shape : (599, 33)\n",
      "11:26:28 INFO:serve_df shape : (599, 33)\n"
     ]
    }
   ],
   "source": [
    "logging.info(f'train_df shape : {train_df.shape}')\n",
    "logging.info(f'eval_df shape : {eval_df.shape}')\n",
    "logging.info(f'serve_df shape : {serve_df.shape}')"
   ]
  },
  {
   "cell_type": "markdown",
   "id": "c82dfa3e",
   "metadata": {},
   "source": [
    "### Data preprocessing"
   ]
  },
  {
   "cell_type": "code",
   "execution_count": 61,
   "id": "96ed4416",
   "metadata": {},
   "outputs": [],
   "source": [
    "def split_features_target(df):\n",
    "    target =  'daily_dispatch_count'\n",
    "    drop_feats = ['weekly_dispatch_count']\n",
    "    y = df[target]\n",
    "    X = df.drop(columns = drop_feats+[target])\n",
    "    return X,y"
   ]
  },
  {
   "cell_type": "code",
   "execution_count": 62,
   "id": "bf66ace6",
   "metadata": {},
   "outputs": [],
   "source": [
    "X,y = split_features_target(train_df)\n",
    "X_eval,y_eval = split_features_target(eval_df)\n",
    "X_serve,y_serve = split_features_target(serve_df)"
   ]
  },
  {
   "cell_type": "markdown",
   "id": "9d8fa920",
   "metadata": {},
   "source": [
    "### Data transformation"
   ]
  },
  {
   "cell_type": "code",
   "execution_count": 63,
   "id": "d2d332e6",
   "metadata": {},
   "outputs": [],
   "source": [
    "ht = HyperTransformer()"
   ]
  },
  {
   "cell_type": "code",
   "execution_count": 64,
   "id": "2a7a1fae",
   "metadata": {},
   "outputs": [
    {
     "name": "stdout",
     "output_type": "stream",
     "text": [
      "Detecting a new config from the data ... SUCCESS\n",
      "Setting the new config ... SUCCESS\n",
      "Config:\n",
      "{\n",
      "    \"sdtypes\": {\n",
      "        \"date\": \"datetime\",\n",
      "        \"warehouse_ID\": \"categorical\",\n",
      "        \"Latitude\": \"numerical\",\n",
      "        \"Longitude\": \"numerical\",\n",
      "        \"Product_Type\": \"categorical\",\n",
      "        \"year\": \"numerical\",\n",
      "        \"month\": \"numerical\",\n",
      "        \"is_weekend\": \"categorical\",\n",
      "        \"is_warehouse_closed\": \"categorical\",\n",
      "        \"week\": \"numerical\",\n",
      "        \"state\": \"categorical\",\n",
      "        \"county\": \"categorical\",\n",
      "        \"state_cases\": \"numerical\",\n",
      "        \"state_deaths\": \"numerical\",\n",
      "        \"county_cases\": \"numerical\",\n",
      "        \"county_deaths\": \"numerical\",\n",
      "        \"day_of_week\": \"numerical\",\n",
      "        \"days_since_warehouse_started\": \"numerical\",\n",
      "        \"state_abbr\": \"categorical\",\n",
      "        \"is_holiday\": \"numerical\",\n",
      "        \"statewise_population\": \"numerical\",\n",
      "        \"statewise_land_area_per_sqmile\": \"numerical\",\n",
      "        \"statewise_population_per_sqmile\": \"numerical\",\n",
      "        \"statewise_geographic_region\": \"categorical\",\n",
      "        \"geographic_region_division\": \"categorical\",\n",
      "        \"statewise_median_age\": \"numerical\",\n",
      "        \"statewise_median_household_income\": \"numerical\",\n",
      "        \"total_count\": \"numerical\",\n",
      "        \"yearly_count\": \"numerical\",\n",
      "        \"monthly_count\": \"numerical\",\n",
      "        \"weekly_count\": \"numerical\"\n",
      "    },\n",
      "    \"transformers\": {\n",
      "        \"date\": UnixTimestampEncoder(missing_value_replacement='mean'),\n",
      "        \"warehouse_ID\": FrequencyEncoder(),\n",
      "        \"Latitude\": FloatFormatter(missing_value_replacement='mean'),\n",
      "        \"Longitude\": FloatFormatter(missing_value_replacement='mean'),\n",
      "        \"Product_Type\": FrequencyEncoder(),\n",
      "        \"year\": FloatFormatter(missing_value_replacement='mean'),\n",
      "        \"month\": FloatFormatter(missing_value_replacement='mean'),\n",
      "        \"is_weekend\": FrequencyEncoder(),\n",
      "        \"is_warehouse_closed\": FrequencyEncoder(),\n",
      "        \"week\": FloatFormatter(missing_value_replacement='mean'),\n",
      "        \"state\": FrequencyEncoder(),\n",
      "        \"county\": FrequencyEncoder(),\n",
      "        \"state_cases\": FloatFormatter(missing_value_replacement='mean'),\n",
      "        \"state_deaths\": FloatFormatter(missing_value_replacement='mean'),\n",
      "        \"county_cases\": FloatFormatter(missing_value_replacement='mean'),\n",
      "        \"county_deaths\": FloatFormatter(missing_value_replacement='mean'),\n",
      "        \"day_of_week\": FloatFormatter(missing_value_replacement='mean'),\n",
      "        \"days_since_warehouse_started\": FloatFormatter(missing_value_replacement='mean'),\n",
      "        \"state_abbr\": FrequencyEncoder(),\n",
      "        \"is_holiday\": FloatFormatter(missing_value_replacement='mean'),\n",
      "        \"statewise_population\": FloatFormatter(missing_value_replacement='mean'),\n",
      "        \"statewise_land_area_per_sqmile\": FloatFormatter(missing_value_replacement='mean'),\n",
      "        \"statewise_population_per_sqmile\": FloatFormatter(missing_value_replacement='mean'),\n",
      "        \"statewise_geographic_region\": FrequencyEncoder(),\n",
      "        \"geographic_region_division\": FrequencyEncoder(),\n",
      "        \"statewise_median_age\": FloatFormatter(missing_value_replacement='mean'),\n",
      "        \"statewise_median_household_income\": FloatFormatter(missing_value_replacement='mean'),\n",
      "        \"total_count\": FloatFormatter(missing_value_replacement='mean'),\n",
      "        \"yearly_count\": FloatFormatter(missing_value_replacement='mean'),\n",
      "        \"monthly_count\": FloatFormatter(missing_value_replacement='mean'),\n",
      "        \"weekly_count\": FloatFormatter(missing_value_replacement='mean')\n",
      "    }\n",
      "}\n"
     ]
    }
   ],
   "source": [
    "ht.detect_initial_config(data=X)"
   ]
  },
  {
   "cell_type": "code",
   "execution_count": 65,
   "id": "2cc976fc",
   "metadata": {},
   "outputs": [],
   "source": [
    "ht.fit(X)\n",
    "X_transformed = ht.transform(X)\n",
    "X_eval_transformed = ht.transform(X_eval)\n",
    "X_serve_transformed = ht.transform(X_serve)"
   ]
  },
  {
   "cell_type": "markdown",
   "id": "687fe7af",
   "metadata": {},
   "source": [
    "## Modelling"
   ]
  },
  {
   "cell_type": "code",
   "execution_count": 66,
   "id": "c00414dd",
   "metadata": {},
   "outputs": [],
   "source": [
    "def get_dmatrix(X, y=None, weight = None):\n",
    "    \n",
    "    return xgb.DMatrix(X, y, feature_names=X.columns, weight = weight)"
   ]
  },
  {
   "cell_type": "code",
   "execution_count": 67,
   "id": "8093cf9a",
   "metadata": {},
   "outputs": [],
   "source": [
    "def get_booster(dmat_train, dmat_test, params= None, xgb_model = None):\n",
    "    params = {'objective': 'reg:squarederror', 'booster':'gbtree'} if params is None else params\n",
    "    booster = xgb.train(\n",
    "            params = params,\n",
    "            dtrain = dmat_train,\n",
    "            evals = [(dmat_train, \"train\"), (dmat_test, \"test\")],\n",
    "            verbose_eval = False,\n",
    "            xgb_model = xgb_model) # Xgb model to be loaded before training (allows training continuation).\n",
    "    return booster"
   ]
  },
  {
   "cell_type": "code",
   "execution_count": 68,
   "id": "abf1f83c",
   "metadata": {},
   "outputs": [],
   "source": [
    "#@mlflow_runner\n",
    "def fit_model(X,y, X_test,y_test, params=None,mlflow_log = False, experiment_name=None, run_name = None, train_weight = None, test_weight = None, xgb_model = None):\n",
    "    dmat_train = get_dmatrix(X, y, train_weight)\n",
    "    dmat_test = get_dmatrix(X_test, y_test, test_weight)\n",
    "    reg = get_booster(dmat_train, dmat_test, params, xgb_model)\n",
    "    if mlflow_log:\n",
    "        mlflow.log_dict(json.loads(reg.save_config()),'xgboost_regressor_params')\n",
    "        \n",
    "    return reg"
   ]
  },
  {
   "cell_type": "code",
   "execution_count": 69,
   "id": "6de3ac8d",
   "metadata": {},
   "outputs": [],
   "source": [
    "reg_normal = fit_model(X_transformed,y, X_eval_transformed,y_eval, mlflow_log=True,experiment_name='warehouse_demand_forecasting',run_name=str(int(time.mktime(datetime.now().timetuple()))))"
   ]
  },
  {
   "cell_type": "markdown",
   "id": "813f4736",
   "metadata": {},
   "source": [
    "#### Adaptive model training\n",
    "\n",
    "Train model based on certatin window. 6 month or 1 year for example"
   ]
  },
  {
   "cell_type": "code",
   "execution_count": 70,
   "id": "9d5c0140",
   "metadata": {},
   "outputs": [],
   "source": [
    "def filter_data_to_last_n_days(data, num_days):\n",
    "\n",
    "    original_data = ht.reverse_transform(data)\n",
    "    start = original_data['date'].iloc[-1] - timedelta(days=num_days)\n",
    "    filtered_data = original_data[original_data.date >= start]\n",
    "    retransformed_data = ht.transform(filtered_data)\n",
    "\n",
    "    return retransformed_data\n",
    "\n",
    "def filter_features_target(X, y, num_days):\n",
    "\n",
    "    X_filtered = filter_data_to_last_n_days(X, num_days)\n",
    "    y_filtered = y.loc[X_filtered.index]\n",
    "    \n",
    "    return X_filtered, y_filtered\n",
    "\n",
    "def adaptive_model_training(X, y , X_test, y_test, num_days, model = None, mlflow_log=True):\n",
    "    X_filtered, y_filtered = filter_features_target(X, y , num_days)\n",
    "    reg_adaptive = fit_model(X_filtered, y_filtered, X_test, y_test, mlflow_log=mlflow_log,experiment_name='warehouse_demand_forecasting',run_name=str(int(time.mktime(datetime.now().timetuple()))), \n",
    "                            xgb_model=model)\n",
    "    return reg_adaptive\n"
   ]
  },
  {
   "cell_type": "code",
   "execution_count": 71,
   "id": "8e9f53e2",
   "metadata": {},
   "outputs": [],
   "source": [
    "#filtered_x = filter_data_to_last_n_days(X_transformed, 180)"
   ]
  },
  {
   "cell_type": "code",
   "execution_count": 72,
   "id": "cc90085c",
   "metadata": {},
   "outputs": [],
   "source": [
    "reg_adaptive_window_1_year = adaptive_model_training (X_transformed,y, X_eval_transformed,y_eval, 365)"
   ]
  },
  {
   "cell_type": "markdown",
   "id": "7fb91cda",
   "metadata": {},
   "source": [
    "#### Instance weights based training\n",
    "\n",
    "Assign higher instance weights to most recenet training examples and little value to older examples. We can use exponential decay to assign instance weights"
   ]
  },
  {
   "cell_type": "markdown",
   "id": "ad8a5134",
   "metadata": {},
   "source": [
    "##### Eponential decay"
   ]
  },
  {
   "cell_type": "code",
   "execution_count": 125,
   "id": "25ff749a",
   "metadata": {},
   "outputs": [],
   "source": [
    "def model_func(t, A, K, C):\n",
    "    return A * np.exp(K * t) + C\n",
    "\n",
    "def fit_exp_linear(t, y, C=0):\n",
    "    y = y - C\n",
    "    y = np.log(y)\n",
    "    K, A_log = np.polyfit(t, y, 1)\n",
    "    A = np.exp(A_log)\n",
    "    return A, K\n",
    "\n",
    "def plot(ax, t, y, noisy_y, fit_y, orig_parms, fit_parms):\n",
    "    A0, K0, C0 = orig_parms\n",
    "    A, K, C = fit_parms\n",
    "\n",
    "    ax.plot(t, fit_y, 'b-',\n",
    "      label='Function:\\n $y = %0.2f e^{%0.2f t} + %0.2f$' % (A, K, C))\n",
    "    ax.plot(t, noisy_y, 'ro')\n",
    "    ax.legend(bbox_to_anchor=(1.05, 1.1), fancybox=True, shadow=True)\n",
    "\n",
    "def exponential_decay(train_dataset_length, exp_coeffecient, bias):\n",
    "    # Actual parameters\n",
    "    A0, K0, C0 = train_dataset_length, exp_coeffecient, bias\n",
    "\n",
    "    # Generate some data based on these\n",
    "    tmin, tmax = 0, 0.5\n",
    "    num = train_dataset_length\n",
    "    t = np.linspace(tmin, tmax, num)\n",
    "    y = model_func(t, A0, K0, C0)\n",
    "\n",
    "    # Add noise\n",
    "    noisy_y = y + 0.5 * (np.random.random(num) - 0.5)\n",
    "\n",
    "    fig = plt.figure()\n",
    "    ax1 = fig.add_subplot(2, 1, 1)\n",
    "\n",
    "\n",
    "    # Linear Fit (Note that we have to provide the y-offset (\"C\") value!!\n",
    "    A, K = fit_exp_linear(t, y, C0)\n",
    "    fit_y_linear = model_func(t, A, K, C0)\n",
    "    plot(ax1,t, y, noisy_y, fit_y_linear, (A0, K0, C0), (A, K, 0))\n",
    "    ax1.set_title('instance weights generated using exponential decay')\n",
    "\n",
    "    plt.show()\n",
    "\n",
    "    return fit_y_linear"
   ]
  },
  {
   "cell_type": "code",
   "execution_count": 122,
   "id": "2f5042b4",
   "metadata": {},
   "outputs": [
    {
     "data": {
      "image/png": "[encoded data removed]",
      "text/plain": [
       "<Figure size 1080x720 with 1 Axes>"
      ]
     },
     "metadata": {
      "needs_background": "light"
     },
     "output_type": "display_data"
    }
   ],
   "source": [
    "fit_y_linear = exponential_decay(X_transformed.shape[0],-5,2)"
   ]
  },
  {
   "cell_type": "code",
   "execution_count": 126,
   "id": "713ec283",
   "metadata": {},
   "outputs": [],
   "source": [
    "def fit_model_with_instance_weights(X, y, X_test, y_test, exp_coeffecient, bias, params = None, model = None , mlflow_log=True):\n",
    "    \n",
    "    train_instance_weights = exponential_decay(X.shape[0], exp_coeffecient, bias)\n",
    "    reg_exponential_decay =  fit_model(X, y, X_test, y_test, params , train_weight=train_instance_weights, mlflow_log=mlflow_log,experiment_name='warehouse_demand_forecasting',run_name=str(int(time.mktime(datetime.now().timetuple()))),\n",
    "                                    xgb_model=model)\n",
    "    return reg_exponential_decay"
   ]
  },
  {
   "cell_type": "code",
   "execution_count": 127,
   "id": "d07be67a",
   "metadata": {},
   "outputs": [
    {
     "data": {
      "image/png": "[encoded data removed]",
      "text/plain": [
       "<Figure size 432x288 with 1 Axes>"
      ]
     },
     "metadata": {
      "needs_background": "light"
     },
     "output_type": "display_data"
    }
   ],
   "source": [
    "reg_exponential_decay = fit_model_with_instance_weights(X_transformed,y, X_eval_transformed,y_eval , -5, 2)"
   ]
  },
  {
   "cell_type": "markdown",
   "id": "3504fbd4",
   "metadata": {},
   "source": [
    "#### Model evaluation"
   ]
  },
  {
   "cell_type": "markdown",
   "id": "ca91ced4",
   "metadata": {},
   "source": [
    "#### Metric selection\n",
    "\n",
    "In Demand forecasting , models are exepcted to handle special events. \n",
    "\n",
    "* MAE doesn't penalize model for underperformance of during special events. \n",
    "* MAPE is not a good metric for demand forecasting. MAPE divides each error individually by the demand, so it is skewed: high errors during low-demand periods will significantly impact MAPE.\n",
    "* MSE is not scaled to the original error (as the error is squared), resulting in a KPI that we cannot relate to the original demand scale.\n",
    "* RMSE is sensitive to outliers and does penalize model for underperformance on special events.\n",
    "<div><b>We will convert RMSE to RMSE% to scale RMSE to average demand. Otherwise we will get skewed results during very low demand period. This will also make the results more interpretable</b></div>"
   ]
  },
  {
   "cell_type": "code",
   "execution_count": 128,
   "id": "a466160e",
   "metadata": {},
   "outputs": [],
   "source": [
    "def rewrite_name(df_type, error_type):\n",
    "    return f\"{df_type}{'_'}{error_type}\"\n",
    "\n",
    "def get_scores(y_actual, y_predicted,df_type='train'):\n",
    "    #y_predicted = np.expm1(y_predicted)\n",
    "    #y_actual = np.expm1(y_actual)\n",
    "    rmse = mean_squared_error(y_actual, y_predicted, squared=False)\n",
    "    rmse_scaled_to_demand = rmse / (np.sum(y_actual / y_actual.shape[0])) * 100\n",
    "    mse = mean_squared_error(y_actual, y_predicted, squared=True)\n",
    "    #mae = mean_absolute_error(y_actual, y_predicted)\n",
    "    mape = mean_absolute_percentage_error(y_actual, y_predicted)\n",
    "    scores = {rewrite_name(df_type, 'rmse'):rmse, rewrite_name(df_type, 'rmse_scaled_to_average_demand'):rmse_scaled_to_demand}\n",
    "    return scores\n",
    "\n",
    "def dataset_results(X,y, model, df_type):\n",
    "\n",
    "    y_pred = model.predict(X)\n",
    "    \n",
    "    return get_scores(y,y_pred,df_type)\n",
    "    \n",
    "    "
   ]
  },
  {
   "cell_type": "markdown",
   "id": "efeb5727",
   "metadata": {},
   "source": [
    "#### Final model trained using data from 2017-01-01 to 2019-02-28"
   ]
  },
  {
   "cell_type": "code",
   "execution_count": 129,
   "id": "dc30ba2b",
   "metadata": {},
   "outputs": [
    {
     "data": {
      "image/png": "[encoded data removed]",
      "text/plain": [
       "<Figure size 432x288 with 1 Axes>"
      ]
     },
     "metadata": {
      "needs_background": "light"
     },
     "output_type": "display_data"
    }
   ],
   "source": [
    "final_X, final_y = split_features_target(intial_df)\n",
    "ht.fit(final_X)\n",
    "final_X_transform = ht.transform(final_X)\n",
    "reg_normal = fit_model(final_X_transform,final_y, X_eval_transformed,y_eval, mlflow_log=True,experiment_name='warehouse_demand_forecasting',run_name=str(int(time.mktime(datetime.now().timetuple()))))\n",
    "reg_exponential_decay = fit_model_with_instance_weights(final_X_transform,final_y, X_eval_transformed,y_eval, -4, 2)\n",
    "reg_adaptive_window_6_month = adaptive_model_training (final_X_transform,final_y, X_eval_transformed,y_eval, 180)\n",
    "reg_adaptive_window_12_month = adaptive_model_training (final_X_transform,final_y, X_eval_transformed,y_eval, 365)"
   ]
  },
  {
   "cell_type": "code",
   "execution_count": 130,
   "id": "3aa9a45a",
   "metadata": {},
   "outputs": [
    {
     "data": {
      "text/html": [
       "<div>\n",
       "<style scoped>\n",
       "    .dataframe tbody tr th:only-of-type {\n",
       "        vertical-align: middle;\n",
       "    }\n",
       "\n",
       "    .dataframe tbody tr th {\n",
       "        vertical-align: top;\n",
       "    }\n",
       "\n",
       "    .dataframe thead th {\n",
       "        text-align: right;\n",
       "    }\n",
       "</style>\n",
       "<table border=\"1\" class=\"dataframe\">\n",
       "  <thead>\n",
       "    <tr style=\"text-align: right;\">\n",
       "      <th></th>\n",
       "      <th>date.value</th>\n",
       "      <th>warehouse_ID.value</th>\n",
       "      <th>Latitude.value</th>\n",
       "      <th>Longitude.value</th>\n",
       "      <th>Product_Type.value</th>\n",
       "      <th>year.value</th>\n",
       "      <th>month.value</th>\n",
       "      <th>is_weekend.value</th>\n",
       "      <th>is_warehouse_closed.value</th>\n",
       "      <th>week.value</th>\n",
       "      <th>...</th>\n",
       "      <th>statewise_land_area_per_sqmile.value</th>\n",
       "      <th>statewise_population_per_sqmile.value</th>\n",
       "      <th>statewise_geographic_region.value</th>\n",
       "      <th>geographic_region_division.value</th>\n",
       "      <th>statewise_median_age.value</th>\n",
       "      <th>statewise_median_household_income.value</th>\n",
       "      <th>total_count.value</th>\n",
       "      <th>yearly_count.value</th>\n",
       "      <th>monthly_count.value</th>\n",
       "      <th>weekly_count.value</th>\n",
       "    </tr>\n",
       "    <tr>\n",
       "      <th>ID</th>\n",
       "      <th></th>\n",
       "      <th></th>\n",
       "      <th></th>\n",
       "      <th></th>\n",
       "      <th></th>\n",
       "      <th></th>\n",
       "      <th></th>\n",
       "      <th></th>\n",
       "      <th></th>\n",
       "      <th></th>\n",
       "      <th></th>\n",
       "      <th></th>\n",
       "      <th></th>\n",
       "      <th></th>\n",
       "      <th></th>\n",
       "      <th></th>\n",
       "      <th></th>\n",
       "      <th></th>\n",
       "      <th></th>\n",
       "      <th></th>\n",
       "      <th></th>\n",
       "    </tr>\n",
       "  </thead>\n",
       "  <tbody>\n",
       "    <tr>\n",
       "      <th>0x2710</th>\n",
       "      <td>1.483229e+18</td>\n",
       "      <td>0.151804</td>\n",
       "      <td>41.681471</td>\n",
       "      <td>-72.794746</td>\n",
       "      <td>0.295842</td>\n",
       "      <td>2017</td>\n",
       "      <td>1</td>\n",
       "      <td>0.857966</td>\n",
       "      <td>0.5</td>\n",
       "      <td>52</td>\n",
       "      <td>...</td>\n",
       "      <td>4842</td>\n",
       "      <td>744.722016</td>\n",
       "      <td>0.667335</td>\n",
       "      <td>0.681864</td>\n",
       "      <td>41.2</td>\n",
       "      <td>78833</td>\n",
       "      <td>0</td>\n",
       "      <td>0</td>\n",
       "      <td>0</td>\n",
       "      <td>0</td>\n",
       "    </tr>\n",
       "    <tr>\n",
       "      <th>0x33e6</th>\n",
       "      <td>1.483229e+18</td>\n",
       "      <td>0.455411</td>\n",
       "      <td>38.749077</td>\n",
       "      <td>-105.183060</td>\n",
       "      <td>0.295842</td>\n",
       "      <td>2017</td>\n",
       "      <td>1</td>\n",
       "      <td>0.857966</td>\n",
       "      <td>0.5</td>\n",
       "      <td>52</td>\n",
       "      <td>...</td>\n",
       "      <td>103642</td>\n",
       "      <td>56.078318</td>\n",
       "      <td>0.257766</td>\n",
       "      <td>0.257766</td>\n",
       "      <td>37.3</td>\n",
       "      <td>41053</td>\n",
       "      <td>0</td>\n",
       "      <td>0</td>\n",
       "      <td>0</td>\n",
       "      <td>0</td>\n",
       "    </tr>\n",
       "    <tr>\n",
       "      <th>0x2711</th>\n",
       "      <td>1.483315e+18</td>\n",
       "      <td>0.151804</td>\n",
       "      <td>41.681471</td>\n",
       "      <td>-72.794746</td>\n",
       "      <td>0.295842</td>\n",
       "      <td>2017</td>\n",
       "      <td>1</td>\n",
       "      <td>0.357966</td>\n",
       "      <td>0.5</td>\n",
       "      <td>1</td>\n",
       "      <td>...</td>\n",
       "      <td>4842</td>\n",
       "      <td>744.722016</td>\n",
       "      <td>0.667335</td>\n",
       "      <td>0.681864</td>\n",
       "      <td>41.2</td>\n",
       "      <td>78833</td>\n",
       "      <td>1</td>\n",
       "      <td>1</td>\n",
       "      <td>1</td>\n",
       "      <td>0</td>\n",
       "    </tr>\n",
       "    <tr>\n",
       "      <th>0x33e7</th>\n",
       "      <td>1.483315e+18</td>\n",
       "      <td>0.455411</td>\n",
       "      <td>38.749077</td>\n",
       "      <td>-105.183060</td>\n",
       "      <td>0.295842</td>\n",
       "      <td>2017</td>\n",
       "      <td>1</td>\n",
       "      <td>0.357966</td>\n",
       "      <td>0.5</td>\n",
       "      <td>1</td>\n",
       "      <td>...</td>\n",
       "      <td>103642</td>\n",
       "      <td>56.078318</td>\n",
       "      <td>0.257766</td>\n",
       "      <td>0.257766</td>\n",
       "      <td>37.3</td>\n",
       "      <td>41053</td>\n",
       "      <td>1</td>\n",
       "      <td>1</td>\n",
       "      <td>1</td>\n",
       "      <td>0</td>\n",
       "    </tr>\n",
       "    <tr>\n",
       "      <th>0x2712</th>\n",
       "      <td>1.483402e+18</td>\n",
       "      <td>0.151804</td>\n",
       "      <td>41.681471</td>\n",
       "      <td>-72.794746</td>\n",
       "      <td>0.295842</td>\n",
       "      <td>2017</td>\n",
       "      <td>1</td>\n",
       "      <td>0.357966</td>\n",
       "      <td>0.5</td>\n",
       "      <td>1</td>\n",
       "      <td>...</td>\n",
       "      <td>4842</td>\n",
       "      <td>744.722016</td>\n",
       "      <td>0.667335</td>\n",
       "      <td>0.681864</td>\n",
       "      <td>41.2</td>\n",
       "      <td>78833</td>\n",
       "      <td>2</td>\n",
       "      <td>2</td>\n",
       "      <td>2</td>\n",
       "      <td>1</td>\n",
       "    </tr>\n",
       "  </tbody>\n",
       "</table>\n",
       "<p>5 rows × 31 columns</p>\n",
       "</div>"
      ],
      "text/plain": [
       "          date.value  warehouse_ID.value  Latitude.value  Longitude.value  \\\n",
       "ID                                                                          \n",
       "0x2710  1.483229e+18            0.151804       41.681471       -72.794746   \n",
       "0x33e6  1.483229e+18            0.455411       38.749077      -105.183060   \n",
       "0x2711  1.483315e+18            0.151804       41.681471       -72.794746   \n",
       "0x33e7  1.483315e+18            0.455411       38.749077      -105.183060   \n",
       "0x2712  1.483402e+18            0.151804       41.681471       -72.794746   \n",
       "\n",
       "        Product_Type.value  year.value  month.value  is_weekend.value  \\\n",
       "ID                                                                      \n",
       "0x2710            0.295842        2017            1          0.857966   \n",
       "0x33e6            0.295842        2017            1          0.857966   \n",
       "0x2711            0.295842        2017            1          0.357966   \n",
       "0x33e7            0.295842        2017            1          0.357966   \n",
       "0x2712            0.295842        2017            1          0.357966   \n",
       "\n",
       "        is_warehouse_closed.value  week.value  ...  \\\n",
       "ID                                             ...   \n",
       "0x2710                        0.5          52  ...   \n",
       "0x33e6                        0.5          52  ...   \n",
       "0x2711                        0.5           1  ...   \n",
       "0x33e7                        0.5           1  ...   \n",
       "0x2712                        0.5           1  ...   \n",
       "\n",
       "        statewise_land_area_per_sqmile.value  \\\n",
       "ID                                             \n",
       "0x2710                                  4842   \n",
       "0x33e6                                103642   \n",
       "0x2711                                  4842   \n",
       "0x33e7                                103642   \n",
       "0x2712                                  4842   \n",
       "\n",
       "        statewise_population_per_sqmile.value  \\\n",
       "ID                                              \n",
       "0x2710                             744.722016   \n",
       "0x33e6                              56.078318   \n",
       "0x2711                             744.722016   \n",
       "0x33e7                              56.078318   \n",
       "0x2712                             744.722016   \n",
       "\n",
       "        statewise_geographic_region.value  geographic_region_division.value  \\\n",
       "ID                                                                            \n",
       "0x2710                           0.667335                          0.681864   \n",
       "0x33e6                           0.257766                          0.257766   \n",
       "0x2711                           0.667335                          0.681864   \n",
       "0x33e7                           0.257766                          0.257766   \n",
       "0x2712                           0.667335                          0.681864   \n",
       "\n",
       "        statewise_median_age.value  statewise_median_household_income.value  \\\n",
       "ID                                                                            \n",
       "0x2710                        41.2                                    78833   \n",
       "0x33e6                        37.3                                    41053   \n",
       "0x2711                        41.2                                    78833   \n",
       "0x33e7                        37.3                                    41053   \n",
       "0x2712                        41.2                                    78833   \n",
       "\n",
       "        total_count.value  yearly_count.value  monthly_count.value  \\\n",
       "ID                                                                   \n",
       "0x2710                  0                   0                    0   \n",
       "0x33e6                  0                   0                    0   \n",
       "0x2711                  1                   1                    1   \n",
       "0x33e7                  1                   1                    1   \n",
       "0x2712                  2                   2                    2   \n",
       "\n",
       "        weekly_count.value  \n",
       "ID                          \n",
       "0x2710                   0  \n",
       "0x33e6                   0  \n",
       "0x2711                   0  \n",
       "0x33e7                   0  \n",
       "0x2712                   1  \n",
       "\n",
       "[5 rows x 31 columns]"
      ]
     },
     "execution_count": 130,
     "metadata": {},
     "output_type": "execute_result"
    }
   ],
   "source": [
    "final_X_transform.head()"
   ]
  },
  {
   "cell_type": "markdown",
   "id": "06ca9616",
   "metadata": {},
   "source": [
    "### Feature attribution weighted drift detection"
   ]
  },
  {
   "cell_type": "code",
   "execution_count": 131,
   "id": "7c90ef31",
   "metadata": {},
   "outputs": [],
   "source": [
    "def get_feature_importance(model, X):\n",
    "    # DF, based on which importance is checked\n",
    "\n",
    "    # Explain model predictions using shap library:\n",
    "    explainer = shap.TreeExplainer(model)\n",
    "    shap_scores = explainer.shap_values(X)\n",
    "\n",
    "    # mean of absolute shap values for every feature\n",
    "    mean_abs_shap_values = pd.Series(\n",
    "        np.abs(shap_scores).mean(axis=0),\n",
    "        index=X.columns).sort_values(ascending=False)\n",
    "    return mean_abs_shap_values"
   ]
  },
  {
   "cell_type": "code",
   "execution_count": 132,
   "id": "12b275d4",
   "metadata": {},
   "outputs": [],
   "source": [
    "def get_relative_feature_importance_to_max(feature_importance):\n",
    "    \n",
    "    # maximum feature importance\n",
    "    max_feature_importance = feature_importance.max()\n",
    "\n",
    "    # relative_feature_importance_to_max is relative feature importance w.r.t max_feature_importance\n",
    "    relative_feature_importance_to_max = feature_importance / max_feature_importance\n",
    "    return relative_feature_importance_to_max.to_dict()"
   ]
  },
  {
   "cell_type": "code",
   "execution_count": null,
   "id": "4b8b02f4",
   "metadata": {},
   "outputs": [],
   "source": [
    "numerical_features = [\n",
    "    'statewise_population_per_sqmile', 'state_cases', 'state_deaths'\n",
    "]\n",
    "numerical_features_value = [\n",
    "    feature + '.value' for feature in numerical_features\n",
    "]\n",
    "categorical_features = [\n",
    "    'warehouse_ID', 'Product_Type', 'is_weekend', 'is_warehouse_closed',\n",
    "    'state', 'day_of_week', 'is_holiday', 'county'\n",
    "]\n",
    "categorical_features_value = [\n",
    "    feature + '.value' for feature in categorical_features\n",
    "]\n",
    "column_mapping = ColumnMapping(id='ID',\n",
    "                               datetime='date',\n",
    "                               numerical_features=numerical_features_value,\n",
    "                               categorical_features=categorical_features_value,\n",
    "                               task='regression',\n",
    "                               target='daily_dispatch_count',\n",
    "                               prediction='y_pred')"
   ]
  },
  {
   "cell_type": "code",
   "execution_count": null,
   "id": "919f9d05",
   "metadata": {},
   "outputs": [],
   "source": [
    "def get_drift_profile(reference, production, profile, mlflow_log=False):\n",
    "\n",
    "    drift_profile = Profile(sections=[profile()])\n",
    "    drift_profile.calculate(reference,\n",
    "                                 production,\n",
    "                                 column_mapping=column_mapping)\n",
    "    report = drift_profile.json()\n",
    "    drift_profile_report = json.loads(report)\n",
    "    \n",
    "    if mlflow_log:\n",
    "        if profile == DataDriftProfileSection:\n",
    "            name = 'data_drift_profile'\n",
    "        elif profile == NumTargetDriftProfileSection:\n",
    "            name = 'num_target_drift_profile'\n",
    "        else:\n",
    "            pass\n",
    "        mlflow.log_dict(drift_profile_report, f\"{name}.json\")\n",
    "    \n",
    "    \n",
    "    return drift_profile_report"
   ]
  },
  {
   "cell_type": "code",
   "execution_count": null,
   "id": "ce721f93",
   "metadata": {},
   "outputs": [],
   "source": [
    "def get_data_drift(drift_profile):\n",
    "\n",
    "    drifts = []\n",
    "    for feature in column_mapping.numerical_features + column_mapping.categorical_features:\n",
    "        drifts.append(\n",
    "            (feature, drift_profile['data_drift']['data']['metrics'][feature]['drift_score'], \n",
    "             drift_profile['data_drift']['data']['metrics'][feature]['stattest_name'], \n",
    "             drift_profile['data_drift']['data']['metrics'][feature]['drift_detected']))\n",
    "    return  pd.DataFrame(\n",
    "        drifts,\n",
    "        columns=['feature', 'drift_score', 'stattest_name', 'drift_detected'])"
   ]
  },
  {
   "cell_type": "markdown",
   "id": "ef542f38",
   "metadata": {},
   "source": [
    "data_drift_profile = get_drift_profile(X_transformed.sample(300), X_eval_transformed.sample(300),\n",
    "                                           DataDriftProfileSection, mlflow_log=False)\n",
    "drift_scores = get_data_drift(data_drift_profile)"
   ]
  },
  {
   "cell_type": "code",
   "execution_count": 85,
   "id": "6389e86e",
   "metadata": {},
   "outputs": [],
   "source": [
    "def get_weighted_data_drift_score(drift, feature_importance, relative_feature_importance_to_max_dict, threshold, stattest_type):\n",
    "    \n",
    "    #feature_importance\n",
    "    drift['feature_importance'] = drift['feature'].map(feature_importance)\n",
    "    \n",
    "    # map relative feature importance\n",
    "    drift['relative_feature_importance'] = drift['feature'].map(relative_feature_importance_to_max_dict)\n",
    "    if stattest_type == 'p_value':\n",
    "        # relative feature importance weighted drift score\n",
    "        inverse_feature_importance_wrt_max_feature_importance = (drift.relative_feature_importance.max() / drift.relative_feature_importance)\n",
    "        drift['feature_importance_weighted_drift_score'] = (drift.drift_score * inverse_feature_importance_wrt_max_feature_importance).replace(np.inf, 1)\n",
    "        #drift['feature_importance_weighted_drift_score'] = drift.apply(lambda x:1 if x['relative_feature_importance']<=0.0 else x['feature_importance_weighted_drift_score'], axis=1)\n",
    "        # drift detection based on the weighted drift score based on threshold\n",
    "        drift['feature_importance_weighted_drift_detected'] = drift[\n",
    "            'feature_importance_weighted_drift_score'] < threshold\n",
    "    elif stattest_type == 'distance':\n",
    "        # relative feature importance weighted drift score\n",
    "        drift['feature_importance_weighted_drift_score'] = drift[\n",
    "            'relative_feature_importance'] * drift['drift_score']\n",
    "\n",
    "        # drift detection based on the weighted drift score based on threshold\n",
    "        drift['feature_importance_weighted_drift_detected'] = drift[\n",
    "            'feature_importance_weighted_drift_score'] > threshold\n",
    "    else:\n",
    "        raise ValueError(f'invalid stattype {stattest_type}')\n",
    "\n",
    "    return drift"
   ]
  },
  {
   "cell_type": "code",
   "execution_count": 86,
   "id": "f67fc66c",
   "metadata": {},
   "outputs": [],
   "source": [
    "def is_weighted_data_drift_detected(data_drift_profile, production,  model):\n",
    "    drift_detected = False\n",
    "    \n",
    "    feature_importance = get_feature_importance(model, production)\n",
    "    # relative feature importance based on mean shap values\n",
    "    relative_feature_importance_to_max_dict = get_relative_feature_importance_to_max(feature_importance)\n",
    "    drift_scores = get_data_drift(data_drift_profile)\n",
    "    stattest_type = drift_scores['stattest_name'].iloc[0].split()[1]\n",
    "    if stattest_type == 'p_value':\n",
    "        threshold = 0.05\n",
    "    else:\n",
    "        threshold = 0.1\n",
    "    weighted_drift_scores = get_weighted_data_drift_score(drift_scores, feature_importance, relative_feature_importance_to_max_dict,\n",
    "                                                     threshold, stattest_type)\n",
    "\n",
    "    if weighted_drift_scores['feature_importance_weighted_drift_detected'].sum(\n",
    "    ) > 0:\n",
    "        drift_detected = True\n",
    "    else:\n",
    "        drift_detected = False\n",
    "    return drift_detected, weighted_drift_scores"
   ]
  },
  {
   "cell_type": "code",
   "execution_count": 87,
   "id": "ff083a07",
   "metadata": {},
   "outputs": [],
   "source": [
    "def overlay_distribution(data1, data2, feature,  opacity=0.5, plot_display = True, mlflow_log=False):\n",
    "    normalization_type = 'probability density'\n",
    "    fig = go.Figure()\n",
    "    fig.add_trace(go.Histogram(x=data1, name=\"training\",\n",
    "                  histnorm=normalization_type))\n",
    "    fig.add_trace(go.Histogram(x=data2, name=\"production\",\n",
    "                  histnorm=normalization_type))\n",
    "    feature = feature.split('.')[0]\n",
    "    # Overlay both histograms\n",
    "    fig.update_layout(barmode='overlay', title=feature+\" Distribution\",\n",
    "                      xaxis_title=feature,\n",
    "                      yaxis_title=normalization_type, autosize=False,\n",
    "                      width=700,\n",
    "                      height=300)\n",
    "    # Reduce opacity to see both histograms\n",
    "    fig.update_traces(opacity=opacity)\n",
    "    if mlflow_log:\n",
    "        mlflow.log_figure(fig, f\"{feature}_Distribution.html\")\n",
    "    if plot_display:\n",
    "        fig.show()\n"
   ]
  },
  {
   "cell_type": "code",
   "execution_count": 88,
   "id": "f0f4ae38",
   "metadata": {},
   "outputs": [],
   "source": [
    "def display_drifted_features(reference, production, drift_df, plot_display = False, mlflow_log = False, verbose = True):\n",
    "    reference_rdt = ht.reverse_transform(reference)\n",
    "    production_rdt = ht.reverse_transform(production)\n",
    "    for index, row in drift_df.iterrows():\n",
    "        if row['feature_importance_weighted_drift_detected']:\n",
    "            if verbose:\n",
    "\n",
    "                logging.info(f\"drift detected for {row['feature']}\")\n",
    "                logging.info(f\"drift_score : {row['drift_score']}\")\n",
    "                logging.info(f\"stattest_name : {row['stattest_name']}\")\n",
    "                logging.info(f\"raw_feature_importance : {row['feature_importance']}\") \n",
    "                logging.info(f\"relative_feature_importance : {row['relative_feature_importance']}\") \n",
    "                logging.info(f\"feature_importance_weighted_drift_score : {row['feature_importance_weighted_drift_score']}\")\n",
    "            \n",
    "            overlay_distribution(reference_rdt[row['feature'].split('.')[0]], production_rdt[row['feature'].split('.')[0]], row['feature'], opacity = .4, \n",
    "            plot_display = plot_display, mlflow_log=True)\n",
    "        if mlflow_log:\n",
    "                mlflow.log_param(f\"{row['feature']}_feature_importance_weighted_drift_detected\", row['feature_importance_weighted_drift_detected'])\n",
    "                mlflow.log_param(f\"{row['feature']}_drift_score\", row['drift_score'])\n",
    "                mlflow.log_param(f\"{row['feature']}_stattest_name\", row['stattest_name'])\n",
    "                mlflow.log_param(f\"{row['feature']}_raw_feature_importance\", row['feature_importance'])\n",
    "                mlflow.log_param(f\"{row['feature']}_relative_feature_importance\", row['relative_feature_importance'])\n",
    "                mlflow.log_param(f\"{row['feature']}_feature_importance_weighted_drift_score\", row['feature_importance_weighted_drift_score'])\n",
    "\n",
    "    "
   ]
  },
  {
   "cell_type": "code",
   "execution_count": 89,
   "id": "37eebb67",
   "metadata": {},
   "outputs": [],
   "source": [
    "def display_target_drift(y_reference, y_production, target_name, target_drift_detected, drift_score, stattest_type, plot_display = False, mlflow_log = False, verbose=True):\n",
    "    if verbose:\n",
    "        logging.info(f\"Target drift detected for for {target_name}\")\n",
    "        logging.info(f\"drift_score : {drift_score}\")\n",
    "        logging.info(f\"stattest_name : {stattest_type}\")\n",
    "    if mlflow_log:\n",
    "        mlflow.log_param(f\"{target_name}_drift_detected\", target_drift_detected)\n",
    "        mlflow.log_param(f\"{target_name}_target_drift_score\", drift_score)\n",
    "        mlflow.log_param(f\"{target_name}_target_stattest_name\", stattest_type)\n",
    "    overlay_distribution(y_reference, y_production, target_name, opacity = .4, plot_display = plot_display, mlflow_log=True)\n",
    "            "
   ]
  },
  {
   "cell_type": "markdown",
   "id": "1b65acc7",
   "metadata": {},
   "source": [
    "#### Test for target drift"
   ]
  },
  {
   "cell_type": "code",
   "execution_count": 90,
   "id": "4ec5f57c",
   "metadata": {},
   "outputs": [],
   "source": [
    "def determine_test_type(reference):\n",
    "\n",
    "    num_data = reference.shape[0]\n",
    "\n",
    "    if num_data <= 1000:\n",
    "        return 'p_value'\n",
    "    else:\n",
    "        return 'distance'"
   ]
  },
  {
   "cell_type": "code",
   "execution_count": 91,
   "id": "c7a4ccc9",
   "metadata": {},
   "outputs": [],
   "source": [
    "def test_target_drift(X_reference, y_reference, X_production, y_production, plot_display = False, mlflow_log = False, verbose = True):\n",
    "    target_drift_detected = False\n",
    "    # get target drift report\n",
    "    if column_mapping.task == 'regression':\n",
    "        profile = NumTargetDriftProfileSection\n",
    "        drift_name = 'num_target_drift'\n",
    "    else:\n",
    "        pass\n",
    "    target_drift_profile = get_drift_profile(X_reference.join(y_reference), X_production.join(y_production), profile, mlflow_log)\n",
    "    \n",
    "    drift_score = target_drift_profile[drift_name]['data']['metrics']['target_drift']\n",
    "    target_name = target_drift_profile[drift_name]['data']['utility_columns']['target']\n",
    "    stattest_type = determine_test_type(X_reference)\n",
    "    if stattest_type == 'p_value':\n",
    "        threshold = 0.05\n",
    "        if drift_score <= threshold:\n",
    "\n",
    "            target_drift_detected = True\n",
    "\n",
    "    else:\n",
    "        threshold = 0.1\n",
    "        if drift_score >= threshold:\n",
    "\n",
    "            target_drift_detected = True\n",
    "   \n",
    "    if mlflow_log:\n",
    "        display_target_drift(y_reference, y_production, target_name, target_drift_detected, drift_score, stattest_type, plot_display, mlflow_log = True, verbose = verbose)\n",
    "    return target_drift_detected\n",
    "      "
   ]
  },
  {
   "cell_type": "code",
   "execution_count": 92,
   "id": "7deb4137",
   "metadata": {},
   "outputs": [],
   "source": [
    "def test_for_drift(X_reference, y_reference, X_production, y_production, model, plot_display = False, mlflow_log = False, verbose = True):\n",
    "\n",
    "    \n",
    "    target_drift_detected = test_target_drift(X_reference, y_reference, X_production, y_production, mlflow_log, verbose)\n",
    "\n",
    "    logging.info(f\"target drift detect: {target_drift_detected}\")\n",
    "    # get data drift report\n",
    "    data_drift_profile = get_drift_profile(X_reference, X_production,\n",
    "                                           DataDriftProfileSection, mlflow_log)\n",
    "    # data drift detected?\n",
    "    drift_detected, drift_df = is_weighted_data_drift_detected(data_drift_profile,\n",
    "                                                     X_production,  model)\n",
    "    \n",
    "    if drift_detected:\n",
    "        logging.info('data set drift detected')\n",
    "        display_drifted_features(X_reference, X_production, drift_df, plot_display, mlflow_log, verbose=verbose)\n",
    "    else:\n",
    "        logging.info('drift not detected')\n",
    "    drift_detected = drift_detected or target_drift_detected\n",
    "    return drift_detected"
   ]
  },
  {
   "cell_type": "code",
   "execution_count": 93,
   "id": "a7e03226",
   "metadata": {},
   "outputs": [],
   "source": [
    "@mlflow_runner\n",
    "def test_mlflow(experiment_name, run_name = None):\n",
    "    # Log parameters\n",
    "    mlflow.log_param(\"begin\", datetime(2020,1,2))\n",
    "    mlflow.log_param(\"end\", datetime(2022,1,2))\n",
    "    mlflow.log_dict(X_transformed.sample(500).to_dict(), 'input_features.json')\n",
    "    mlflow.log_dict(X_eval_transformed.sample(500).to_dict(), 'target.json')\n",
    "    return test_for_drift(X_transformed.sample(500), y.sample(500), X_eval_transformed.sample(500), y_eval.sample(500) ,reg_normal, plot_display = True, mlflow_log = True)\n"
   ]
  },
  {
   "cell_type": "code",
   "execution_count": 94,
   "id": "9c4b160c",
   "metadata": {},
   "outputs": [],
   "source": [
    "#test_mlflow(experiment_name = 'mlflow drift detection test', run_name=str(int(time.mktime(datetime.now().timetuple()))))"
   ]
  },
  {
   "cell_type": "markdown",
   "id": "54fd2d36",
   "metadata": {},
   "source": [
    "## Simulate model on data from 2019-03-01 to 2020-11-15"
   ]
  },
  {
   "cell_type": "code",
   "execution_count": 95,
   "id": "50130bfa",
   "metadata": {},
   "outputs": [],
   "source": [
    "simulate_df = df[df.date >= datetime(2019,3,1)]"
   ]
  },
  {
   "cell_type": "code",
   "execution_count": 96,
   "id": "45e01019",
   "metadata": {},
   "outputs": [],
   "source": [
    "@mlflow_runner\n",
    "def simulate_experiment_with_timeframe(df, X_train, y_train, reg_trained, preds, experiment_name, run_name, time_frame, run_num, exponential_decay = False, exp_decay_coeff = 0, bias=0, \n",
    "                                        adaptive_window = 0, plot_display =False, verbose = False):\n",
    "    \"\"\"\n",
    "    timeframe: weekly / monthly\n",
    "    \"\"\"\n",
    "    # Get tf data\n",
    "    #global final_X_transform\n",
    "    #global final_y\n",
    "    #global reg_final\n",
    "    row = df.iloc[0]\n",
    "    dt = row['date']\n",
    "    if time_frame == 'weekly':\n",
    "        start = (dt - timedelta(days=calendar.weekday(dt.year,dt.month,dt.day))).to_pydatetime()\n",
    "        end = start + timedelta(days=time_frame)\n",
    "    elif time_frame == 'monthly':\n",
    "        start = datetime(dt.year, dt.month, 1)\n",
    "        end = datetime(dt.year, dt.month, calendar.monthrange(dt.year, dt.month)[1])\n",
    "    sub_df = df.set_index('date')[start:end]\n",
    "    sub_df = sub_df.reset_index().set_index('ID')\n",
    "    df = df[(df.date.dt.date > end.date())]\n",
    "    print(f'Experiment of {time_frame} timeframe, run {run_num}')\n",
    "    print('---------------------------------')\n",
    "    print(f\"Experiment start date : {start}\")\n",
    "    print(f\"Experiment end_date : {end}\")\n",
    "    #mlflow.log_param('experiment_run_sequence',tf_run_sequence)\n",
    "    mlflow.log_param('experiment_start_date',start)\n",
    "    mlflow.log_param('experiment_end_date',end)\n",
    "    \n",
    "    # Transform sub_df to X, y\n",
    "    X_prod,y_prod = split_features_target(sub_df)\n",
    "    X_prod_transformed = ht.transform(X_prod)\n",
    "    \n",
    "    mlflow.log_dict(X_prod_transformed.to_dict(), 'input_features.json')\n",
    "    mlflow.log_dict(y_prod.to_dict(), 'target.json')\n",
    "    # tf_prediction\n",
    "    tf_predictions = reg_trained.predict(get_dmatrix(X_prod_transformed))\n",
    "    \n",
    "    mlflow.log_dict(pd.Series(tf_predictions,name=y_prod.name, index = y_prod.index).to_dict(),f'tf_{time_frame}_predictions.json')\n",
    "    # Predict for X,y\n",
    "    scores_dict = get_scores(y_prod,tf_predictions,f\"tf_{time_frame}\")\n",
    "    mlflow.log_metrics(scores_dict)\n",
    "    preds.extend(tf_predictions.tolist())\n",
    "    ht.fit(X_prod)\n",
    "    reference_data = X_train.sample(n = X_prod_transformed.shape[0])\n",
    "    reference_target = y_train.loc[y_train.index.isin(reference_data.index)].reindex(reference_data.index)\n",
    "    #print(reference_data.shape[0])\n",
    "    mlflow.log_param('experiment_data_size',reference_data.shape[0])\n",
    "    #print(reference_target.shape[0])\n",
    "    mlflow.log_param('experiment_target_size',reference_target.shape[0])\n",
    "    \n",
    "    if test_for_drift(reference_data, reference_target, X_prod_transformed, y_prod, reg_trained, plot_display, mlflow_log=True, verbose = verbose):\n",
    "        # retrain model\n",
    "        # test for drift an\n",
    "        if exponential_decay:\n",
    "            print('instance weight based retraining')\n",
    "            reg_trained = fit_model_with_instance_weights(X_train, y_train, X_prod_transformed, y_prod, exp_decay_coeff, bias, mlflow_log = False)\n",
    "        elif adaptive_window > 0:\n",
    "            print('adapative window based retraining')\n",
    "            reg_trained = adaptive_model_training(X_train, y_train, X_prod_transformed, y_prod , adaptive_window , mlflow_log = False)\n",
    "        else:\n",
    "            print('reg normal retraining')\n",
    "            reg_trained = fit_model(X_prod_transformed,y_prod, X_prod_transformed,y_prod, mlflow_log=False,experiment_name='warehouse_demand_forecasting',\n",
    "            run_name=str(int(time.mktime(datetime.now().timetuple()))), xgb_model = reg_trained)\n",
    "    else:\n",
    "        logging.info('No Drift detection')\n",
    "    X_train = X_train.append(X_prod_transformed)\n",
    "    y_train = y_train.append(y_prod)\n",
    "    #print(X_train.shape)\n",
    "    #print(y_train.shape)\n",
    "    return df, preds, X_train, y_train, reg_trained    "
   ]
  },
  {
   "cell_type": "code",
   "execution_count": 97,
   "id": "245dc46d",
   "metadata": {},
   "outputs": [],
   "source": [
    "def simulate_model(df, X_train, y_train, reg_trained, experiment_name, run_name, time_frame, exponential_decay = False, exp_decay_coeff = 0, bias=0, adaptive_window = 0, plot_display =False):\n",
    "    \"\"\"\n",
    "    timeframe: weekly / monthly\n",
    "    \"\"\"\n",
    "    preds = []\n",
    "    df = df.reset_index()\n",
    "    current_df = df\n",
    "    run_num = 1\n",
    "    run_name = f'run_tf_{time_frame}_{run_name}_{str(int(time.mktime(datetime.now().timetuple())))}'\n",
    "    while current_df.shape[0] > 0:\n",
    "        \n",
    "        current_df, preds, X_train, y_train, reg_trained = simulate_experiment_with_timeframe(current_df, X_train, y_train, reg_trained, preds, experiment_name = experiment_name,run_name = run_name, \n",
    "        time_frame = time_frame, run_num = run_num, exponential_decay = exponential_decay, exp_decay_coeff = exp_decay_coeff, bias = bias, adaptive_window = adaptive_window, plot_display = plot_display)\n",
    "        run_num +=1\n",
    "    return preds "
   ]
  },
  {
   "cell_type": "code",
   "execution_count": 98,
   "id": "dc3350e4",
   "metadata": {},
   "outputs": [
    {
     "name": "stdout",
     "output_type": "stream",
     "text": [
      "Experiment of monthly timeframe, run 1\n",
      "---------------------------------\n",
      "Experiment start date : 2019-03-01 00:00:00\n",
      "Experiment end_date : 2019-03-31 00:00:00\n"
     ]
    },
    {
     "name": "stderr",
     "output_type": "stream",
     "text": [
      "11:26:38 INFO:target drift detect: True\n",
      "11:26:38 INFO:data set drift detected\n"
     ]
    },
    {
     "name": "stdout",
     "output_type": "stream",
     "text": [
      "instance weight based retraining\n"
     ]
    },
    {
     "data": {
      "image/png": "[encoded data removed]",
      "text/plain": [
       "<Figure size 432x288 with 1 Axes>"
      ]
     },
     "metadata": {
      "needs_background": "light"
     },
     "output_type": "display_data"
    },
    {
     "name": "stdout",
     "output_type": "stream",
     "text": [
      "Experiment of monthly timeframe, run 2\n",
      "---------------------------------\n",
      "Experiment start date : 2019-04-01 00:00:00\n",
      "Experiment end_date : 2019-04-30 00:00:00\n"
     ]
    },
    {
     "name": "stderr",
     "output_type": "stream",
     "text": [
      "11:26:41 INFO:target drift detect: False\n",
      "11:26:41 INFO:data set drift detected\n"
     ]
    },
    {
     "name": "stdout",
     "output_type": "stream",
     "text": [
      "instance weight based retraining\n"
     ]
    },
    {
     "data": {
      "image/png": "[encoded data removed]",
      "text/plain": [
       "<Figure size 432x288 with 1 Axes>"
      ]
     },
     "metadata": {
      "needs_background": "light"
     },
     "output_type": "display_data"
    },
    {
     "name": "stdout",
     "output_type": "stream",
     "text": [
      "Experiment of monthly timeframe, run 3\n",
      "---------------------------------\n",
      "Experiment start date : 2019-05-01 00:00:00\n",
      "Experiment end_date : 2019-05-31 00:00:00\n"
     ]
    },
    {
     "name": "stderr",
     "output_type": "stream",
     "text": [
      "11:26:44 INFO:target drift detect: False\n",
      "11:26:45 INFO:data set drift detected\n"
     ]
    },
    {
     "name": "stdout",
     "output_type": "stream",
     "text": [
      "instance weight based retraining\n"
     ]
    },
    {
     "data": {
      "image/png": "[encoded data removed]",
      "text/plain": [
       "<Figure size 432x288 with 1 Axes>"
      ]
     },
     "metadata": {
      "needs_background": "light"
     },
     "output_type": "display_data"
    },
    {
     "name": "stdout",
     "output_type": "stream",
     "text": [
      "Experiment of monthly timeframe, run 4\n",
      "---------------------------------\n",
      "Experiment start date : 2019-06-01 00:00:00\n",
      "Experiment end_date : 2019-06-30 00:00:00\n"
     ]
    },
    {
     "name": "stderr",
     "output_type": "stream",
     "text": [
      "11:26:47 INFO:target drift detect: False\n",
      "11:26:47 INFO:data set drift detected\n"
     ]
    },
    {
     "name": "stdout",
     "output_type": "stream",
     "text": [
      "instance weight based retraining\n"
     ]
    },
    {
     "data": {
      "image/png": "[encoded data removed]",
      "text/plain": [
       "<Figure size 432x288 with 1 Axes>"
      ]
     },
     "metadata": {
      "needs_background": "light"
     },
     "output_type": "display_data"
    },
    {
     "name": "stdout",
     "output_type": "stream",
     "text": [
      "Experiment of monthly timeframe, run 5\n",
      "---------------------------------\n",
      "Experiment start date : 2019-07-01 00:00:00\n",
      "Experiment end_date : 2019-07-31 00:00:00\n"
     ]
    },
    {
     "name": "stderr",
     "output_type": "stream",
     "text": [
      "11:26:52 INFO:target drift detect: True\n",
      "11:26:52 INFO:data set drift detected\n"
     ]
    },
    {
     "name": "stdout",
     "output_type": "stream",
     "text": [
      "instance weight based retraining\n"
     ]
    },
    {
     "data": {
      "image/png": "[encoded data removed]",
      "text/plain": [
       "<Figure size 432x288 with 1 Axes>"
      ]
     },
     "metadata": {
      "needs_background": "light"
     },
     "output_type": "display_data"
    },
    {
     "name": "stdout",
     "output_type": "stream",
     "text": [
      "Experiment of monthly timeframe, run 6\n",
      "---------------------------------\n",
      "Experiment start date : 2019-08-01 00:00:00\n",
      "Experiment end_date : 2019-08-31 00:00:00\n"
     ]
    },
    {
     "name": "stderr",
     "output_type": "stream",
     "text": [
      "11:26:57 INFO:target drift detect: False\n",
      "11:26:57 INFO:data set drift detected\n"
     ]
    },
    {
     "name": "stdout",
     "output_type": "stream",
     "text": [
      "instance weight based retraining\n"
     ]
    },
    {
     "data": {
      "image/png": "[encoded data removed]",
      "text/plain": [
       "<Figure size 432x288 with 1 Axes>"
      ]
     },
     "metadata": {
      "needs_background": "light"
     },
     "output_type": "display_data"
    },
    {
     "name": "stdout",
     "output_type": "stream",
     "text": [
      "Experiment of monthly timeframe, run 7\n",
      "---------------------------------\n",
      "Experiment start date : 2019-09-01 00:00:00\n",
      "Experiment end_date : 2019-09-30 00:00:00\n"
     ]
    },
    {
     "name": "stderr",
     "output_type": "stream",
     "text": [
      "11:27:01 INFO:target drift detect: False\n",
      "11:27:01 INFO:data set drift detected\n"
     ]
    },
    {
     "name": "stdout",
     "output_type": "stream",
     "text": [
      "instance weight based retraining\n"
     ]
    },
    {
     "data": {
      "image/png": "[encoded data removed]",
      "text/plain": [
       "<Figure size 432x288 with 1 Axes>"
      ]
     },
     "metadata": {
      "needs_background": "light"
     },
     "output_type": "display_data"
    },
    {
     "name": "stdout",
     "output_type": "stream",
     "text": [
      "Experiment of monthly timeframe, run 8\n",
      "---------------------------------\n",
      "Experiment start date : 2019-10-01 00:00:00\n",
      "Experiment end_date : 2019-10-31 00:00:00\n"
     ]
    },
    {
     "name": "stderr",
     "output_type": "stream",
     "text": [
      "11:27:04 INFO:target drift detect: False\n",
      "11:27:04 INFO:data set drift detected\n"
     ]
    },
    {
     "name": "stdout",
     "output_type": "stream",
     "text": [
      "instance weight based retraining\n"
     ]
    },
    {
     "data": {
      "image/png": "[encoded data removed]",
      "text/plain": [
       "<Figure size 432x288 with 1 Axes>"
      ]
     },
     "metadata": {
      "needs_background": "light"
     },
     "output_type": "display_data"
    },
    {
     "name": "stdout",
     "output_type": "stream",
     "text": [
      "Experiment of monthly timeframe, run 9\n",
      "---------------------------------\n",
      "Experiment start date : 2019-11-01 00:00:00\n",
      "Experiment end_date : 2019-11-30 00:00:00\n"
     ]
    },
    {
     "name": "stderr",
     "output_type": "stream",
     "text": [
      "11:27:08 INFO:target drift detect: False\n",
      "11:27:08 INFO:data set drift detected\n"
     ]
    },
    {
     "name": "stdout",
     "output_type": "stream",
     "text": [
      "instance weight based retraining\n"
     ]
    },
    {
     "data": {
      "image/png": "[encoded data removed]",
      "text/plain": [
       "<Figure size 432x288 with 1 Axes>"
      ]
     },
     "metadata": {
      "needs_background": "light"
     },
     "output_type": "display_data"
    },
    {
     "name": "stdout",
     "output_type": "stream",
     "text": [
      "Experiment of monthly timeframe, run 10\n",
      "---------------------------------\n",
      "Experiment start date : 2019-12-01 00:00:00\n",
      "Experiment end_date : 2019-12-31 00:00:00\n"
     ]
    },
    {
     "name": "stderr",
     "output_type": "stream",
     "text": [
      "11:27:11 INFO:target drift detect: True\n",
      "11:27:11 INFO:data set drift detected\n"
     ]
    },
    {
     "name": "stdout",
     "output_type": "stream",
     "text": [
      "instance weight based retraining\n"
     ]
    },
    {
     "data": {
      "image/png": "[encoded data removed]",
      "text/plain": [
       "<Figure size 432x288 with 1 Axes>"
      ]
     },
     "metadata": {
      "needs_background": "light"
     },
     "output_type": "display_data"
    },
    {
     "name": "stdout",
     "output_type": "stream",
     "text": [
      "Experiment of monthly timeframe, run 11\n",
      "---------------------------------\n",
      "Experiment start date : 2020-01-01 00:00:00\n",
      "Experiment end_date : 2020-01-31 00:00:00\n"
     ]
    },
    {
     "name": "stderr",
     "output_type": "stream",
     "text": [
      "11:27:15 INFO:target drift detect: True\n",
      "11:27:15 INFO:data set drift detected\n"
     ]
    },
    {
     "name": "stdout",
     "output_type": "stream",
     "text": [
      "instance weight based retraining\n"
     ]
    },
    {
     "data": {
      "image/png": "[encoded data removed]",
      "text/plain": [
       "<Figure size 432x288 with 1 Axes>"
      ]
     },
     "metadata": {
      "needs_background": "light"
     },
     "output_type": "display_data"
    },
    {
     "name": "stdout",
     "output_type": "stream",
     "text": [
      "Experiment of monthly timeframe, run 12\n",
      "---------------------------------\n",
      "Experiment start date : 2020-02-01 00:00:00\n",
      "Experiment end_date : 2020-02-29 00:00:00\n"
     ]
    },
    {
     "name": "stderr",
     "output_type": "stream",
     "text": [
      "11:27:19 INFO:target drift detect: True\n",
      "11:27:19 INFO:data set drift detected\n"
     ]
    },
    {
     "name": "stdout",
     "output_type": "stream",
     "text": [
      "instance weight based retraining\n"
     ]
    },
    {
     "data": {
      "image/png": "[encoded data removed]",
      "text/plain": [
       "<Figure size 432x288 with 1 Axes>"
      ]
     },
     "metadata": {
      "needs_background": "light"
     },
     "output_type": "display_data"
    },
    {
     "name": "stdout",
     "output_type": "stream",
     "text": [
      "Experiment of monthly timeframe, run 13\n",
      "---------------------------------\n",
      "Experiment start date : 2020-03-01 00:00:00\n",
      "Experiment end_date : 2020-03-31 00:00:00\n"
     ]
    },
    {
     "name": "stderr",
     "output_type": "stream",
     "text": [
      "11:27:22 INFO:target drift detect: True\n",
      "11:27:22 INFO:data set drift detected\n"
     ]
    },
    {
     "name": "stdout",
     "output_type": "stream",
     "text": [
      "instance weight based retraining\n"
     ]
    },
    {
     "data": {
      "image/png": "[encoded data removed]",
      "text/plain": [
       "<Figure size 432x288 with 1 Axes>"
      ]
     },
     "metadata": {
      "needs_background": "light"
     },
     "output_type": "display_data"
    },
    {
     "name": "stdout",
     "output_type": "stream",
     "text": [
      "Experiment of monthly timeframe, run 14\n",
      "---------------------------------\n",
      "Experiment start date : 2020-04-01 00:00:00\n",
      "Experiment end_date : 2020-04-30 00:00:00\n"
     ]
    },
    {
     "name": "stderr",
     "output_type": "stream",
     "text": [
      "11:27:28 INFO:target drift detect: True\n",
      "11:27:28 INFO:data set drift detected\n"
     ]
    },
    {
     "name": "stdout",
     "output_type": "stream",
     "text": [
      "instance weight based retraining\n"
     ]
    },
    {
     "data": {
      "image/png": "[encoded data removed]",
      "text/plain": [
       "<Figure size 432x288 with 1 Axes>"
      ]
     },
     "metadata": {
      "needs_background": "light"
     },
     "output_type": "display_data"
    },
    {
     "name": "stdout",
     "output_type": "stream",
     "text": [
      "Experiment of monthly timeframe, run 15\n",
      "---------------------------------\n",
      "Experiment start date : 2020-05-01 00:00:00\n",
      "Experiment end_date : 2020-05-31 00:00:00\n"
     ]
    },
    {
     "name": "stderr",
     "output_type": "stream",
     "text": [
      "11:27:30 INFO:target drift detect: True\n",
      "11:27:31 INFO:data set drift detected\n"
     ]
    },
    {
     "name": "stdout",
     "output_type": "stream",
     "text": [
      "instance weight based retraining\n"
     ]
    },
    {
     "data": {
      "image/png": "[encoded data removed]",
      "text/plain": [
       "<Figure size 432x288 with 1 Axes>"
      ]
     },
     "metadata": {
      "needs_background": "light"
     },
     "output_type": "display_data"
    },
    {
     "name": "stdout",
     "output_type": "stream",
     "text": [
      "Experiment of monthly timeframe, run 16\n",
      "---------------------------------\n",
      "Experiment start date : 2020-06-01 00:00:00\n",
      "Experiment end_date : 2020-06-30 00:00:00\n"
     ]
    },
    {
     "name": "stderr",
     "output_type": "stream",
     "text": [
      "11:27:37 INFO:target drift detect: True\n",
      "11:27:37 INFO:data set drift detected\n"
     ]
    },
    {
     "name": "stdout",
     "output_type": "stream",
     "text": [
      "instance weight based retraining\n"
     ]
    },
    {
     "data": {
      "image/png": "[encoded data removed]",
      "text/plain": [
       "<Figure size 432x288 with 1 Axes>"
      ]
     },
     "metadata": {
      "needs_background": "light"
     },
     "output_type": "display_data"
    },
    {
     "name": "stdout",
     "output_type": "stream",
     "text": [
      "Experiment of monthly timeframe, run 17\n",
      "---------------------------------\n",
      "Experiment start date : 2020-07-01 00:00:00\n",
      "Experiment end_date : 2020-07-31 00:00:00\n"
     ]
    },
    {
     "name": "stderr",
     "output_type": "stream",
     "text": [
      "11:27:42 INFO:target drift detect: True\n",
      "11:27:43 INFO:data set drift detected\n"
     ]
    },
    {
     "name": "stdout",
     "output_type": "stream",
     "text": [
      "instance weight based retraining\n"
     ]
    },
    {
     "data": {
      "image/png": "[encoded data removed]",
      "text/plain": [
       "<Figure size 432x288 with 1 Axes>"
      ]
     },
     "metadata": {
      "needs_background": "light"
     },
     "output_type": "display_data"
    },
    {
     "name": "stdout",
     "output_type": "stream",
     "text": [
      "Experiment of monthly timeframe, run 18\n",
      "---------------------------------\n",
      "Experiment start date : 2020-08-01 00:00:00\n",
      "Experiment end_date : 2020-08-31 00:00:00\n"
     ]
    },
    {
     "name": "stderr",
     "output_type": "stream",
     "text": [
      "11:27:48 INFO:target drift detect: True\n",
      "11:27:48 INFO:data set drift detected\n"
     ]
    },
    {
     "name": "stdout",
     "output_type": "stream",
     "text": [
      "instance weight based retraining\n"
     ]
    },
    {
     "data": {
      "image/png": "[encoded data removed]",
      "text/plain": [
       "<Figure size 432x288 with 1 Axes>"
      ]
     },
     "metadata": {
      "needs_background": "light"
     },
     "output_type": "display_data"
    },
    {
     "name": "stdout",
     "output_type": "stream",
     "text": [
      "Experiment of monthly timeframe, run 19\n",
      "---------------------------------\n",
      "Experiment start date : 2020-09-01 00:00:00\n",
      "Experiment end_date : 2020-09-30 00:00:00\n"
     ]
    },
    {
     "name": "stderr",
     "output_type": "stream",
     "text": [
      "11:27:53 INFO:target drift detect: True\n",
      "11:27:53 INFO:data set drift detected\n"
     ]
    },
    {
     "name": "stdout",
     "output_type": "stream",
     "text": [
      "instance weight based retraining\n"
     ]
    },
    {
     "data": {
      "image/png": "[encoded data removed]",
      "text/plain": [
       "<Figure size 432x288 with 1 Axes>"
      ]
     },
     "metadata": {
      "needs_background": "light"
     },
     "output_type": "display_data"
    },
    {
     "name": "stdout",
     "output_type": "stream",
     "text": [
      "Experiment of monthly timeframe, run 20\n",
      "---------------------------------\n",
      "Experiment start date : 2020-10-01 00:00:00\n",
      "Experiment end_date : 2020-10-31 00:00:00\n"
     ]
    },
    {
     "name": "stderr",
     "output_type": "stream",
     "text": [
      "11:27:56 INFO:target drift detect: True\n",
      "11:27:56 INFO:data set drift detected\n"
     ]
    },
    {
     "name": "stdout",
     "output_type": "stream",
     "text": [
      "instance weight based retraining\n"
     ]
    },
    {
     "data": {
      "image/png": "[encoded data removed]",
      "text/plain": [
       "<Figure size 432x288 with 1 Axes>"
      ]
     },
     "metadata": {
      "needs_background": "light"
     },
     "output_type": "display_data"
    },
    {
     "name": "stdout",
     "output_type": "stream",
     "text": [
      "Experiment of monthly timeframe, run 21\n",
      "---------------------------------\n",
      "Experiment start date : 2020-11-01 00:00:00\n",
      "Experiment end_date : 2020-11-30 00:00:00\n"
     ]
    },
    {
     "name": "stderr",
     "output_type": "stream",
     "text": [
      "11:28:03 INFO:target drift detect: True\n",
      "11:28:03 INFO:data set drift detected\n"
     ]
    },
    {
     "name": "stdout",
     "output_type": "stream",
     "text": [
      "instance weight based retraining\n"
     ]
    },
    {
     "data": {
      "image/png": "[encoded data removed]",
      "text/plain": [
       "<Figure size 432x288 with 1 Axes>"
      ]
     },
     "metadata": {
      "needs_background": "light"
     },
     "output_type": "display_data"
    }
   ],
   "source": [
    "preds = simulate_model(simulate_df, final_X_transform, final_y, reg_exponential_decay, experiment_name='drift_solutions_experimentation', \n",
    "                        run_name='run_tf_monthly_retrain_model_with_instance_weights_when_drift_detected',time_frame = 'monthly', exponential_decay = True, exp_decay_coeff = -4, bias = 2)"
   ]
  },
  {
   "cell_type": "code",
   "execution_count": 99,
   "id": "ffc6906a",
   "metadata": {},
   "outputs": [
    {
     "name": "stdout",
     "output_type": "stream",
     "text": [
      "Experiment of monthly timeframe, run 1\n",
      "---------------------------------\n",
      "Experiment start date : 2019-03-01 00:00:00\n",
      "Experiment end_date : 2019-03-31 00:00:00\n"
     ]
    },
    {
     "name": "stderr",
     "output_type": "stream",
     "text": [
      "11:28:08 INFO:target drift detect: True\n",
      "11:28:08 INFO:data set drift detected\n"
     ]
    },
    {
     "name": "stdout",
     "output_type": "stream",
     "text": [
      "adapative window based retraining\n",
      "Experiment of monthly timeframe, run 2\n",
      "---------------------------------\n",
      "Experiment start date : 2019-04-01 00:00:00\n",
      "Experiment end_date : 2019-04-30 00:00:00\n"
     ]
    },
    {
     "name": "stderr",
     "output_type": "stream",
     "text": [
      "11:28:10 INFO:target drift detect: False\n",
      "11:28:10 INFO:data set drift detected\n"
     ]
    },
    {
     "name": "stdout",
     "output_type": "stream",
     "text": [
      "adapative window based retraining\n",
      "Experiment of monthly timeframe, run 3\n",
      "---------------------------------\n",
      "Experiment start date : 2019-05-01 00:00:00\n",
      "Experiment end_date : 2019-05-31 00:00:00\n"
     ]
    },
    {
     "name": "stderr",
     "output_type": "stream",
     "text": [
      "11:28:13 INFO:target drift detect: False\n",
      "11:28:13 INFO:data set drift detected\n"
     ]
    },
    {
     "name": "stdout",
     "output_type": "stream",
     "text": [
      "adapative window based retraining\n",
      "Experiment of monthly timeframe, run 4\n",
      "---------------------------------\n",
      "Experiment start date : 2019-06-01 00:00:00\n",
      "Experiment end_date : 2019-06-30 00:00:00\n"
     ]
    },
    {
     "name": "stderr",
     "output_type": "stream",
     "text": [
      "11:28:15 INFO:target drift detect: False\n",
      "11:28:16 INFO:data set drift detected\n"
     ]
    },
    {
     "name": "stdout",
     "output_type": "stream",
     "text": [
      "adapative window based retraining\n",
      "Experiment of monthly timeframe, run 5\n",
      "---------------------------------\n",
      "Experiment start date : 2019-07-01 00:00:00\n",
      "Experiment end_date : 2019-07-31 00:00:00\n"
     ]
    },
    {
     "name": "stderr",
     "output_type": "stream",
     "text": [
      "11:28:18 INFO:target drift detect: True\n",
      "11:28:18 INFO:data set drift detected\n"
     ]
    },
    {
     "name": "stdout",
     "output_type": "stream",
     "text": [
      "adapative window based retraining\n",
      "Experiment of monthly timeframe, run 6\n",
      "---------------------------------\n",
      "Experiment start date : 2019-08-01 00:00:00\n",
      "Experiment end_date : 2019-08-31 00:00:00\n"
     ]
    },
    {
     "name": "stderr",
     "output_type": "stream",
     "text": [
      "11:28:20 INFO:target drift detect: False\n",
      "11:28:20 INFO:data set drift detected\n"
     ]
    },
    {
     "name": "stdout",
     "output_type": "stream",
     "text": [
      "adapative window based retraining\n",
      "Experiment of monthly timeframe, run 7\n",
      "---------------------------------\n",
      "Experiment start date : 2019-09-01 00:00:00\n",
      "Experiment end_date : 2019-09-30 00:00:00\n"
     ]
    },
    {
     "name": "stderr",
     "output_type": "stream",
     "text": [
      "11:28:22 INFO:target drift detect: False\n",
      "11:28:22 INFO:data set drift detected\n"
     ]
    },
    {
     "name": "stdout",
     "output_type": "stream",
     "text": [
      "adapative window based retraining\n",
      "Experiment of monthly timeframe, run 8\n",
      "---------------------------------\n",
      "Experiment start date : 2019-10-01 00:00:00\n",
      "Experiment end_date : 2019-10-31 00:00:00\n"
     ]
    },
    {
     "name": "stderr",
     "output_type": "stream",
     "text": [
      "11:28:24 INFO:target drift detect: False\n",
      "11:28:24 INFO:data set drift detected\n"
     ]
    },
    {
     "name": "stdout",
     "output_type": "stream",
     "text": [
      "adapative window based retraining\n",
      "Experiment of monthly timeframe, run 9\n",
      "---------------------------------\n",
      "Experiment start date : 2019-11-01 00:00:00\n",
      "Experiment end_date : 2019-11-30 00:00:00\n"
     ]
    },
    {
     "name": "stderr",
     "output_type": "stream",
     "text": [
      "11:28:28 INFO:target drift detect: False\n",
      "11:28:28 INFO:data set drift detected\n"
     ]
    },
    {
     "name": "stdout",
     "output_type": "stream",
     "text": [
      "adapative window based retraining\n",
      "Experiment of monthly timeframe, run 10\n",
      "---------------------------------\n",
      "Experiment start date : 2019-12-01 00:00:00\n",
      "Experiment end_date : 2019-12-31 00:00:00\n"
     ]
    },
    {
     "name": "stderr",
     "output_type": "stream",
     "text": [
      "11:28:31 INFO:target drift detect: True\n",
      "11:28:31 INFO:data set drift detected\n"
     ]
    },
    {
     "name": "stdout",
     "output_type": "stream",
     "text": [
      "adapative window based retraining\n",
      "Experiment of monthly timeframe, run 11\n",
      "---------------------------------\n",
      "Experiment start date : 2020-01-01 00:00:00\n",
      "Experiment end_date : 2020-01-31 00:00:00\n"
     ]
    },
    {
     "name": "stderr",
     "output_type": "stream",
     "text": [
      "11:28:34 INFO:target drift detect: True\n",
      "11:28:34 INFO:data set drift detected\n"
     ]
    },
    {
     "name": "stdout",
     "output_type": "stream",
     "text": [
      "adapative window based retraining\n",
      "Experiment of monthly timeframe, run 12\n",
      "---------------------------------\n",
      "Experiment start date : 2020-02-01 00:00:00\n",
      "Experiment end_date : 2020-02-29 00:00:00\n"
     ]
    },
    {
     "name": "stderr",
     "output_type": "stream",
     "text": [
      "11:28:36 INFO:target drift detect: True\n",
      "11:28:37 INFO:data set drift detected\n"
     ]
    },
    {
     "name": "stdout",
     "output_type": "stream",
     "text": [
      "adapative window based retraining\n",
      "Experiment of monthly timeframe, run 13\n",
      "---------------------------------\n",
      "Experiment start date : 2020-03-01 00:00:00\n",
      "Experiment end_date : 2020-03-31 00:00:00\n"
     ]
    },
    {
     "name": "stderr",
     "output_type": "stream",
     "text": [
      "11:28:39 INFO:target drift detect: True\n",
      "11:28:39 INFO:data set drift detected\n"
     ]
    },
    {
     "name": "stdout",
     "output_type": "stream",
     "text": [
      "adapative window based retraining\n",
      "Experiment of monthly timeframe, run 14\n",
      "---------------------------------\n",
      "Experiment start date : 2020-04-01 00:00:00\n",
      "Experiment end_date : 2020-04-30 00:00:00\n"
     ]
    },
    {
     "name": "stderr",
     "output_type": "stream",
     "text": [
      "11:28:42 INFO:target drift detect: True\n",
      "11:28:42 INFO:data set drift detected\n"
     ]
    },
    {
     "name": "stdout",
     "output_type": "stream",
     "text": [
      "adapative window based retraining\n",
      "Experiment of monthly timeframe, run 15\n",
      "---------------------------------\n",
      "Experiment start date : 2020-05-01 00:00:00\n",
      "Experiment end_date : 2020-05-31 00:00:00\n"
     ]
    },
    {
     "name": "stderr",
     "output_type": "stream",
     "text": [
      "11:28:46 INFO:target drift detect: True\n",
      "11:28:46 INFO:data set drift detected\n"
     ]
    },
    {
     "name": "stdout",
     "output_type": "stream",
     "text": [
      "adapative window based retraining\n",
      "Experiment of monthly timeframe, run 16\n",
      "---------------------------------\n",
      "Experiment start date : 2020-06-01 00:00:00\n",
      "Experiment end_date : 2020-06-30 00:00:00\n"
     ]
    },
    {
     "name": "stderr",
     "output_type": "stream",
     "text": [
      "11:28:48 INFO:target drift detect: True\n",
      "11:28:49 INFO:data set drift detected\n"
     ]
    },
    {
     "name": "stdout",
     "output_type": "stream",
     "text": [
      "adapative window based retraining\n",
      "Experiment of monthly timeframe, run 17\n",
      "---------------------------------\n",
      "Experiment start date : 2020-07-01 00:00:00\n",
      "Experiment end_date : 2020-07-31 00:00:00\n"
     ]
    },
    {
     "name": "stderr",
     "output_type": "stream",
     "text": [
      "11:28:52 INFO:target drift detect: True\n",
      "11:28:53 INFO:data set drift detected\n"
     ]
    },
    {
     "name": "stdout",
     "output_type": "stream",
     "text": [
      "adapative window based retraining\n",
      "Experiment of monthly timeframe, run 18\n",
      "---------------------------------\n",
      "Experiment start date : 2020-08-01 00:00:00\n",
      "Experiment end_date : 2020-08-31 00:00:00\n"
     ]
    },
    {
     "name": "stderr",
     "output_type": "stream",
     "text": [
      "11:28:56 INFO:target drift detect: True\n",
      "11:28:57 INFO:data set drift detected\n"
     ]
    },
    {
     "name": "stdout",
     "output_type": "stream",
     "text": [
      "adapative window based retraining\n",
      "Experiment of monthly timeframe, run 19\n",
      "---------------------------------\n",
      "Experiment start date : 2020-09-01 00:00:00\n",
      "Experiment end_date : 2020-09-30 00:00:00\n"
     ]
    },
    {
     "name": "stderr",
     "output_type": "stream",
     "text": [
      "11:28:59 INFO:target drift detect: True\n",
      "11:28:59 INFO:data set drift detected\n"
     ]
    },
    {
     "name": "stdout",
     "output_type": "stream",
     "text": [
      "adapative window based retraining\n",
      "Experiment of monthly timeframe, run 20\n",
      "---------------------------------\n",
      "Experiment start date : 2020-10-01 00:00:00\n",
      "Experiment end_date : 2020-10-31 00:00:00\n"
     ]
    },
    {
     "name": "stderr",
     "output_type": "stream",
     "text": [
      "11:29:04 INFO:target drift detect: True\n",
      "11:29:04 INFO:data set drift detected\n"
     ]
    },
    {
     "name": "stdout",
     "output_type": "stream",
     "text": [
      "adapative window based retraining\n",
      "Experiment of monthly timeframe, run 21\n",
      "---------------------------------\n",
      "Experiment start date : 2020-11-01 00:00:00\n",
      "Experiment end_date : 2020-11-30 00:00:00\n"
     ]
    },
    {
     "name": "stderr",
     "output_type": "stream",
     "text": [
      "11:29:07 INFO:target drift detect: True\n",
      "11:29:07 INFO:data set drift detected\n"
     ]
    },
    {
     "name": "stdout",
     "output_type": "stream",
     "text": [
      "adapative window based retraining\n"
     ]
    }
   ],
   "source": [
    "preds = simulate_model(simulate_df, final_X_transform, final_y, reg_normal, experiment_name='drift_solutions_experimentation', run_name='retrain_model_when_drift_detected_adaptive_window_12_month',\n",
    "                        time_frame = 'monthly', adaptive_window = 365)"
   ]
  },
  {
   "cell_type": "code",
   "execution_count": 100,
   "id": "b03a0656",
   "metadata": {},
   "outputs": [
    {
     "name": "stdout",
     "output_type": "stream",
     "text": [
      "Experiment of monthly timeframe, run 1\n",
      "---------------------------------\n",
      "Experiment start date : 2019-03-01 00:00:00\n",
      "Experiment end_date : 2019-03-31 00:00:00\n"
     ]
    },
    {
     "name": "stderr",
     "output_type": "stream",
     "text": [
      "11:29:10 INFO:target drift detect: True\n",
      "11:29:10 INFO:data set drift detected\n"
     ]
    },
    {
     "name": "stdout",
     "output_type": "stream",
     "text": [
      "reg normal retraining\n",
      "Experiment of monthly timeframe, run 2\n",
      "---------------------------------\n",
      "Experiment start date : 2019-04-01 00:00:00\n",
      "Experiment end_date : 2019-04-30 00:00:00\n"
     ]
    },
    {
     "name": "stderr",
     "output_type": "stream",
     "text": [
      "11:29:11 INFO:target drift detect: False\n",
      "11:29:12 INFO:data set drift detected\n"
     ]
    },
    {
     "name": "stdout",
     "output_type": "stream",
     "text": [
      "reg normal retraining\n",
      "Experiment of monthly timeframe, run 3\n",
      "---------------------------------\n",
      "Experiment start date : 2019-05-01 00:00:00\n",
      "Experiment end_date : 2019-05-31 00:00:00\n"
     ]
    },
    {
     "name": "stderr",
     "output_type": "stream",
     "text": [
      "11:29:15 INFO:target drift detect: False\n",
      "11:29:15 INFO:data set drift detected\n"
     ]
    },
    {
     "name": "stdout",
     "output_type": "stream",
     "text": [
      "reg normal retraining\n",
      "Experiment of monthly timeframe, run 4\n",
      "---------------------------------\n",
      "Experiment start date : 2019-06-01 00:00:00\n",
      "Experiment end_date : 2019-06-30 00:00:00\n"
     ]
    },
    {
     "name": "stderr",
     "output_type": "stream",
     "text": [
      "11:29:18 INFO:target drift detect: False\n",
      "11:29:18 INFO:data set drift detected\n"
     ]
    },
    {
     "name": "stdout",
     "output_type": "stream",
     "text": [
      "reg normal retraining\n",
      "Experiment of monthly timeframe, run 5\n",
      "---------------------------------\n",
      "Experiment start date : 2019-07-01 00:00:00\n",
      "Experiment end_date : 2019-07-31 00:00:00\n"
     ]
    },
    {
     "name": "stderr",
     "output_type": "stream",
     "text": [
      "11:29:21 INFO:target drift detect: True\n",
      "11:29:21 INFO:data set drift detected\n"
     ]
    },
    {
     "name": "stdout",
     "output_type": "stream",
     "text": [
      "reg normal retraining\n",
      "Experiment of monthly timeframe, run 6\n",
      "---------------------------------\n",
      "Experiment start date : 2019-08-01 00:00:00\n",
      "Experiment end_date : 2019-08-31 00:00:00\n"
     ]
    },
    {
     "name": "stderr",
     "output_type": "stream",
     "text": [
      "11:29:23 INFO:target drift detect: False\n",
      "11:29:23 INFO:data set drift detected\n"
     ]
    },
    {
     "name": "stdout",
     "output_type": "stream",
     "text": [
      "reg normal retraining\n",
      "Experiment of monthly timeframe, run 7\n",
      "---------------------------------\n",
      "Experiment start date : 2019-09-01 00:00:00\n",
      "Experiment end_date : 2019-09-30 00:00:00\n"
     ]
    },
    {
     "name": "stderr",
     "output_type": "stream",
     "text": [
      "11:29:25 INFO:target drift detect: False\n",
      "11:29:25 INFO:data set drift detected\n"
     ]
    },
    {
     "name": "stdout",
     "output_type": "stream",
     "text": [
      "reg normal retraining\n",
      "Experiment of monthly timeframe, run 8\n",
      "---------------------------------\n",
      "Experiment start date : 2019-10-01 00:00:00\n",
      "Experiment end_date : 2019-10-31 00:00:00\n"
     ]
    },
    {
     "name": "stderr",
     "output_type": "stream",
     "text": [
      "11:29:27 INFO:target drift detect: False\n",
      "11:29:28 INFO:data set drift detected\n"
     ]
    },
    {
     "name": "stdout",
     "output_type": "stream",
     "text": [
      "reg normal retraining\n",
      "Experiment of monthly timeframe, run 9\n",
      "---------------------------------\n",
      "Experiment start date : 2019-11-01 00:00:00\n",
      "Experiment end_date : 2019-11-30 00:00:00\n"
     ]
    },
    {
     "name": "stderr",
     "output_type": "stream",
     "text": [
      "11:29:30 INFO:target drift detect: False\n",
      "11:29:31 INFO:data set drift detected\n"
     ]
    },
    {
     "name": "stdout",
     "output_type": "stream",
     "text": [
      "reg normal retraining\n",
      "Experiment of monthly timeframe, run 10\n",
      "---------------------------------\n",
      "Experiment start date : 2019-12-01 00:00:00\n",
      "Experiment end_date : 2019-12-31 00:00:00\n"
     ]
    },
    {
     "name": "stderr",
     "output_type": "stream",
     "text": [
      "11:29:33 INFO:target drift detect: True\n",
      "11:29:33 INFO:data set drift detected\n"
     ]
    },
    {
     "name": "stdout",
     "output_type": "stream",
     "text": [
      "reg normal retraining\n",
      "Experiment of monthly timeframe, run 11\n",
      "---------------------------------\n",
      "Experiment start date : 2020-01-01 00:00:00\n",
      "Experiment end_date : 2020-01-31 00:00:00\n"
     ]
    },
    {
     "name": "stderr",
     "output_type": "stream",
     "text": [
      "11:29:36 INFO:target drift detect: True\n",
      "11:29:36 INFO:data set drift detected\n"
     ]
    },
    {
     "name": "stdout",
     "output_type": "stream",
     "text": [
      "reg normal retraining\n",
      "Experiment of monthly timeframe, run 12\n",
      "---------------------------------\n",
      "Experiment start date : 2020-02-01 00:00:00\n",
      "Experiment end_date : 2020-02-29 00:00:00\n"
     ]
    },
    {
     "name": "stderr",
     "output_type": "stream",
     "text": [
      "11:29:38 INFO:target drift detect: True\n",
      "11:29:39 INFO:data set drift detected\n"
     ]
    },
    {
     "name": "stdout",
     "output_type": "stream",
     "text": [
      "reg normal retraining\n",
      "Experiment of monthly timeframe, run 13\n",
      "---------------------------------\n",
      "Experiment start date : 2020-03-01 00:00:00\n",
      "Experiment end_date : 2020-03-31 00:00:00\n"
     ]
    },
    {
     "name": "stderr",
     "output_type": "stream",
     "text": [
      "11:29:40 INFO:target drift detect: True\n",
      "11:29:41 INFO:data set drift detected\n"
     ]
    },
    {
     "name": "stdout",
     "output_type": "stream",
     "text": [
      "reg normal retraining\n",
      "Experiment of monthly timeframe, run 14\n",
      "---------------------------------\n",
      "Experiment start date : 2020-04-01 00:00:00\n",
      "Experiment end_date : 2020-04-30 00:00:00\n"
     ]
    },
    {
     "name": "stderr",
     "output_type": "stream",
     "text": [
      "11:29:44 INFO:target drift detect: True\n",
      "11:29:45 INFO:data set drift detected\n"
     ]
    },
    {
     "name": "stdout",
     "output_type": "stream",
     "text": [
      "reg normal retraining\n",
      "Experiment of monthly timeframe, run 15\n",
      "---------------------------------\n",
      "Experiment start date : 2020-05-01 00:00:00\n",
      "Experiment end_date : 2020-05-31 00:00:00\n"
     ]
    },
    {
     "name": "stderr",
     "output_type": "stream",
     "text": [
      "11:29:48 INFO:target drift detect: True\n",
      "11:29:49 INFO:data set drift detected\n"
     ]
    },
    {
     "name": "stdout",
     "output_type": "stream",
     "text": [
      "reg normal retraining\n",
      "Experiment of monthly timeframe, run 16\n",
      "---------------------------------\n",
      "Experiment start date : 2020-06-01 00:00:00\n",
      "Experiment end_date : 2020-06-30 00:00:00\n"
     ]
    },
    {
     "name": "stderr",
     "output_type": "stream",
     "text": [
      "11:29:52 INFO:target drift detect: True\n",
      "11:29:53 INFO:data set drift detected\n"
     ]
    },
    {
     "name": "stdout",
     "output_type": "stream",
     "text": [
      "reg normal retraining\n",
      "Experiment of monthly timeframe, run 17\n",
      "---------------------------------\n",
      "Experiment start date : 2020-07-01 00:00:00\n",
      "Experiment end_date : 2020-07-31 00:00:00\n"
     ]
    },
    {
     "name": "stderr",
     "output_type": "stream",
     "text": [
      "11:29:55 INFO:target drift detect: True\n",
      "11:29:56 INFO:data set drift detected\n"
     ]
    },
    {
     "name": "stdout",
     "output_type": "stream",
     "text": [
      "reg normal retraining\n",
      "Experiment of monthly timeframe, run 18\n",
      "---------------------------------\n",
      "Experiment start date : 2020-08-01 00:00:00\n",
      "Experiment end_date : 2020-08-31 00:00:00\n"
     ]
    },
    {
     "name": "stderr",
     "output_type": "stream",
     "text": [
      "11:29:58 INFO:target drift detect: True\n",
      "11:29:59 INFO:data set drift detected\n"
     ]
    },
    {
     "name": "stdout",
     "output_type": "stream",
     "text": [
      "reg normal retraining\n",
      "Experiment of monthly timeframe, run 19\n",
      "---------------------------------\n",
      "Experiment start date : 2020-09-01 00:00:00\n",
      "Experiment end_date : 2020-09-30 00:00:00\n"
     ]
    },
    {
     "name": "stderr",
     "output_type": "stream",
     "text": [
      "11:30:02 INFO:target drift detect: True\n",
      "11:30:03 INFO:data set drift detected\n"
     ]
    },
    {
     "name": "stdout",
     "output_type": "stream",
     "text": [
      "reg normal retraining\n",
      "Experiment of monthly timeframe, run 20\n",
      "---------------------------------\n",
      "Experiment start date : 2020-10-01 00:00:00\n",
      "Experiment end_date : 2020-10-31 00:00:00\n"
     ]
    },
    {
     "name": "stderr",
     "output_type": "stream",
     "text": [
      "11:30:05 INFO:target drift detect: True\n",
      "11:30:06 INFO:data set drift detected\n"
     ]
    },
    {
     "name": "stdout",
     "output_type": "stream",
     "text": [
      "reg normal retraining\n",
      "Experiment of monthly timeframe, run 21\n",
      "---------------------------------\n",
      "Experiment start date : 2020-11-01 00:00:00\n",
      "Experiment end_date : 2020-11-30 00:00:00\n"
     ]
    },
    {
     "name": "stderr",
     "output_type": "stream",
     "text": [
      "11:30:08 INFO:target drift detect: True\n",
      "11:30:09 INFO:data set drift detected\n"
     ]
    },
    {
     "name": "stdout",
     "output_type": "stream",
     "text": [
      "reg normal retraining\n"
     ]
    }
   ],
   "source": [
    "preds = simulate_model(simulate_df, final_X_transform, final_y, reg_normal, experiment_name='drift_solutions_experimentation', run_name='retrain_model_when_drift_detected',time_frame = 'monthly')"
   ]
  },
  {
   "cell_type": "markdown",
   "id": "ed27f370",
   "metadata": {},
   "source": [
    "#### Experiment monthly performance comparision plot"
   ]
  },
  {
   "cell_type": "code",
   "execution_count": 4,
   "id": "98d58f44",
   "metadata": {},
   "outputs": [],
   "source": [
    "expirement_results = mlflow.search_runs(experiment_names=['drift_solutions_experimentation'])\n",
    "expirement_results.set_index('params.experiment_end_date',inplace=True)\n",
    "expirement_results.index = pd.to_datetime(expirement_results.index)\n",
    "expirement_results.sort_index(ascending=True,inplace=True)\n",
    "expirement_results = expirement_results[~expirement_results.index.isna()]"
   ]
  },
  {
   "cell_type": "code",
   "execution_count": 5,
   "id": "77f027a9",
   "metadata": {},
   "outputs": [
    {
     "data": {
      "text/html": [
       "<div>\n",
       "<style scoped>\n",
       "    .dataframe tbody tr th:only-of-type {\n",
       "        vertical-align: middle;\n",
       "    }\n",
       "\n",
       "    .dataframe tbody tr th {\n",
       "        vertical-align: top;\n",
       "    }\n",
       "\n",
       "    .dataframe thead th {\n",
       "        text-align: right;\n",
       "    }\n",
       "</style>\n",
       "<table border=\"1\" class=\"dataframe\">\n",
       "  <thead>\n",
       "    <tr style=\"text-align: right;\">\n",
       "      <th></th>\n",
       "      <th>run_id</th>\n",
       "      <th>experiment_id</th>\n",
       "      <th>status</th>\n",
       "      <th>artifact_uri</th>\n",
       "      <th>start_time</th>\n",
       "      <th>end_time</th>\n",
       "      <th>metrics.tf_monthly_rmse_scaled_to_average_demand</th>\n",
       "      <th>metrics.tf_monthly_rmse</th>\n",
       "      <th>params.statewise_population_per_sqmile.value_raw_feature_importance</th>\n",
       "      <th>params.state.value_drift_score</th>\n",
       "      <th>...</th>\n",
       "      <th>params.warehouse_ID.value_feature_importance_weighted_drift_detected</th>\n",
       "      <th>params.state_cases.value_feature_importance_weighted_drift_detected</th>\n",
       "      <th>params.statewise_population_per_sqmile.value_feature_importance_weighted_drift_score</th>\n",
       "      <th>params.is_holiday.value_feature_importance_weighted_drift_score</th>\n",
       "      <th>params.warehouse_ID.value_raw_feature_importance</th>\n",
       "      <th>tags.mlflow.runName</th>\n",
       "      <th>tags.mlflow.source.type</th>\n",
       "      <th>tags.mlflow.user</th>\n",
       "      <th>tags.mlflow.parentRunId</th>\n",
       "      <th>tags.mlflow.source.name</th>\n",
       "    </tr>\n",
       "    <tr>\n",
       "      <th>params.experiment_end_date</th>\n",
       "      <th></th>\n",
       "      <th></th>\n",
       "      <th></th>\n",
       "      <th></th>\n",
       "      <th></th>\n",
       "      <th></th>\n",
       "      <th></th>\n",
       "      <th></th>\n",
       "      <th></th>\n",
       "      <th></th>\n",
       "      <th></th>\n",
       "      <th></th>\n",
       "      <th></th>\n",
       "      <th></th>\n",
       "      <th></th>\n",
       "      <th></th>\n",
       "      <th></th>\n",
       "      <th></th>\n",
       "      <th></th>\n",
       "      <th></th>\n",
       "      <th></th>\n",
       "    </tr>\n",
       "  </thead>\n",
       "  <tbody>\n",
       "    <tr>\n",
       "      <th>2019-03-31</th>\n",
       "      <td>502e05b26909400597fc1330d02a7280</td>\n",
       "      <td>1</td>\n",
       "      <td>FINISHED</td>\n",
       "      <td>file:///C:/Users/shree/projects/ML_Monitoring/...</td>\n",
       "      <td>2022-07-12 03:30:40.613000+00:00</td>\n",
       "      <td>2022-07-12 03:30:42.977000+00:00</td>\n",
       "      <td>11.696184</td>\n",
       "      <td>0.709921</td>\n",
       "      <td>0.00027815246721729636</td>\n",
       "      <td>6.680376743943285e-19</td>\n",
       "      <td>...</td>\n",
       "      <td>True</td>\n",
       "      <td>False</td>\n",
       "      <td>5.43757879543139e-15</td>\n",
       "      <td>16.376290925685222</td>\n",
       "      <td>0.0350562259554863</td>\n",
       "      <td>run_tf_monthly_run_tf_monthly_retrain_model_wi...</td>\n",
       "      <td>LOCAL</td>\n",
       "      <td>shree</td>\n",
       "      <td>8e69f81e4fd14150a805715ebb7da4f1</td>\n",
       "      <td>d:\\anaconda\\envs\\anaconda_env\\lib\\site-package...</td>\n",
       "    </tr>\n",
       "    <tr>\n",
       "      <th>2019-03-31</th>\n",
       "      <td>f5fc2a7bff33496abf0a185d0947672a</td>\n",
       "      <td>1</td>\n",
       "      <td>FINISHED</td>\n",
       "      <td>file:///C:/Users/shree/projects/ML_Monitoring/...</td>\n",
       "      <td>2022-07-15 05:58:07.750000+00:00</td>\n",
       "      <td>2022-07-15 05:58:10.226000+00:00</td>\n",
       "      <td>12.389070</td>\n",
       "      <td>0.751977</td>\n",
       "      <td>0.0013193626655265689</td>\n",
       "      <td>0.0</td>\n",
       "      <td>...</td>\n",
       "      <td>True</td>\n",
       "      <td>False</td>\n",
       "      <td>1.4395668956503147e-15</td>\n",
       "      <td>481.34222254544403</td>\n",
       "      <td>0.08689358085393906</td>\n",
       "      <td>run_tf_monthly_retrain_model_when_drift_detect...</td>\n",
       "      <td>LOCAL</td>\n",
       "      <td>shree</td>\n",
       "      <td>6b66f3a3af394634b8b1856dccb7c013</td>\n",
       "      <td>d:\\anaconda\\envs\\anaconda_env\\lib\\site-package...</td>\n",
       "    </tr>\n",
       "    <tr>\n",
       "      <th>2019-03-31</th>\n",
       "      <td>4d3132c1fa3b4c65b6f2f29fa033008b</td>\n",
       "      <td>1</td>\n",
       "      <td>FINISHED</td>\n",
       "      <td>file:///C:/Users/shree/projects/ML_Monitoring/...</td>\n",
       "      <td>2022-07-12 03:31:20.241000+00:00</td>\n",
       "      <td>2022-07-12 03:31:22.225000+00:00</td>\n",
       "      <td>12.389070</td>\n",
       "      <td>0.751977</td>\n",
       "      <td>0.0013193626655265689</td>\n",
       "      <td>0.0</td>\n",
       "      <td>...</td>\n",
       "      <td>True</td>\n",
       "      <td>False</td>\n",
       "      <td>8.081083792127401e-18</td>\n",
       "      <td>8.353917697714003</td>\n",
       "      <td>0.08689358085393906</td>\n",
       "      <td>run_tf_monthly_retrain_model_when_drift_detect...</td>\n",
       "      <td>LOCAL</td>\n",
       "      <td>shree</td>\n",
       "      <td>8e69f81e4fd14150a805715ebb7da4f1</td>\n",
       "      <td>d:\\anaconda\\envs\\anaconda_env\\lib\\site-package...</td>\n",
       "    </tr>\n",
       "    <tr>\n",
       "      <th>2019-03-31</th>\n",
       "      <td>9d3d0a38eafe4af493852fcee60a0fdf</td>\n",
       "      <td>1</td>\n",
       "      <td>FINISHED</td>\n",
       "      <td>file:///C:/Users/shree/projects/ML_Monitoring/...</td>\n",
       "      <td>2022-07-15 05:56:38.321000+00:00</td>\n",
       "      <td>2022-07-15 05:56:40.674000+00:00</td>\n",
       "      <td>11.696184</td>\n",
       "      <td>0.709921</td>\n",
       "      <td>0.00027815246721729636</td>\n",
       "      <td>1.2320903657232633e-16</td>\n",
       "      <td>...</td>\n",
       "      <td>True</td>\n",
       "      <td>False</td>\n",
       "      <td>1.0028758412145396e-12</td>\n",
       "      <td>1.7700642373537705</td>\n",
       "      <td>0.0350562259554863</td>\n",
       "      <td>run_tf_monthly_run_tf_monthly_retrain_model_wi...</td>\n",
       "      <td>LOCAL</td>\n",
       "      <td>shree</td>\n",
       "      <td>6b66f3a3af394634b8b1856dccb7c013</td>\n",
       "      <td>d:\\anaconda\\envs\\anaconda_env\\lib\\site-package...</td>\n",
       "    </tr>\n",
       "    <tr>\n",
       "      <th>2019-03-31</th>\n",
       "      <td>24bf109a47f14fbcb40c74c020c35056</td>\n",
       "      <td>1</td>\n",
       "      <td>FINISHED</td>\n",
       "      <td>file:///C:/Users/shree/projects/ML_Monitoring/...</td>\n",
       "      <td>2022-07-15 05:41:36.442000+00:00</td>\n",
       "      <td>2022-07-15 05:41:38.722000+00:00</td>\n",
       "      <td>11.696184</td>\n",
       "      <td>0.709921</td>\n",
       "      <td>0.00027815246721729636</td>\n",
       "      <td>4.801462002313698e-15</td>\n",
       "      <td>...</td>\n",
       "      <td>True</td>\n",
       "      <td>False</td>\n",
       "      <td>3.908211912527509e-11</td>\n",
       "      <td>87.76142646711014</td>\n",
       "      <td>0.0350562259554863</td>\n",
       "      <td>run_tf_monthly_run_tf_monthly_retrain_model_wi...</td>\n",
       "      <td>LOCAL</td>\n",
       "      <td>shree</td>\n",
       "      <td>6b66f3a3af394634b8b1856dccb7c013</td>\n",
       "      <td>d:\\anaconda\\envs\\anaconda_env\\lib\\site-package...</td>\n",
       "    </tr>\n",
       "  </tbody>\n",
       "</table>\n",
       "<p>5 rows × 82 columns</p>\n",
       "</div>"
      ],
      "text/plain": [
       "                                                      run_id experiment_id  \\\n",
       "params.experiment_end_date                                                   \n",
       "2019-03-31                  502e05b26909400597fc1330d02a7280             1   \n",
       "2019-03-31                  f5fc2a7bff33496abf0a185d0947672a             1   \n",
       "2019-03-31                  4d3132c1fa3b4c65b6f2f29fa033008b             1   \n",
       "2019-03-31                  9d3d0a38eafe4af493852fcee60a0fdf             1   \n",
       "2019-03-31                  24bf109a47f14fbcb40c74c020c35056             1   \n",
       "\n",
       "                              status  \\\n",
       "params.experiment_end_date             \n",
       "2019-03-31                  FINISHED   \n",
       "2019-03-31                  FINISHED   \n",
       "2019-03-31                  FINISHED   \n",
       "2019-03-31                  FINISHED   \n",
       "2019-03-31                  FINISHED   \n",
       "\n",
       "                                                                 artifact_uri  \\\n",
       "params.experiment_end_date                                                      \n",
       "2019-03-31                  file:///C:/Users/shree/projects/ML_Monitoring/...   \n",
       "2019-03-31                  file:///C:/Users/shree/projects/ML_Monitoring/...   \n",
       "2019-03-31                  file:///C:/Users/shree/projects/ML_Monitoring/...   \n",
       "2019-03-31                  file:///C:/Users/shree/projects/ML_Monitoring/...   \n",
       "2019-03-31                  file:///C:/Users/shree/projects/ML_Monitoring/...   \n",
       "\n",
       "                                                 start_time  \\\n",
       "params.experiment_end_date                                    \n",
       "2019-03-31                 2022-07-12 03:30:40.613000+00:00   \n",
       "2019-03-31                 2022-07-15 05:58:07.750000+00:00   \n",
       "2019-03-31                 2022-07-12 03:31:20.241000+00:00   \n",
       "2019-03-31                 2022-07-15 05:56:38.321000+00:00   \n",
       "2019-03-31                 2022-07-15 05:41:36.442000+00:00   \n",
       "\n",
       "                                                   end_time  \\\n",
       "params.experiment_end_date                                    \n",
       "2019-03-31                 2022-07-12 03:30:42.977000+00:00   \n",
       "2019-03-31                 2022-07-15 05:58:10.226000+00:00   \n",
       "2019-03-31                 2022-07-12 03:31:22.225000+00:00   \n",
       "2019-03-31                 2022-07-15 05:56:40.674000+00:00   \n",
       "2019-03-31                 2022-07-15 05:41:38.722000+00:00   \n",
       "\n",
       "                            metrics.tf_monthly_rmse_scaled_to_average_demand  \\\n",
       "params.experiment_end_date                                                     \n",
       "2019-03-31                                                         11.696184   \n",
       "2019-03-31                                                         12.389070   \n",
       "2019-03-31                                                         12.389070   \n",
       "2019-03-31                                                         11.696184   \n",
       "2019-03-31                                                         11.696184   \n",
       "\n",
       "                            metrics.tf_monthly_rmse  \\\n",
       "params.experiment_end_date                            \n",
       "2019-03-31                                 0.709921   \n",
       "2019-03-31                                 0.751977   \n",
       "2019-03-31                                 0.751977   \n",
       "2019-03-31                                 0.709921   \n",
       "2019-03-31                                 0.709921   \n",
       "\n",
       "                           params.statewise_population_per_sqmile.value_raw_feature_importance  \\\n",
       "params.experiment_end_date                                                                       \n",
       "2019-03-31                                             0.00027815246721729636                    \n",
       "2019-03-31                                              0.0013193626655265689                    \n",
       "2019-03-31                                              0.0013193626655265689                    \n",
       "2019-03-31                                             0.00027815246721729636                    \n",
       "2019-03-31                                             0.00027815246721729636                    \n",
       "\n",
       "                           params.state.value_drift_score  ...  \\\n",
       "params.experiment_end_date                                 ...   \n",
       "2019-03-31                          6.680376743943285e-19  ...   \n",
       "2019-03-31                                            0.0  ...   \n",
       "2019-03-31                                            0.0  ...   \n",
       "2019-03-31                         1.2320903657232633e-16  ...   \n",
       "2019-03-31                          4.801462002313698e-15  ...   \n",
       "\n",
       "                           params.warehouse_ID.value_feature_importance_weighted_drift_detected  \\\n",
       "params.experiment_end_date                                                                        \n",
       "2019-03-31                                                               True                     \n",
       "2019-03-31                                                               True                     \n",
       "2019-03-31                                                               True                     \n",
       "2019-03-31                                                               True                     \n",
       "2019-03-31                                                               True                     \n",
       "\n",
       "                           params.state_cases.value_feature_importance_weighted_drift_detected  \\\n",
       "params.experiment_end_date                                                                       \n",
       "2019-03-31                                                              False                    \n",
       "2019-03-31                                                              False                    \n",
       "2019-03-31                                                              False                    \n",
       "2019-03-31                                                              False                    \n",
       "2019-03-31                                                              False                    \n",
       "\n",
       "                           params.statewise_population_per_sqmile.value_feature_importance_weighted_drift_score  \\\n",
       "params.experiment_end_date                                                                                        \n",
       "2019-03-31                                               5.43757879543139e-15                                     \n",
       "2019-03-31                                             1.4395668956503147e-15                                     \n",
       "2019-03-31                                              8.081083792127401e-18                                     \n",
       "2019-03-31                                             1.0028758412145396e-12                                     \n",
       "2019-03-31                                              3.908211912527509e-11                                     \n",
       "\n",
       "                           params.is_holiday.value_feature_importance_weighted_drift_score  \\\n",
       "params.experiment_end_date                                                                   \n",
       "2019-03-31                                                 16.376290925685222                \n",
       "2019-03-31                                                 481.34222254544403                \n",
       "2019-03-31                                                  8.353917697714003                \n",
       "2019-03-31                                                 1.7700642373537705                \n",
       "2019-03-31                                                  87.76142646711014                \n",
       "\n",
       "                           params.warehouse_ID.value_raw_feature_importance  \\\n",
       "params.experiment_end_date                                                    \n",
       "2019-03-31                                               0.0350562259554863   \n",
       "2019-03-31                                              0.08689358085393906   \n",
       "2019-03-31                                              0.08689358085393906   \n",
       "2019-03-31                                               0.0350562259554863   \n",
       "2019-03-31                                               0.0350562259554863   \n",
       "\n",
       "                                                          tags.mlflow.runName  \\\n",
       "params.experiment_end_date                                                      \n",
       "2019-03-31                  run_tf_monthly_run_tf_monthly_retrain_model_wi...   \n",
       "2019-03-31                  run_tf_monthly_retrain_model_when_drift_detect...   \n",
       "2019-03-31                  run_tf_monthly_retrain_model_when_drift_detect...   \n",
       "2019-03-31                  run_tf_monthly_run_tf_monthly_retrain_model_wi...   \n",
       "2019-03-31                  run_tf_monthly_run_tf_monthly_retrain_model_wi...   \n",
       "\n",
       "                           tags.mlflow.source.type tags.mlflow.user  \\\n",
       "params.experiment_end_date                                            \n",
       "2019-03-31                                   LOCAL            shree   \n",
       "2019-03-31                                   LOCAL            shree   \n",
       "2019-03-31                                   LOCAL            shree   \n",
       "2019-03-31                                   LOCAL            shree   \n",
       "2019-03-31                                   LOCAL            shree   \n",
       "\n",
       "                                     tags.mlflow.parentRunId  \\\n",
       "params.experiment_end_date                                     \n",
       "2019-03-31                  8e69f81e4fd14150a805715ebb7da4f1   \n",
       "2019-03-31                  6b66f3a3af394634b8b1856dccb7c013   \n",
       "2019-03-31                  8e69f81e4fd14150a805715ebb7da4f1   \n",
       "2019-03-31                  6b66f3a3af394634b8b1856dccb7c013   \n",
       "2019-03-31                  6b66f3a3af394634b8b1856dccb7c013   \n",
       "\n",
       "                                                      tags.mlflow.source.name  \n",
       "params.experiment_end_date                                                     \n",
       "2019-03-31                  d:\\anaconda\\envs\\anaconda_env\\lib\\site-package...  \n",
       "2019-03-31                  d:\\anaconda\\envs\\anaconda_env\\lib\\site-package...  \n",
       "2019-03-31                  d:\\anaconda\\envs\\anaconda_env\\lib\\site-package...  \n",
       "2019-03-31                  d:\\anaconda\\envs\\anaconda_env\\lib\\site-package...  \n",
       "2019-03-31                  d:\\anaconda\\envs\\anaconda_env\\lib\\site-package...  \n",
       "\n",
       "[5 rows x 82 columns]"
      ]
     },
     "execution_count": 5,
     "metadata": {},
     "output_type": "execute_result"
    }
   ],
   "source": [
    "expirement_results.head()"
   ]
  },
  {
   "cell_type": "code",
   "execution_count": 6,
   "id": "ae65d9cd",
   "metadata": {},
   "outputs": [],
   "source": [
    "def get_latest_run_for_experiment_by_run_name(run_name):\n",
    "    check_numeric = pd.Series(expirement_results[expirement_results['tags.mlflow.runName'].str.startswith(run_name)]['tags.mlflow.runName'].unique()[::-1]).str.split(f'{run_name}_',expand=True)[1]\n",
    "    most_recent_row = check_numeric[check_numeric.str.isnumeric()].sort_values(ascending = False).astype(int).iloc[0]\n",
    "    return f'{run_name}_{most_recent_row}'"
   ]
  },
  {
   "cell_type": "code",
   "execution_count": 7,
   "id": "cfa17727",
   "metadata": {},
   "outputs": [],
   "source": [
    "run_tf_monthly_retrain_model_when_drift_detected_exp_results = expirement_results[expirement_results['tags.mlflow.runName'] == get_latest_run_for_experiment_by_run_name('run_tf_monthly_retrain_model_when_drift_detected')]"
   ]
  },
  {
   "cell_type": "code",
   "execution_count": 8,
   "id": "8c5a338b",
   "metadata": {},
   "outputs": [],
   "source": [
    "run_tf_monthly_retrain_model_with_instance_weights_when_drift_detected = expirement_results[expirement_results['tags.mlflow.runName'] == get_latest_run_for_experiment_by_run_name('run_tf_monthly_run_tf_monthly_retrain_model_with_instance_weights_when_drift_detected')]"
   ]
  },
  {
   "cell_type": "code",
   "execution_count": 9,
   "id": "cf7f8c31",
   "metadata": {},
   "outputs": [],
   "source": [
    "run_tf_monthly_retrain_model_when_drift_detected_adaptive_window_12_month = expirement_results[expirement_results['tags.mlflow.runName'] == get_latest_run_for_experiment_by_run_name('run_tf_monthly_retrain_model_when_drift_detected_adaptive_window_12_month')]"
   ]
  },
  {
   "cell_type": "code",
   "execution_count": 10,
   "id": "294ab5e5",
   "metadata": {},
   "outputs": [],
   "source": [
    "def get_date_time_range_data(df, start,end):\n",
    "    if start and end:\n",
    "        return df[start:end]\n",
    "    elif start is None and end:\n",
    "        return df[:end]\n",
    "    elif start and end is None:\n",
    "        return df[start:]\n",
    "    else:\n",
    "        return df\n",
    "        "
   ]
  },
  {
   "cell_type": "code",
   "execution_count": 16,
   "id": "fd92a52a",
   "metadata": {},
   "outputs": [],
   "source": [
    "def save_plots(figure, title):\n",
    "    if not os.path.exists('plots'):\n",
    "        os.mkdir('plots')\n",
    "    figure.write_html(os.path.join('plots','_'.join(title.split())+'.html'))"
   ]
  },
  {
   "cell_type": "code",
   "execution_count": 40,
   "id": "6f077225",
   "metadata": {},
   "outputs": [],
   "source": [
    "# plot function\n",
    "def plot_model_decay(title, start=None,end=None):\n",
    "    fig = go.Figure()\n",
    "\n",
    "\n",
    "\n",
    "    x_axis = get_date_time_range_data(run_tf_monthly_retrain_model_when_drift_detected_exp_results, start,end).reset_index()['params.experiment_end_date']\n",
    "    fig.add_trace(go.Scatter(x=x_axis, y=get_date_time_range_data(run_tf_monthly_retrain_model_when_drift_detected_exp_results, start,end)['metrics.tf_monthly_rmse'], name=\"retrain model when drift detected\", mode=\"lines+markers\"))\n",
    "    fig.add_trace(go.Scatter(x=x_axis, y=get_date_time_range_data(run_tf_monthly_retrain_model_with_instance_weights_when_drift_detected, start,end)['metrics.tf_monthly_rmse'], \n",
    "                            name=\"retrain model with instance weights when drift detected\" , mode=\"lines+markers\"))\n",
    "    fig.add_trace(go.Scatter(x=x_axis, y=get_date_time_range_data(run_tf_monthly_retrain_model_when_drift_detected_adaptive_window_12_month, start,end)['metrics.tf_monthly_rmse'], \n",
    "                            name=\"retrain model when drift detected with data of only last12 month window\" , mode=\"lines+markers\"))\n",
    "    # Edit the layout\n",
    "    fig.update_layout(title=title,\n",
    "                    xaxis_title='Date',\n",
    "                    yaxis_title='monthly_rmse',\n",
    "                    width=1500,\n",
    "                    height=700,\n",
    "                    font=dict(family=\"Arial Black\"),\n",
    "                    #title_font_color=\"red\",\n",
    "                    #legend_title_font_color=\"green\"\n",
    "                    legend=dict(\n",
    "                                orientation=\"v\",\n",
    "    yanchor=\"bottom\",\n",
    "    y=1.02,\n",
    "    xanchor=\"right\",\n",
    "    x=1\n",
    "                                )\n",
    "                    )\n",
    "    save_plots(fig, title)\n",
    "    fig.show()"
   ]
  },
  {
   "cell_type": "markdown",
   "id": "b1027e8a",
   "metadata": {},
   "source": [
    "#### Model decay before covid"
   ]
  },
  {
   "cell_type": "code",
   "execution_count": 41,
   "id": "6af68b78",
   "metadata": {},
   "outputs": [
    {
     "data": {
      "image/svg+xml": "<svg class=\"main-svg\" xmlns=\"http://www.w3.org/2000/svg\" xmlns:xlink=\"http://www.w3.org/1999/xlink\" width=\"1500\" height=\"700\" style=\"\" viewBox=\"0 0 1500 700\"><rect x=\"0\" y=\"0\" width=\"1500\" height=\"700\" style=\"fill: rgb(255, 255, 255); fill-opacity: 1;\"/><defs id=\"defs-295978\"><g class=\"clips\"><clipPath id=\"clip295978xyplot\" class=\"plotclip\"><rect width=\"1340\" height=\"520\"/></clipPath><clipPath class=\"axesclip\" id=\"clip295978x\"><rect x=\"80\" y=\"0\" width=\"1340\" height=\"700\"/></clipPath><clipPath class=\"axesclip\" id=\"clip295978y\"><rect x=\"0\" y=\"100\" width=\"1500\" height=\"520\"/></clipPath><clipPath class=\"axesclip\" id=\"clip295978xy\"><rect x=\"80\" y=\"100\" width=\"1340\" height=\"520\"/></clipPath></g><g class=\"gradients\"/><g class=\"patterns\"/></defs><g class=\"bglayer\"><rect class=\"bg\" x=\"80\" y=\"100\" width=\"1340\" height=\"520\" style=\"fill: rgb(229, 236, 246); fill-opacity: 1; stroke-width: 0;\"/></g><g class=\"layer-below\"><g class=\"imagelayer\"/><g class=\"shapelayer\"/></g><g class=\"cartesianlayer\"><g class=\"subplot xy\"><g class=\"layer-subplot\"><g class=\"shapelayer\"/><g class=\"imagelayer\"/></g><g class=\"minor-gridlayer\"><g class=\"x\"/><g class=\"y\"/></g><g class=\"gridlayer\"><g class=\"x\"><path class=\"xgrid crisp\" transform=\"translate(272.16999999999996,0)\" d=\"M0,100v520\" style=\"stroke: rgb(255, 255, 255); stroke-opacity: 1; stroke-width: 1px;\"/><path class=\"xgrid crisp\" transform=\"translate(511.08,0)\" d=\"M0,100v520\" style=\"stroke: rgb(255, 255, 255); stroke-opacity: 1; stroke-width: 1px;\"/><path class=\"xgrid crisp\" transform=\"translate(753.92,0)\" d=\"M0,100v520\" style=\"stroke: rgb(255, 255, 255); stroke-opacity: 1; stroke-width: 1px;\"/><path class=\"xgrid crisp\" transform=\"translate(992.83,0)\" d=\"M0,100v520\" style=\"stroke: rgb(255, 255, 255); stroke-opacity: 1; stroke-width: 1px;\"/><path class=\"xgrid crisp\" transform=\"translate(1231.75,0)\" d=\"M0,100v520\" style=\"stroke: rgb(255, 255, 255); stroke-opacity: 1; stroke-width: 1px;\"/></g><g class=\"y\"><path class=\"ygrid crisp\" transform=\"translate(0,606.9)\" d=\"M80,0h1340\" style=\"stroke: rgb(255, 255, 255); stroke-opacity: 1; stroke-width: 1px;\"/><path class=\"ygrid crisp\" transform=\"translate(0,537.8)\" d=\"M80,0h1340\" style=\"stroke: rgb(255, 255, 255); stroke-opacity: 1; stroke-width: 1px;\"/><path class=\"ygrid crisp\" transform=\"translate(0,468.7)\" d=\"M80,0h1340\" style=\"stroke: rgb(255, 255, 255); stroke-opacity: 1; stroke-width: 1px;\"/><path class=\"ygrid crisp\" transform=\"translate(0,399.59)\" d=\"M80,0h1340\" style=\"stroke: rgb(255, 255, 255); stroke-opacity: 1; stroke-width: 1px;\"/><path class=\"ygrid crisp\" transform=\"translate(0,330.49)\" d=\"M80,0h1340\" style=\"stroke: rgb(255, 255, 255); stroke-opacity: 1; stroke-width: 1px;\"/><path class=\"ygrid crisp\" transform=\"translate(0,261.39)\" d=\"M80,0h1340\" style=\"stroke: rgb(255, 255, 255); stroke-opacity: 1; stroke-width: 1px;\"/><path class=\"ygrid crisp\" transform=\"translate(0,192.29000000000002)\" d=\"M80,0h1340\" style=\"stroke: rgb(255, 255, 255); stroke-opacity: 1; stroke-width: 1px;\"/><path class=\"ygrid crisp\" transform=\"translate(0,123.18)\" d=\"M80,0h1340\" style=\"stroke: rgb(255, 255, 255); stroke-opacity: 1; stroke-width: 1px;\"/></g></g><g class=\"zerolinelayer\"/><path class=\"xlines-below\"/><path class=\"ylines-below\"/><g class=\"overlines-below\"/><g class=\"xaxislayer-below\"/><g class=\"yaxislayer-below\"/><g class=\"overaxes-below\"/><g class=\"plot\" transform=\"translate(80,100)\" clip-path=\"url(#clip295978xyplot)\"><g class=\"scatterlayer mlayer\"><g class=\"trace scatter trace055a73\" style=\"stroke-miterlimit: 2; opacity: 1;\"><g class=\"fills\"/><g class=\"errorbars\"/><g class=\"lines\"><path class=\"js-line\" d=\"M70.75,454.39L188.25,377.48L309.67,382L427.17,365.7L548.58,415.12L670,323.74L787.5,351.72L908.92,406.69L1026.42,316.22L1147.83,375.03L1269.25,385.1\" style=\"vector-effect: non-scaling-stroke; fill: none; stroke: rgb(99, 110, 250); stroke-opacity: 1; stroke-width: 2px; opacity: 1;\"/></g><g class=\"points\"><path class=\"point\" transform=\"translate(70.75,454.39)\" d=\"M3,0A3,3 0 1,1 0,-3A3,3 0 0,1 3,0Z\" style=\"opacity: 1; stroke-width: 0px; fill: rgb(99, 110, 250); fill-opacity: 1;\"/><path class=\"point\" transform=\"translate(188.25,377.48)\" d=\"M3,0A3,3 0 1,1 0,-3A3,3 0 0,1 3,0Z\" style=\"opacity: 1; stroke-width: 0px; fill: rgb(99, 110, 250); fill-opacity: 1;\"/><path class=\"point\" transform=\"translate(309.67,382)\" d=\"M3,0A3,3 0 1,1 0,-3A3,3 0 0,1 3,0Z\" style=\"opacity: 1; stroke-width: 0px; fill: rgb(99, 110, 250); fill-opacity: 1;\"/><path class=\"point\" transform=\"translate(427.17,365.7)\" d=\"M3,0A3,3 0 1,1 0,-3A3,3 0 0,1 3,0Z\" style=\"opacity: 1; stroke-width: 0px; fill: rgb(99, 110, 250); fill-opacity: 1;\"/><path class=\"point\" transform=\"translate(548.58,415.12)\" d=\"M3,0A3,3 0 1,1 0,-3A3,3 0 0,1 3,0Z\" style=\"opacity: 1; stroke-width: 0px; fill: rgb(99, 110, 250); fill-opacity: 1;\"/><path class=\"point\" transform=\"translate(670,323.74)\" d=\"M3,0A3,3 0 1,1 0,-3A3,3 0 0,1 3,0Z\" style=\"opacity: 1; stroke-width: 0px; fill: rgb(99, 110, 250); fill-opacity: 1;\"/><path class=\"point\" transform=\"translate(787.5,351.72)\" d=\"M3,0A3,3 0 1,1 0,-3A3,3 0 0,1 3,0Z\" style=\"opacity: 1; stroke-width: 0px; fill: rgb(99, 110, 250); fill-opacity: 1;\"/><path class=\"point\" transform=\"translate(908.92,406.69)\" d=\"M3,0A3,3 0 1,1 0,-3A3,3 0 0,1 3,0Z\" style=\"opacity: 1; stroke-width: 0px; fill: rgb(99, 110, 250); fill-opacity: 1;\"/><path class=\"point\" transform=\"translate(1026.42,316.22)\" d=\"M3,0A3,3 0 1,1 0,-3A3,3 0 0,1 3,0Z\" style=\"opacity: 1; stroke-width: 0px; fill: rgb(99, 110, 250); fill-opacity: 1;\"/><path class=\"point\" transform=\"translate(1147.83,375.03)\" d=\"M3,0A3,3 0 1,1 0,-3A3,3 0 0,1 3,0Z\" style=\"opacity: 1; stroke-width: 0px; fill: rgb(99, 110, 250); fill-opacity: 1;\"/><path class=\"point\" transform=\"translate(1269.25,385.1)\" d=\"M3,0A3,3 0 1,1 0,-3A3,3 0 0,1 3,0Z\" style=\"opacity: 1; stroke-width: 0px; fill: rgb(99, 110, 250); fill-opacity: 1;\"/></g><g class=\"text\"/></g><g class=\"trace scatter tracef00c0f\" style=\"stroke-miterlimit: 2; opacity: 1;\"><g class=\"fills\"/><g class=\"errorbars\"/><g class=\"lines\"><path class=\"js-line\" d=\"M70.75,468.92L188.25,392.94L309.67,345.33L427.17,303.97L548.58,302.9L670,427.46L787.5,440.32L908.92,461.67L1026.42,459.07L1147.83,490.25L1269.25,454.56\" style=\"vector-effect: non-scaling-stroke; fill: none; stroke: rgb(239, 85, 59); stroke-opacity: 1; stroke-width: 2px; opacity: 1;\"/></g><g class=\"points\"><path class=\"point\" transform=\"translate(70.75,468.92)\" d=\"M3,0A3,3 0 1,1 0,-3A3,3 0 0,1 3,0Z\" style=\"opacity: 1; stroke-width: 0px; fill: rgb(239, 85, 59); fill-opacity: 1;\"/><path class=\"point\" transform=\"translate(188.25,392.94)\" d=\"M3,0A3,3 0 1,1 0,-3A3,3 0 0,1 3,0Z\" style=\"opacity: 1; stroke-width: 0px; fill: rgb(239, 85, 59); fill-opacity: 1;\"/><path class=\"point\" transform=\"translate(309.67,345.33)\" d=\"M3,0A3,3 0 1,1 0,-3A3,3 0 0,1 3,0Z\" style=\"opacity: 1; stroke-width: 0px; fill: rgb(239, 85, 59); fill-opacity: 1;\"/><path class=\"point\" transform=\"translate(427.17,303.97)\" d=\"M3,0A3,3 0 1,1 0,-3A3,3 0 0,1 3,0Z\" style=\"opacity: 1; stroke-width: 0px; fill: rgb(239, 85, 59); fill-opacity: 1;\"/><path class=\"point\" transform=\"translate(548.58,302.9)\" d=\"M3,0A3,3 0 1,1 0,-3A3,3 0 0,1 3,0Z\" style=\"opacity: 1; stroke-width: 0px; fill: rgb(239, 85, 59); fill-opacity: 1;\"/><path class=\"point\" transform=\"translate(670,427.46)\" d=\"M3,0A3,3 0 1,1 0,-3A3,3 0 0,1 3,0Z\" style=\"opacity: 1; stroke-width: 0px; fill: rgb(239, 85, 59); fill-opacity: 1;\"/><path class=\"point\" transform=\"translate(787.5,440.32)\" d=\"M3,0A3,3 0 1,1 0,-3A3,3 0 0,1 3,0Z\" style=\"opacity: 1; stroke-width: 0px; fill: rgb(239, 85, 59); fill-opacity: 1;\"/><path class=\"point\" transform=\"translate(908.92,461.67)\" d=\"M3,0A3,3 0 1,1 0,-3A3,3 0 0,1 3,0Z\" style=\"opacity: 1; stroke-width: 0px; fill: rgb(239, 85, 59); fill-opacity: 1;\"/><path class=\"point\" transform=\"translate(1026.42,459.07)\" d=\"M3,0A3,3 0 1,1 0,-3A3,3 0 0,1 3,0Z\" style=\"opacity: 1; stroke-width: 0px; fill: rgb(239, 85, 59); fill-opacity: 1;\"/><path class=\"point\" transform=\"translate(1147.83,490.25)\" d=\"M3,0A3,3 0 1,1 0,-3A3,3 0 0,1 3,0Z\" style=\"opacity: 1; stroke-width: 0px; fill: rgb(239, 85, 59); fill-opacity: 1;\"/><path class=\"point\" transform=\"translate(1269.25,454.56)\" d=\"M3,0A3,3 0 1,1 0,-3A3,3 0 0,1 3,0Z\" style=\"opacity: 1; stroke-width: 0px; fill: rgb(239, 85, 59); fill-opacity: 1;\"/></g><g class=\"text\"/></g><g class=\"trace scatter trace70e92c\" style=\"stroke-miterlimit: 2; opacity: 1;\"><g class=\"fills\"/><g class=\"errorbars\"/><g class=\"lines\"><path class=\"js-line\" d=\"M70.75,454.39L188.25,29.75L309.67,152.33L427.17,224.91L548.58,239.36L670,446.2L787.5,335.8L908.92,413.95L1026.42,471.42L1147.83,258.8L1269.25,167.07\" style=\"vector-effect: non-scaling-stroke; fill: none; stroke: rgb(0, 204, 150); stroke-opacity: 1; stroke-width: 2px; opacity: 1;\"/></g><g class=\"points\"><path class=\"point\" transform=\"translate(70.75,454.39)\" d=\"M3,0A3,3 0 1,1 0,-3A3,3 0 0,1 3,0Z\" style=\"opacity: 1; stroke-width: 0px; fill: rgb(0, 204, 150); fill-opacity: 1;\"/><path class=\"point\" transform=\"translate(188.25,29.75)\" d=\"M3,0A3,3 0 1,1 0,-3A3,3 0 0,1 3,0Z\" style=\"opacity: 1; stroke-width: 0px; fill: rgb(0, 204, 150); fill-opacity: 1;\"/><path class=\"point\" transform=\"translate(309.67,152.33)\" d=\"M3,0A3,3 0 1,1 0,-3A3,3 0 0,1 3,0Z\" style=\"opacity: 1; stroke-width: 0px; fill: rgb(0, 204, 150); fill-opacity: 1;\"/><path class=\"point\" transform=\"translate(427.17,224.91)\" d=\"M3,0A3,3 0 1,1 0,-3A3,3 0 0,1 3,0Z\" style=\"opacity: 1; stroke-width: 0px; fill: rgb(0, 204, 150); fill-opacity: 1;\"/><path class=\"point\" transform=\"translate(548.58,239.36)\" d=\"M3,0A3,3 0 1,1 0,-3A3,3 0 0,1 3,0Z\" style=\"opacity: 1; stroke-width: 0px; fill: rgb(0, 204, 150); fill-opacity: 1;\"/><path class=\"point\" transform=\"translate(670,446.2)\" d=\"M3,0A3,3 0 1,1 0,-3A3,3 0 0,1 3,0Z\" style=\"opacity: 1; stroke-width: 0px; fill: rgb(0, 204, 150); fill-opacity: 1;\"/><path class=\"point\" transform=\"translate(787.5,335.8)\" d=\"M3,0A3,3 0 1,1 0,-3A3,3 0 0,1 3,0Z\" style=\"opacity: 1; stroke-width: 0px; fill: rgb(0, 204, 150); fill-opacity: 1;\"/><path class=\"point\" transform=\"translate(908.92,413.95)\" d=\"M3,0A3,3 0 1,1 0,-3A3,3 0 0,1 3,0Z\" style=\"opacity: 1; stroke-width: 0px; fill: rgb(0, 204, 150); fill-opacity: 1;\"/><path class=\"point\" transform=\"translate(1026.42,471.42)\" d=\"M3,0A3,3 0 1,1 0,-3A3,3 0 0,1 3,0Z\" style=\"opacity: 1; stroke-width: 0px; fill: rgb(0, 204, 150); fill-opacity: 1;\"/><path class=\"point\" transform=\"translate(1147.83,258.8)\" d=\"M3,0A3,3 0 1,1 0,-3A3,3 0 0,1 3,0Z\" style=\"opacity: 1; stroke-width: 0px; fill: rgb(0, 204, 150); fill-opacity: 1;\"/><path class=\"point\" transform=\"translate(1269.25,167.07)\" d=\"M3,0A3,3 0 1,1 0,-3A3,3 0 0,1 3,0Z\" style=\"opacity: 1; stroke-width: 0px; fill: rgb(0, 204, 150); fill-opacity: 1;\"/></g><g class=\"text\"/></g></g></g><g class=\"overplot\"/><path class=\"xlines-above crisp\" d=\"M0,0\" style=\"fill: none;\"/><path class=\"ylines-above crisp\" d=\"M0,0\" style=\"fill: none;\"/><g class=\"overlines-above\"/><g class=\"xaxislayer-above\"><g class=\"xtick\"><text text-anchor=\"middle\" x=\"0\" y=\"633\" transform=\"translate(272.16999999999996,0)\" style=\"font-family: 'Arial Black'; font-size: 12px; fill: rgb(42, 63, 95); fill-opacity: 1; white-space: pre; opacity: 1;\">May 2019</text></g><g class=\"xtick\"><text text-anchor=\"middle\" x=\"0\" y=\"633\" style=\"font-family: 'Arial Black'; font-size: 12px; fill: rgb(42, 63, 95); fill-opacity: 1; white-space: pre; opacity: 1;\" transform=\"translate(511.08,0)\">Jul 2019</text></g><g class=\"xtick\"><text text-anchor=\"middle\" x=\"0\" y=\"633\" style=\"font-family: 'Arial Black'; font-size: 12px; fill: rgb(42, 63, 95); fill-opacity: 1; white-space: pre; opacity: 1;\" transform=\"translate(753.92,0)\">Sep 2019</text></g><g class=\"xtick\"><text text-anchor=\"middle\" x=\"0\" y=\"633\" style=\"font-family: 'Arial Black'; font-size: 12px; fill: rgb(42, 63, 95); fill-opacity: 1; white-space: pre; opacity: 1;\" transform=\"translate(992.83,0)\">Nov 2019</text></g><g class=\"xtick\"><text text-anchor=\"middle\" x=\"0\" y=\"633\" style=\"font-family: 'Arial Black'; font-size: 12px; fill: rgb(42, 63, 95); fill-opacity: 1; white-space: pre; opacity: 1;\" transform=\"translate(1231.75,0)\">Jan 2020</text></g></g><g class=\"yaxislayer-above\"><g class=\"ytick\"><text text-anchor=\"end\" x=\"79\" y=\"4.199999999999999\" transform=\"translate(0,606.9)\" style=\"font-family: 'Arial Black'; font-size: 12px; fill: rgb(42, 63, 95); fill-opacity: 1; white-space: pre; opacity: 1;\">0.6</text></g><g class=\"ytick\"><text text-anchor=\"end\" x=\"79\" y=\"4.199999999999999\" style=\"font-family: 'Arial Black'; font-size: 12px; fill: rgb(42, 63, 95); fill-opacity: 1; white-space: pre; opacity: 1;\" transform=\"translate(0,537.8)\">0.8</text></g><g class=\"ytick\"><text text-anchor=\"end\" x=\"79\" y=\"4.199999999999999\" style=\"font-family: 'Arial Black'; font-size: 12px; fill: rgb(42, 63, 95); fill-opacity: 1; white-space: pre; opacity: 1;\" transform=\"translate(0,468.7)\">1</text></g><g class=\"ytick\"><text text-anchor=\"end\" x=\"79\" y=\"4.199999999999999\" style=\"font-family: 'Arial Black'; font-size: 12px; fill: rgb(42, 63, 95); fill-opacity: 1; white-space: pre; opacity: 1;\" transform=\"translate(0,399.59)\">1.2</text></g><g class=\"ytick\"><text text-anchor=\"end\" x=\"79\" y=\"4.199999999999999\" style=\"font-family: 'Arial Black'; font-size: 12px; fill: rgb(42, 63, 95); fill-opacity: 1; white-space: pre; opacity: 1;\" transform=\"translate(0,330.49)\">1.4</text></g><g class=\"ytick\"><text text-anchor=\"end\" x=\"79\" y=\"4.199999999999999\" style=\"font-family: 'Arial Black'; font-size: 12px; fill: rgb(42, 63, 95); fill-opacity: 1; white-space: pre; opacity: 1;\" transform=\"translate(0,261.39)\">1.6</text></g><g class=\"ytick\"><text text-anchor=\"end\" x=\"79\" y=\"4.199999999999999\" style=\"font-family: 'Arial Black'; font-size: 12px; fill: rgb(42, 63, 95); fill-opacity: 1; white-space: pre; opacity: 1;\" transform=\"translate(0,192.29000000000002)\">1.8</text></g><g class=\"ytick\"><text text-anchor=\"end\" x=\"79\" y=\"4.199999999999999\" style=\"font-family: 'Arial Black'; font-size: 12px; fill: rgb(42, 63, 95); fill-opacity: 1; white-space: pre; opacity: 1;\" transform=\"translate(0,123.18)\">2</text></g></g><g class=\"overaxes-above\"/></g></g><g class=\"polarlayer\"/><g class=\"smithlayer\"/><g class=\"ternarylayer\"/><g class=\"geolayer\"/><g class=\"funnelarealayer\"/><g class=\"pielayer\"/><g class=\"iciclelayer\"/><g class=\"treemaplayer\"/><g class=\"sunburstlayer\"/><g class=\"glimages\"/><defs id=\"topdefs-295978\"><g class=\"clips\"/><clipPath id=\"legend295978\"><rect width=\"527\" height=\"67\" x=\"0\" y=\"0\"/></clipPath></defs><g class=\"layer-above\"><g class=\"imagelayer\"/><g class=\"shapelayer\"/></g><g class=\"infolayer\"><g class=\"legend\" pointer-events=\"all\" transform=\"translate(893,22.599999999999994)\"><rect class=\"bg\" shape-rendering=\"crispEdges\" width=\"527\" height=\"67\" x=\"0\" y=\"0\" style=\"stroke: rgb(68, 68, 68); stroke-opacity: 1; fill: rgb(255, 255, 255); fill-opacity: 1; stroke-width: 0px;\"/><g class=\"scrollbox\" transform=\"\" clip-path=\"url(#legend295978)\"><g class=\"groups\"><g class=\"traces\" transform=\"translate(0,14.5)\" style=\"opacity: 1;\"><text class=\"legendtext\" text-anchor=\"start\" x=\"40\" y=\"4.680000000000001\" style=\"font-family: 'Arial Black'; font-size: 12px; fill: rgb(42, 63, 95); fill-opacity: 1; white-space: pre;\">retrain model when drift detected</text><g class=\"layers\" style=\"opacity: 1;\"><g class=\"legendfill\"/><g class=\"legendlines\"><path class=\"js-line\" d=\"M5,0h30\" style=\"fill: none; stroke: rgb(99, 110, 250); stroke-opacity: 1; stroke-width: 2px;\"/></g><g class=\"legendsymbols\"><g class=\"legendpoints\"><path class=\"scatterpts\" transform=\"translate(20,0)\" d=\"M3,0A3,3 0 1,1 0,-3A3,3 0 0,1 3,0Z\" style=\"opacity: 1; stroke-width: 0px; fill: rgb(99, 110, 250); fill-opacity: 1;\"/></g></g></g><rect class=\"legendtoggle\" x=\"0\" y=\"-9.5\" width=\"521.078125\" height=\"19\" style=\"fill: rgb(0, 0, 0); fill-opacity: 0;\"/></g><g class=\"traces\" transform=\"translate(0,33.5)\" style=\"opacity: 1;\"><text class=\"legendtext\" text-anchor=\"start\" x=\"40\" y=\"4.680000000000001\" style=\"font-family: 'Arial Black'; font-size: 12px; fill: rgb(42, 63, 95); fill-opacity: 1; white-space: pre;\">retrain model with instance weights when drift detected</text><g class=\"layers\" style=\"opacity: 1;\"><g class=\"legendfill\"/><g class=\"legendlines\"><path class=\"js-line\" d=\"M5,0h30\" style=\"fill: none; stroke: rgb(239, 85, 59); stroke-opacity: 1; stroke-width: 2px;\"/></g><g class=\"legendsymbols\"><g class=\"legendpoints\"><path class=\"scatterpts\" transform=\"translate(20,0)\" d=\"M3,0A3,3 0 1,1 0,-3A3,3 0 0,1 3,0Z\" style=\"opacity: 1; stroke-width: 0px; fill: rgb(239, 85, 59); fill-opacity: 1;\"/></g></g></g><rect class=\"legendtoggle\" x=\"0\" y=\"-9.5\" width=\"521.078125\" height=\"19\" style=\"fill: rgb(0, 0, 0); fill-opacity: 0;\"/></g><g class=\"traces\" transform=\"translate(0,52.5)\" style=\"opacity: 1;\"><text class=\"legendtext\" text-anchor=\"start\" x=\"40\" y=\"4.680000000000001\" style=\"font-family: 'Arial Black'; font-size: 12px; fill: rgb(42, 63, 95); fill-opacity: 1; white-space: pre;\">retrain model when drift detected with data of only last12 month window</text><g class=\"layers\" style=\"opacity: 1;\"><g class=\"legendfill\"/><g class=\"legendlines\"><path class=\"js-line\" d=\"M5,0h30\" style=\"fill: none; stroke: rgb(0, 204, 150); stroke-opacity: 1; stroke-width: 2px;\"/></g><g class=\"legendsymbols\"><g class=\"legendpoints\"><path class=\"scatterpts\" transform=\"translate(20,0)\" d=\"M3,0A3,3 0 1,1 0,-3A3,3 0 0,1 3,0Z\" style=\"opacity: 1; stroke-width: 0px; fill: rgb(0, 204, 150); fill-opacity: 1;\"/></g></g></g><rect class=\"legendtoggle\" x=\"0\" y=\"-9.5\" width=\"521.078125\" height=\"19\" style=\"fill: rgb(0, 0, 0); fill-opacity: 0;\"/></g></g></g><rect class=\"scrollbar\" rx=\"20\" ry=\"3\" width=\"0\" height=\"0\" x=\"0\" y=\"0\" style=\"fill: rgb(128, 139, 164); fill-opacity: 1;\"/></g><g class=\"g-gtitle\"><text class=\"gtitle\" x=\"75\" y=\"50\" text-anchor=\"start\" dy=\"0em\" style=\"font-family: 'Arial Black'; font-size: 17px; fill: rgb(42, 63, 95); opacity: 1; font-weight: normal; white-space: pre;\">model decay before covid - Apr 2019 to feb 2020</text></g><g class=\"g-xtitle\"><text class=\"xtitle\" x=\"750\" y=\"661.8\" text-anchor=\"middle\" style=\"font-family: 'Arial Black'; font-size: 14px; fill: rgb(42, 63, 95); opacity: 1; font-weight: normal; white-space: pre;\">Date</text></g><g class=\"g-ytitle\"><text class=\"ytitle\" transform=\"rotate(-90,34.184375,360)\" x=\"34.184375\" y=\"360\" text-anchor=\"middle\" style=\"font-family: 'Arial Black'; font-size: 14px; fill: rgb(42, 63, 95); opacity: 1; font-weight: normal; white-space: pre;\">monthly_rmse</text></g></g></svg>"
     },
     "metadata": {},
     "output_type": "display_data"
    }
   ],
   "source": [
    "\n",
    "plot_model_decay('model decay before covid - Apr 2019 to feb 2020', None, datetime(2020,2,28))"
   ]
  },
  {
   "cell_type": "markdown",
   "id": "69673962",
   "metadata": {},
   "source": [
    "#### Model decay after covid"
   ]
  },
  {
   "cell_type": "code",
   "execution_count": 111,
   "id": "e558076d",
   "metadata": {},
   "outputs": [
    {
     "data": {
      "image/svg+xml": "<svg class=\"main-svg\" xmlns=\"http://www.w3.org/2000/svg\" xmlns:xlink=\"http://www.w3.org/1999/xlink\" width=\"1500\" height=\"500\" style=\"\" viewBox=\"0 0 1500 500\"><rect x=\"0\" y=\"0\" width=\"1500\" height=\"500\" style=\"fill: rgb(255, 255, 255); fill-opacity: 1;\"/><defs id=\"defs-15b293\"><g class=\"clips\"><clipPath id=\"clip15b293xyplot\" class=\"plotclip\"><rect width=\"902\" height=\"320\"/></clipPath><clipPath class=\"axesclip\" id=\"clip15b293x\"><rect x=\"80\" y=\"0\" width=\"902\" height=\"500\"/></clipPath><clipPath class=\"axesclip\" id=\"clip15b293y\"><rect x=\"0\" y=\"100\" width=\"1500\" height=\"320\"/></clipPath><clipPath class=\"axesclip\" id=\"clip15b293xy\"><rect x=\"80\" y=\"100\" width=\"902\" height=\"320\"/></clipPath></g><g class=\"gradients\"/><g class=\"patterns\"/></defs><g class=\"bglayer\"><rect class=\"bg\" x=\"80\" y=\"100\" width=\"902\" height=\"320\" style=\"fill: rgb(229, 236, 246); fill-opacity: 1; stroke-width: 0;\"/></g><g class=\"layer-below\"><g class=\"imagelayer\"/><g class=\"shapelayer\"/></g><g class=\"cartesianlayer\"><g class=\"subplot xy\"><g class=\"layer-subplot\"><g class=\"shapelayer\"/><g class=\"imagelayer\"/></g><g class=\"minor-gridlayer\"><g class=\"x\"/><g class=\"y\"/></g><g class=\"gridlayer\"><g class=\"x\"><path class=\"xgrid crisp\" transform=\"translate(132.15,0)\" d=\"M0,100v320\" style=\"stroke: rgb(255, 255, 255); stroke-opacity: 1; stroke-width: 1px;\"/><path class=\"xgrid crisp\" transform=\"translate(231.04,0)\" d=\"M0,100v320\" style=\"stroke: rgb(255, 255, 255); stroke-opacity: 1; stroke-width: 1px;\"/><path class=\"xgrid crisp\" transform=\"translate(333.22,0)\" d=\"M0,100v320\" style=\"stroke: rgb(255, 255, 255); stroke-opacity: 1; stroke-width: 1px;\"/><path class=\"xgrid crisp\" transform=\"translate(432.11,0)\" d=\"M0,100v320\" style=\"stroke: rgb(255, 255, 255); stroke-opacity: 1; stroke-width: 1px;\"/><path class=\"xgrid crisp\" transform=\"translate(534.3,0)\" d=\"M0,100v320\" style=\"stroke: rgb(255, 255, 255); stroke-opacity: 1; stroke-width: 1px;\"/><path class=\"xgrid crisp\" transform=\"translate(636.48,0)\" d=\"M0,100v320\" style=\"stroke: rgb(255, 255, 255); stroke-opacity: 1; stroke-width: 1px;\"/><path class=\"xgrid crisp\" transform=\"translate(735.37,0)\" d=\"M0,100v320\" style=\"stroke: rgb(255, 255, 255); stroke-opacity: 1; stroke-width: 1px;\"/><path class=\"xgrid crisp\" transform=\"translate(837.56,0)\" d=\"M0,100v320\" style=\"stroke: rgb(255, 255, 255); stroke-opacity: 1; stroke-width: 1px;\"/><path class=\"xgrid crisp\" transform=\"translate(936.45,0)\" d=\"M0,100v320\" style=\"stroke: rgb(255, 255, 255); stroke-opacity: 1; stroke-width: 1px;\"/></g><g class=\"y\"><path class=\"ygrid crisp\" transform=\"translate(0,396.03)\" d=\"M80,0h902\" style=\"stroke: rgb(255, 255, 255); stroke-opacity: 1; stroke-width: 1px;\"/><path class=\"ygrid crisp\" transform=\"translate(0,315.24)\" d=\"M80,0h902\" style=\"stroke: rgb(255, 255, 255); stroke-opacity: 1; stroke-width: 1px;\"/><path class=\"ygrid crisp\" transform=\"translate(0,234.45)\" d=\"M80,0h902\" style=\"stroke: rgb(255, 255, 255); stroke-opacity: 1; stroke-width: 1px;\"/><path class=\"ygrid crisp\" transform=\"translate(0,153.65)\" d=\"M80,0h902\" style=\"stroke: rgb(255, 255, 255); stroke-opacity: 1; stroke-width: 1px;\"/></g></g><g class=\"zerolinelayer\"/><path class=\"xlines-below\"/><path class=\"ylines-below\"/><g class=\"overlines-below\"/><g class=\"xaxislayer-below\"/><g class=\"yaxislayer-below\"/><g class=\"overaxes-below\"/><g class=\"plot\" transform=\"translate(80,100)\" clip-path=\"url(#clip15b293xyplot)\"><g class=\"scatterlayer mlayer\"><g class=\"trace scatter trace9e64e1\" style=\"stroke-miterlimit: 2; opacity: 1;\"><g class=\"fills\"/><g class=\"errorbars\"/><g class=\"lines\"><path class=\"js-line\" d=\"M48.85,19.75L147.74,285.07L249.92,199.81L348.81,146.68L451,166.57L553.19,179.14L652.08,184.12L754.26,216.9L853.15,199.47\" style=\"vector-effect: non-scaling-stroke; fill: none; stroke: rgb(99, 110, 250); stroke-opacity: 1; stroke-width: 2px; opacity: 1;\"/></g><g class=\"points\"><path class=\"point\" transform=\"translate(48.85,19.75)\" d=\"M3,0A3,3 0 1,1 0,-3A3,3 0 0,1 3,0Z\" style=\"opacity: 1; stroke-width: 0px; fill: rgb(99, 110, 250); fill-opacity: 1;\"/><path class=\"point\" transform=\"translate(147.74,285.07)\" d=\"M3,0A3,3 0 1,1 0,-3A3,3 0 0,1 3,0Z\" style=\"opacity: 1; stroke-width: 0px; fill: rgb(99, 110, 250); fill-opacity: 1;\"/><path class=\"point\" transform=\"translate(249.92,199.81)\" d=\"M3,0A3,3 0 1,1 0,-3A3,3 0 0,1 3,0Z\" style=\"opacity: 1; stroke-width: 0px; fill: rgb(99, 110, 250); fill-opacity: 1;\"/><path class=\"point\" transform=\"translate(348.81,146.68)\" d=\"M3,0A3,3 0 1,1 0,-3A3,3 0 0,1 3,0Z\" style=\"opacity: 1; stroke-width: 0px; fill: rgb(99, 110, 250); fill-opacity: 1;\"/><path class=\"point\" transform=\"translate(451,166.57)\" d=\"M3,0A3,3 0 1,1 0,-3A3,3 0 0,1 3,0Z\" style=\"opacity: 1; stroke-width: 0px; fill: rgb(99, 110, 250); fill-opacity: 1;\"/><path class=\"point\" transform=\"translate(553.19,179.14)\" d=\"M3,0A3,3 0 1,1 0,-3A3,3 0 0,1 3,0Z\" style=\"opacity: 1; stroke-width: 0px; fill: rgb(99, 110, 250); fill-opacity: 1;\"/><path class=\"point\" transform=\"translate(652.08,184.12)\" d=\"M3,0A3,3 0 1,1 0,-3A3,3 0 0,1 3,0Z\" style=\"opacity: 1; stroke-width: 0px; fill: rgb(99, 110, 250); fill-opacity: 1;\"/><path class=\"point\" transform=\"translate(754.26,216.9)\" d=\"M3,0A3,3 0 1,1 0,-3A3,3 0 0,1 3,0Z\" style=\"opacity: 1; stroke-width: 0px; fill: rgb(99, 110, 250); fill-opacity: 1;\"/><path class=\"point\" transform=\"translate(853.15,199.47)\" d=\"M3,0A3,3 0 1,1 0,-3A3,3 0 0,1 3,0Z\" style=\"opacity: 1; stroke-width: 0px; fill: rgb(99, 110, 250); fill-opacity: 1;\"/></g><g class=\"text\"/></g><g class=\"trace scatter trace18c678\" style=\"stroke-miterlimit: 2; opacity: 1;\"><g class=\"fills\"/><g class=\"errorbars\"/><g class=\"lines\"><path class=\"js-line\" d=\"M48.85,133.18L147.74,128.33L249.92,176.05L348.81,110.88L451,233.06L553.19,175.45L652.08,173.85L754.26,192.84L853.15,256.75\" style=\"vector-effect: non-scaling-stroke; fill: none; stroke: rgb(239, 85, 59); stroke-opacity: 1; stroke-width: 2px; opacity: 1;\"/></g><g class=\"points\"><path class=\"point\" transform=\"translate(48.85,133.18)\" d=\"M3,0A3,3 0 1,1 0,-3A3,3 0 0,1 3,0Z\" style=\"opacity: 1; stroke-width: 0px; fill: rgb(239, 85, 59); fill-opacity: 1;\"/><path class=\"point\" transform=\"translate(147.74,128.33)\" d=\"M3,0A3,3 0 1,1 0,-3A3,3 0 0,1 3,0Z\" style=\"opacity: 1; stroke-width: 0px; fill: rgb(239, 85, 59); fill-opacity: 1;\"/><path class=\"point\" transform=\"translate(249.92,176.05)\" d=\"M3,0A3,3 0 1,1 0,-3A3,3 0 0,1 3,0Z\" style=\"opacity: 1; stroke-width: 0px; fill: rgb(239, 85, 59); fill-opacity: 1;\"/><path class=\"point\" transform=\"translate(348.81,110.88)\" d=\"M3,0A3,3 0 1,1 0,-3A3,3 0 0,1 3,0Z\" style=\"opacity: 1; stroke-width: 0px; fill: rgb(239, 85, 59); fill-opacity: 1;\"/><path class=\"point\" transform=\"translate(451,233.06)\" d=\"M3,0A3,3 0 1,1 0,-3A3,3 0 0,1 3,0Z\" style=\"opacity: 1; stroke-width: 0px; fill: rgb(239, 85, 59); fill-opacity: 1;\"/><path class=\"point\" transform=\"translate(553.19,175.45)\" d=\"M3,0A3,3 0 1,1 0,-3A3,3 0 0,1 3,0Z\" style=\"opacity: 1; stroke-width: 0px; fill: rgb(239, 85, 59); fill-opacity: 1;\"/><path class=\"point\" transform=\"translate(652.08,173.85)\" d=\"M3,0A3,3 0 1,1 0,-3A3,3 0 0,1 3,0Z\" style=\"opacity: 1; stroke-width: 0px; fill: rgb(239, 85, 59); fill-opacity: 1;\"/><path class=\"point\" transform=\"translate(754.26,192.84)\" d=\"M3,0A3,3 0 1,1 0,-3A3,3 0 0,1 3,0Z\" style=\"opacity: 1; stroke-width: 0px; fill: rgb(239, 85, 59); fill-opacity: 1;\"/><path class=\"point\" transform=\"translate(853.15,256.75)\" d=\"M3,0A3,3 0 1,1 0,-3A3,3 0 0,1 3,0Z\" style=\"opacity: 1; stroke-width: 0px; fill: rgb(239, 85, 59); fill-opacity: 1;\"/></g><g class=\"text\"/></g><g class=\"trace scatter trace0103f3\" style=\"stroke-miterlimit: 2; opacity: 1;\"><g class=\"fills\"/><g class=\"errorbars\"/><g class=\"lines\"><path class=\"js-line\" d=\"M48.85,258.94L147.74,300.25L249.92,136.96L348.81,172.56L451,229.91L553.19,224.8L652.08,157.71L754.26,244.73L853.15,249.46\" style=\"vector-effect: non-scaling-stroke; fill: none; stroke: rgb(0, 204, 150); stroke-opacity: 1; stroke-width: 2px; opacity: 1;\"/></g><g class=\"points\"><path class=\"point\" transform=\"translate(48.85,258.94)\" d=\"M3,0A3,3 0 1,1 0,-3A3,3 0 0,1 3,0Z\" style=\"opacity: 1; stroke-width: 0px; fill: rgb(0, 204, 150); fill-opacity: 1;\"/><path class=\"point\" transform=\"translate(147.74,300.25)\" d=\"M3,0A3,3 0 1,1 0,-3A3,3 0 0,1 3,0Z\" style=\"opacity: 1; stroke-width: 0px; fill: rgb(0, 204, 150); fill-opacity: 1;\"/><path class=\"point\" transform=\"translate(249.92,136.96)\" d=\"M3,0A3,3 0 1,1 0,-3A3,3 0 0,1 3,0Z\" style=\"opacity: 1; stroke-width: 0px; fill: rgb(0, 204, 150); fill-opacity: 1;\"/><path class=\"point\" transform=\"translate(348.81,172.56)\" d=\"M3,0A3,3 0 1,1 0,-3A3,3 0 0,1 3,0Z\" style=\"opacity: 1; stroke-width: 0px; fill: rgb(0, 204, 150); fill-opacity: 1;\"/><path class=\"point\" transform=\"translate(451,229.91)\" d=\"M3,0A3,3 0 1,1 0,-3A3,3 0 0,1 3,0Z\" style=\"opacity: 1; stroke-width: 0px; fill: rgb(0, 204, 150); fill-opacity: 1;\"/><path class=\"point\" transform=\"translate(553.19,224.8)\" d=\"M3,0A3,3 0 1,1 0,-3A3,3 0 0,1 3,0Z\" style=\"opacity: 1; stroke-width: 0px; fill: rgb(0, 204, 150); fill-opacity: 1;\"/><path class=\"point\" transform=\"translate(652.08,157.71)\" d=\"M3,0A3,3 0 1,1 0,-3A3,3 0 0,1 3,0Z\" style=\"opacity: 1; stroke-width: 0px; fill: rgb(0, 204, 150); fill-opacity: 1;\"/><path class=\"point\" transform=\"translate(754.26,244.73)\" d=\"M3,0A3,3 0 1,1 0,-3A3,3 0 0,1 3,0Z\" style=\"opacity: 1; stroke-width: 0px; fill: rgb(0, 204, 150); fill-opacity: 1;\"/><path class=\"point\" transform=\"translate(853.15,249.46)\" d=\"M3,0A3,3 0 1,1 0,-3A3,3 0 0,1 3,0Z\" style=\"opacity: 1; stroke-width: 0px; fill: rgb(0, 204, 150); fill-opacity: 1;\"/></g><g class=\"text\"/></g></g></g><g class=\"overplot\"/><path class=\"xlines-above crisp\" d=\"M0,0\" style=\"fill: none;\"/><path class=\"ylines-above crisp\" d=\"M0,0\" style=\"fill: none;\"/><g class=\"overlines-above\"/><g class=\"xaxislayer-above\"><g class=\"xtick\"><text text-anchor=\"middle\" x=\"0\" y=\"433\" transform=\"translate(132.15,0)\" style=\"font-family: 'Open Sans', verdana, arial, sans-serif; font-size: 12px; fill: rgb(42, 63, 95); fill-opacity: 1; white-space: pre; opacity: 1;\">Apr 2020</text></g><g class=\"xtick\"><text text-anchor=\"middle\" x=\"0\" y=\"433\" style=\"font-family: 'Open Sans', verdana, arial, sans-serif; font-size: 12px; fill: rgb(42, 63, 95); fill-opacity: 1; white-space: pre; opacity: 1;\" transform=\"translate(231.04,0)\">May 2020</text></g><g class=\"xtick\"><text text-anchor=\"middle\" x=\"0\" y=\"433\" style=\"font-family: 'Open Sans', verdana, arial, sans-serif; font-size: 12px; fill: rgb(42, 63, 95); fill-opacity: 1; white-space: pre; opacity: 1;\" transform=\"translate(333.22,0)\">Jun 2020</text></g><g class=\"xtick\"><text text-anchor=\"middle\" x=\"0\" y=\"433\" style=\"font-family: 'Open Sans', verdana, arial, sans-serif; font-size: 12px; fill: rgb(42, 63, 95); fill-opacity: 1; white-space: pre; opacity: 1;\" transform=\"translate(432.11,0)\">Jul 2020</text></g><g class=\"xtick\"><text text-anchor=\"middle\" x=\"0\" y=\"433\" style=\"font-family: 'Open Sans', verdana, arial, sans-serif; font-size: 12px; fill: rgb(42, 63, 95); fill-opacity: 1; white-space: pre; opacity: 1;\" transform=\"translate(534.3,0)\">Aug 2020</text></g><g class=\"xtick\"><text text-anchor=\"middle\" x=\"0\" y=\"433\" style=\"font-family: 'Open Sans', verdana, arial, sans-serif; font-size: 12px; fill: rgb(42, 63, 95); fill-opacity: 1; white-space: pre; opacity: 1;\" transform=\"translate(636.48,0)\">Sep 2020</text></g><g class=\"xtick\"><text text-anchor=\"middle\" x=\"0\" y=\"433\" style=\"font-family: 'Open Sans', verdana, arial, sans-serif; font-size: 12px; fill: rgb(42, 63, 95); fill-opacity: 1; white-space: pre; opacity: 1;\" transform=\"translate(735.37,0)\">Oct 2020</text></g><g class=\"xtick\"><text text-anchor=\"middle\" x=\"0\" y=\"433\" style=\"font-family: 'Open Sans', verdana, arial, sans-serif; font-size: 12px; fill: rgb(42, 63, 95); fill-opacity: 1; white-space: pre; opacity: 1;\" transform=\"translate(837.56,0)\">Nov 2020</text></g><g class=\"xtick\"><text text-anchor=\"middle\" x=\"0\" y=\"433\" style=\"font-family: 'Open Sans', verdana, arial, sans-serif; font-size: 12px; fill: rgb(42, 63, 95); fill-opacity: 1; white-space: pre; opacity: 1;\" transform=\"translate(936.45,0)\">Dec 2020</text></g></g><g class=\"yaxislayer-above\"><g class=\"ytick\"><text text-anchor=\"end\" x=\"79\" y=\"4.199999999999999\" transform=\"translate(0,396.03)\" style=\"font-family: 'Open Sans', verdana, arial, sans-serif; font-size: 12px; fill: rgb(42, 63, 95); fill-opacity: 1; white-space: pre; opacity: 1;\">1.5</text></g><g class=\"ytick\"><text text-anchor=\"end\" x=\"79\" y=\"4.199999999999999\" style=\"font-family: 'Open Sans', verdana, arial, sans-serif; font-size: 12px; fill: rgb(42, 63, 95); fill-opacity: 1; white-space: pre; opacity: 1;\" transform=\"translate(0,315.24)\">2</text></g><g class=\"ytick\"><text text-anchor=\"end\" x=\"79\" y=\"4.199999999999999\" style=\"font-family: 'Open Sans', verdana, arial, sans-serif; font-size: 12px; fill: rgb(42, 63, 95); fill-opacity: 1; white-space: pre; opacity: 1;\" transform=\"translate(0,234.45)\">2.5</text></g><g class=\"ytick\"><text text-anchor=\"end\" x=\"79\" y=\"4.199999999999999\" style=\"font-family: 'Open Sans', verdana, arial, sans-serif; font-size: 12px; fill: rgb(42, 63, 95); fill-opacity: 1; white-space: pre; opacity: 1;\" transform=\"translate(0,153.65)\">3</text></g></g><g class=\"overaxes-above\"/></g></g><g class=\"polarlayer\"/><g class=\"smithlayer\"/><g class=\"ternarylayer\"/><g class=\"geolayer\"/><g class=\"funnelarealayer\"/><g class=\"pielayer\"/><g class=\"iciclelayer\"/><g class=\"treemaplayer\"/><g class=\"sunburstlayer\"/><g class=\"glimages\"/><defs id=\"topdefs-15b293\"><g class=\"clips\"/><clipPath id=\"legend15b293\"><rect width=\"488\" height=\"67\" x=\"0\" y=\"0\"/></clipPath></defs><g class=\"layer-above\"><g class=\"imagelayer\"/><g class=\"shapelayer\"/></g><g class=\"infolayer\"><g class=\"legend\" pointer-events=\"all\" transform=\"translate(1000.04,100)\"><rect class=\"bg\" shape-rendering=\"crispEdges\" width=\"488\" height=\"67\" x=\"0\" y=\"0\" style=\"stroke: rgb(68, 68, 68); stroke-opacity: 1; fill: rgb(255, 255, 255); fill-opacity: 1; stroke-width: 0px;\"/><g class=\"scrollbox\" transform=\"\" clip-path=\"url(#legend15b293)\"><g class=\"groups\"><g class=\"traces\" transform=\"translate(0,14.5)\" style=\"opacity: 1;\"><text class=\"legendtext\" text-anchor=\"start\" x=\"40\" y=\"4.680000000000001\" style=\"font-family: 'Open Sans', verdana, arial, sans-serif; font-size: 12px; fill: rgb(42, 63, 95); fill-opacity: 1; white-space: pre;\">retrain model when drift detected</text><g class=\"layers\" style=\"opacity: 1;\"><g class=\"legendfill\"/><g class=\"legendlines\"><path class=\"js-line\" d=\"M5,0h30\" style=\"fill: none; stroke: rgb(99, 110, 250); stroke-opacity: 1; stroke-width: 2px;\"/></g><g class=\"legendsymbols\"><g class=\"legendpoints\"><path class=\"scatterpts\" transform=\"translate(20,0)\" d=\"M3,0A3,3 0 1,1 0,-3A3,3 0 0,1 3,0Z\" style=\"opacity: 1; stroke-width: 0px; fill: rgb(99, 110, 250); fill-opacity: 1;\"/></g></g></g><rect class=\"legendtoggle\" x=\"0\" y=\"-9.5\" width=\"482.296875\" height=\"19\" style=\"fill: rgb(0, 0, 0); fill-opacity: 0;\"/></g><g class=\"traces\" transform=\"translate(0,33.5)\" style=\"opacity: 1;\"><text class=\"legendtext\" text-anchor=\"start\" x=\"40\" y=\"4.680000000000001\" style=\"font-family: 'Open Sans', verdana, arial, sans-serif; font-size: 12px; fill: rgb(42, 63, 95); fill-opacity: 1; white-space: pre;\">retrain model with instance weights when drift detected</text><g class=\"layers\" style=\"opacity: 1;\"><g class=\"legendfill\"/><g class=\"legendlines\"><path class=\"js-line\" d=\"M5,0h30\" style=\"fill: none; stroke: rgb(239, 85, 59); stroke-opacity: 1; stroke-width: 2px;\"/></g><g class=\"legendsymbols\"><g class=\"legendpoints\"><path class=\"scatterpts\" transform=\"translate(20,0)\" d=\"M3,0A3,3 0 1,1 0,-3A3,3 0 0,1 3,0Z\" style=\"opacity: 1; stroke-width: 0px; fill: rgb(239, 85, 59); fill-opacity: 1;\"/></g></g></g><rect class=\"legendtoggle\" x=\"0\" y=\"-9.5\" width=\"482.296875\" height=\"19\" style=\"fill: rgb(0, 0, 0); fill-opacity: 0;\"/></g><g class=\"traces\" transform=\"translate(0,52.5)\" style=\"opacity: 1;\"><text class=\"legendtext\" text-anchor=\"start\" x=\"40\" y=\"4.680000000000001\" style=\"font-family: 'Open Sans', verdana, arial, sans-serif; font-size: 12px; fill: rgb(42, 63, 95); fill-opacity: 1; white-space: pre;\">retrain model when drift detected with data of only last12 month window</text><g class=\"layers\" style=\"opacity: 1;\"><g class=\"legendfill\"/><g class=\"legendlines\"><path class=\"js-line\" d=\"M5,0h30\" style=\"fill: none; stroke: rgb(0, 204, 150); stroke-opacity: 1; stroke-width: 2px;\"/></g><g class=\"legendsymbols\"><g class=\"legendpoints\"><path class=\"scatterpts\" transform=\"translate(20,0)\" d=\"M3,0A3,3 0 1,1 0,-3A3,3 0 0,1 3,0Z\" style=\"opacity: 1; stroke-width: 0px; fill: rgb(0, 204, 150); fill-opacity: 1;\"/></g></g></g><rect class=\"legendtoggle\" x=\"0\" y=\"-9.5\" width=\"482.296875\" height=\"19\" style=\"fill: rgb(0, 0, 0); fill-opacity: 0;\"/></g></g></g><rect class=\"scrollbar\" rx=\"20\" ry=\"3\" width=\"0\" height=\"0\" x=\"0\" y=\"0\" style=\"fill: rgb(128, 139, 164); fill-opacity: 1;\"/></g><g class=\"g-gtitle\"><text class=\"gtitle\" x=\"75\" y=\"50\" text-anchor=\"start\" dy=\"0em\" style=\"font-family: 'Open Sans', verdana, arial, sans-serif; font-size: 17px; fill: rgb(42, 63, 95); opacity: 1; font-weight: normal; white-space: pre;\">model decay after covid - mar 2020 to nov 2020</text></g><g class=\"g-xtitle\"><text class=\"xtitle\" x=\"531\" y=\"460.8\" text-anchor=\"middle\" style=\"font-family: 'Open Sans', verdana, arial, sans-serif; font-size: 14px; fill: rgb(42, 63, 95); opacity: 1; font-weight: normal; white-space: pre;\">Date</text></g><g class=\"g-ytitle\"><text class=\"ytitle\" transform=\"rotate(-90,34.575,260)\" x=\"34.575\" y=\"260\" text-anchor=\"middle\" style=\"font-family: 'Open Sans', verdana, arial, sans-serif; font-size: 14px; fill: rgb(42, 63, 95); opacity: 1; font-weight: normal; white-space: pre;\">monthly_rmse</text></g></g></svg>"
     },
     "metadata": {},
     "output_type": "display_data"
    }
   ],
   "source": [
    "plot_model_decay('model decay after covid - mar 2020 to nov 2020', datetime(2020,3,1), None)"
   ]
  },
  {
   "cell_type": "markdown",
   "id": "94a9ad4b",
   "metadata": {},
   "source": [
    "#### Overall model decay"
   ]
  },
  {
   "cell_type": "code",
   "execution_count": 112,
   "id": "3f616503",
   "metadata": {},
   "outputs": [
    {
     "data": {
      "image/svg+xml": "<svg class=\"main-svg\" xmlns=\"http://www.w3.org/2000/svg\" xmlns:xlink=\"http://www.w3.org/1999/xlink\" width=\"1500\" height=\"500\" style=\"\" viewBox=\"0 0 1500 500\"><rect x=\"0\" y=\"0\" width=\"1500\" height=\"500\" style=\"fill: rgb(255, 255, 255); fill-opacity: 1;\"/><defs id=\"defs-e388f9\"><g class=\"clips\"><clipPath id=\"clipe388f9xyplot\" class=\"plotclip\"><rect width=\"902\" height=\"320\"/></clipPath><clipPath class=\"axesclip\" id=\"clipe388f9x\"><rect x=\"80\" y=\"0\" width=\"902\" height=\"500\"/></clipPath><clipPath class=\"axesclip\" id=\"clipe388f9y\"><rect x=\"0\" y=\"100\" width=\"1500\" height=\"320\"/></clipPath><clipPath class=\"axesclip\" id=\"clipe388f9xy\"><rect x=\"80\" y=\"100\" width=\"902\" height=\"320\"/></clipPath></g><g class=\"gradients\"/><g class=\"patterns\"/></defs><g class=\"bglayer\"><rect class=\"bg\" x=\"80\" y=\"100\" width=\"902\" height=\"320\" style=\"fill: rgb(229, 236, 246); fill-opacity: 1; stroke-width: 0;\"/></g><g class=\"layer-below\"><g class=\"imagelayer\"/><g class=\"shapelayer\"/></g><g class=\"cartesianlayer\"><g class=\"subplot xy\"><g class=\"layer-subplot\"><g class=\"shapelayer\"/><g class=\"imagelayer\"/></g><g class=\"minor-gridlayer\"><g class=\"x\"/><g class=\"y\"/></g><g class=\"gridlayer\"><g class=\"x\"><path class=\"xgrid crisp\" transform=\"translate(130.17000000000002,0)\" d=\"M0,100v320\" style=\"stroke: rgb(255, 255, 255); stroke-opacity: 1; stroke-width: 1px;\"/><path class=\"xgrid crisp\" transform=\"translate(250.15,0)\" d=\"M0,100v320\" style=\"stroke: rgb(255, 255, 255); stroke-opacity: 1; stroke-width: 1px;\"/><path class=\"xgrid crisp\" transform=\"translate(371.46,0)\" d=\"M0,100v320\" style=\"stroke: rgb(255, 255, 255); stroke-opacity: 1; stroke-width: 1px;\"/><path class=\"xgrid crisp\" transform=\"translate(492.76,0)\" d=\"M0,100v320\" style=\"stroke: rgb(255, 255, 255); stroke-opacity: 1; stroke-width: 1px;\"/><path class=\"xgrid crisp\" transform=\"translate(612.75,0)\" d=\"M0,100v320\" style=\"stroke: rgb(255, 255, 255); stroke-opacity: 1; stroke-width: 1px;\"/><path class=\"xgrid crisp\" transform=\"translate(732.73,0)\" d=\"M0,100v320\" style=\"stroke: rgb(255, 255, 255); stroke-opacity: 1; stroke-width: 1px;\"/><path class=\"xgrid crisp\" transform=\"translate(854.04,0)\" d=\"M0,100v320\" style=\"stroke: rgb(255, 255, 255); stroke-opacity: 1; stroke-width: 1px;\"/><path class=\"xgrid crisp\" transform=\"translate(975.34,0)\" d=\"M0,100v320\" style=\"stroke: rgb(255, 255, 255); stroke-opacity: 1; stroke-width: 1px;\"/></g><g class=\"y\"><path class=\"ygrid crisp\" transform=\"translate(0,416.48)\" d=\"M80,0h902\" style=\"stroke: rgb(255, 255, 255); stroke-opacity: 1; stroke-width: 1px;\"/><path class=\"ygrid crisp\" transform=\"translate(0,361.73)\" d=\"M80,0h902\" style=\"stroke: rgb(255, 255, 255); stroke-opacity: 1; stroke-width: 1px;\"/><path class=\"ygrid crisp\" transform=\"translate(0,306.98)\" d=\"M80,0h902\" style=\"stroke: rgb(255, 255, 255); stroke-opacity: 1; stroke-width: 1px;\"/><path class=\"ygrid crisp\" transform=\"translate(0,252.23)\" d=\"M80,0h902\" style=\"stroke: rgb(255, 255, 255); stroke-opacity: 1; stroke-width: 1px;\"/><path class=\"ygrid crisp\" transform=\"translate(0,197.48000000000002)\" d=\"M80,0h902\" style=\"stroke: rgb(255, 255, 255); stroke-opacity: 1; stroke-width: 1px;\"/><path class=\"ygrid crisp\" transform=\"translate(0,142.73)\" d=\"M80,0h902\" style=\"stroke: rgb(255, 255, 255); stroke-opacity: 1; stroke-width: 1px;\"/></g></g><g class=\"zerolinelayer\"/><path class=\"xlines-below\"/><path class=\"ylines-below\"/><g class=\"overlines-below\"/><g class=\"xaxislayer-below\"/><g class=\"yaxislayer-below\"/><g class=\"overaxes-below\"/><g class=\"plot\" transform=\"translate(80,100)\" clip-path=\"url(#clipe388f9xyplot)\"><g class=\"scatterlayer mlayer\"><g class=\"trace scatter trace025ef4\" style=\"stroke-miterlimit: 2; opacity: 1;\"><g class=\"fills\"/><g class=\"errorbars\"/><g class=\"lines\"><path class=\"js-line\" d=\"M48.85,288.89L88.41,264.51L129.28,265.94L168.84,260.78L209.71,276.44L250.58,247.48L290.14,256.35L331.01,273.77L370.57,245.09L411.44,263.73L452.32,266.93L490.56,245.31L531.43,19.75L570.99,199.54L611.86,141.77L651.42,105.77L692.29,119.25L733.16,127.76L772.72,131.14L813.59,153.35L853.15,141.54\" style=\"vector-effect: non-scaling-stroke; fill: none; stroke: rgb(99, 110, 250); stroke-opacity: 1; stroke-width: 2px; opacity: 1;\"/></g><g class=\"points\"><path class=\"point\" transform=\"translate(48.85,288.89)\" d=\"M3,0A3,3 0 1,1 0,-3A3,3 0 0,1 3,0Z\" style=\"opacity: 1; stroke-width: 0px; fill: rgb(99, 110, 250); fill-opacity: 1;\"/><path class=\"point\" transform=\"translate(88.41,264.51)\" d=\"M3,0A3,3 0 1,1 0,-3A3,3 0 0,1 3,0Z\" style=\"opacity: 1; stroke-width: 0px; fill: rgb(99, 110, 250); fill-opacity: 1;\"/><path class=\"point\" transform=\"translate(129.28,265.94)\" d=\"M3,0A3,3 0 1,1 0,-3A3,3 0 0,1 3,0Z\" style=\"opacity: 1; stroke-width: 0px; fill: rgb(99, 110, 250); fill-opacity: 1;\"/><path class=\"point\" transform=\"translate(168.84,260.78)\" d=\"M3,0A3,3 0 1,1 0,-3A3,3 0 0,1 3,0Z\" style=\"opacity: 1; stroke-width: 0px; fill: rgb(99, 110, 250); fill-opacity: 1;\"/><path class=\"point\" transform=\"translate(209.71,276.44)\" d=\"M3,0A3,3 0 1,1 0,-3A3,3 0 0,1 3,0Z\" style=\"opacity: 1; stroke-width: 0px; fill: rgb(99, 110, 250); fill-opacity: 1;\"/><path class=\"point\" transform=\"translate(250.58,247.48)\" d=\"M3,0A3,3 0 1,1 0,-3A3,3 0 0,1 3,0Z\" style=\"opacity: 1; stroke-width: 0px; fill: rgb(99, 110, 250); fill-opacity: 1;\"/><path class=\"point\" transform=\"translate(290.14,256.35)\" d=\"M3,0A3,3 0 1,1 0,-3A3,3 0 0,1 3,0Z\" style=\"opacity: 1; stroke-width: 0px; fill: rgb(99, 110, 250); fill-opacity: 1;\"/><path class=\"point\" transform=\"translate(331.01,273.77)\" d=\"M3,0A3,3 0 1,1 0,-3A3,3 0 0,1 3,0Z\" style=\"opacity: 1; stroke-width: 0px; fill: rgb(99, 110, 250); fill-opacity: 1;\"/><path class=\"point\" transform=\"translate(370.57,245.09)\" d=\"M3,0A3,3 0 1,1 0,-3A3,3 0 0,1 3,0Z\" style=\"opacity: 1; stroke-width: 0px; fill: rgb(99, 110, 250); fill-opacity: 1;\"/><path class=\"point\" transform=\"translate(411.44,263.73)\" d=\"M3,0A3,3 0 1,1 0,-3A3,3 0 0,1 3,0Z\" style=\"opacity: 1; stroke-width: 0px; fill: rgb(99, 110, 250); fill-opacity: 1;\"/><path class=\"point\" transform=\"translate(452.32,266.93)\" d=\"M3,0A3,3 0 1,1 0,-3A3,3 0 0,1 3,0Z\" style=\"opacity: 1; stroke-width: 0px; fill: rgb(99, 110, 250); fill-opacity: 1;\"/><path class=\"point\" transform=\"translate(490.56,245.31)\" d=\"M3,0A3,3 0 1,1 0,-3A3,3 0 0,1 3,0Z\" style=\"opacity: 1; stroke-width: 0px; fill: rgb(99, 110, 250); fill-opacity: 1;\"/><path class=\"point\" transform=\"translate(531.43,19.75)\" d=\"M3,0A3,3 0 1,1 0,-3A3,3 0 0,1 3,0Z\" style=\"opacity: 1; stroke-width: 0px; fill: rgb(99, 110, 250); fill-opacity: 1;\"/><path class=\"point\" transform=\"translate(570.99,199.54)\" d=\"M3,0A3,3 0 1,1 0,-3A3,3 0 0,1 3,0Z\" style=\"opacity: 1; stroke-width: 0px; fill: rgb(99, 110, 250); fill-opacity: 1;\"/><path class=\"point\" transform=\"translate(611.86,141.77)\" d=\"M3,0A3,3 0 1,1 0,-3A3,3 0 0,1 3,0Z\" style=\"opacity: 1; stroke-width: 0px; fill: rgb(99, 110, 250); fill-opacity: 1;\"/><path class=\"point\" transform=\"translate(651.42,105.77)\" d=\"M3,0A3,3 0 1,1 0,-3A3,3 0 0,1 3,0Z\" style=\"opacity: 1; stroke-width: 0px; fill: rgb(99, 110, 250); fill-opacity: 1;\"/><path class=\"point\" transform=\"translate(692.29,119.25)\" d=\"M3,0A3,3 0 1,1 0,-3A3,3 0 0,1 3,0Z\" style=\"opacity: 1; stroke-width: 0px; fill: rgb(99, 110, 250); fill-opacity: 1;\"/><path class=\"point\" transform=\"translate(733.16,127.76)\" d=\"M3,0A3,3 0 1,1 0,-3A3,3 0 0,1 3,0Z\" style=\"opacity: 1; stroke-width: 0px; fill: rgb(99, 110, 250); fill-opacity: 1;\"/><path class=\"point\" transform=\"translate(772.72,131.14)\" d=\"M3,0A3,3 0 1,1 0,-3A3,3 0 0,1 3,0Z\" style=\"opacity: 1; stroke-width: 0px; fill: rgb(99, 110, 250); fill-opacity: 1;\"/><path class=\"point\" transform=\"translate(813.59,153.35)\" d=\"M3,0A3,3 0 1,1 0,-3A3,3 0 0,1 3,0Z\" style=\"opacity: 1; stroke-width: 0px; fill: rgb(99, 110, 250); fill-opacity: 1;\"/><path class=\"point\" transform=\"translate(853.15,141.54)\" d=\"M3,0A3,3 0 1,1 0,-3A3,3 0 0,1 3,0Z\" style=\"opacity: 1; stroke-width: 0px; fill: rgb(99, 110, 250); fill-opacity: 1;\"/></g><g class=\"text\"/></g><g class=\"trace scatter trace3fe9b2\" style=\"stroke-miterlimit: 2; opacity: 1;\"><g class=\"fills\"/><g class=\"errorbars\"/><g class=\"lines\"><path class=\"js-line\" d=\"M48.85,293.49L88.41,269.41L129.28,254.32L168.84,241.21L209.71,240.87L250.58,280.35L290.14,284.42L331.01,291.19L370.57,290.37L411.44,300.25L452.32,288.94L490.56,284.81L531.43,96.62L570.99,93.33L611.86,125.67L651.42,81.5L692.29,164.3L733.16,125.26L772.72,124.18L813.59,137.04L853.15,180.35\" style=\"vector-effect: non-scaling-stroke; fill: none; stroke: rgb(239, 85, 59); stroke-opacity: 1; stroke-width: 2px; opacity: 1;\"/></g><g class=\"points\"><path class=\"point\" transform=\"translate(48.85,293.49)\" d=\"M3,0A3,3 0 1,1 0,-3A3,3 0 0,1 3,0Z\" style=\"opacity: 1; stroke-width: 0px; fill: rgb(239, 85, 59); fill-opacity: 1;\"/><path class=\"point\" transform=\"translate(88.41,269.41)\" d=\"M3,0A3,3 0 1,1 0,-3A3,3 0 0,1 3,0Z\" style=\"opacity: 1; stroke-width: 0px; fill: rgb(239, 85, 59); fill-opacity: 1;\"/><path class=\"point\" transform=\"translate(129.28,254.32)\" d=\"M3,0A3,3 0 1,1 0,-3A3,3 0 0,1 3,0Z\" style=\"opacity: 1; stroke-width: 0px; fill: rgb(239, 85, 59); fill-opacity: 1;\"/><path class=\"point\" transform=\"translate(168.84,241.21)\" d=\"M3,0A3,3 0 1,1 0,-3A3,3 0 0,1 3,0Z\" style=\"opacity: 1; stroke-width: 0px; fill: rgb(239, 85, 59); fill-opacity: 1;\"/><path class=\"point\" transform=\"translate(209.71,240.87)\" d=\"M3,0A3,3 0 1,1 0,-3A3,3 0 0,1 3,0Z\" style=\"opacity: 1; stroke-width: 0px; fill: rgb(239, 85, 59); fill-opacity: 1;\"/><path class=\"point\" transform=\"translate(250.58,280.35)\" d=\"M3,0A3,3 0 1,1 0,-3A3,3 0 0,1 3,0Z\" style=\"opacity: 1; stroke-width: 0px; fill: rgb(239, 85, 59); fill-opacity: 1;\"/><path class=\"point\" transform=\"translate(290.14,284.42)\" d=\"M3,0A3,3 0 1,1 0,-3A3,3 0 0,1 3,0Z\" style=\"opacity: 1; stroke-width: 0px; fill: rgb(239, 85, 59); fill-opacity: 1;\"/><path class=\"point\" transform=\"translate(331.01,291.19)\" d=\"M3,0A3,3 0 1,1 0,-3A3,3 0 0,1 3,0Z\" style=\"opacity: 1; stroke-width: 0px; fill: rgb(239, 85, 59); fill-opacity: 1;\"/><path class=\"point\" transform=\"translate(370.57,290.37)\" d=\"M3,0A3,3 0 1,1 0,-3A3,3 0 0,1 3,0Z\" style=\"opacity: 1; stroke-width: 0px; fill: rgb(239, 85, 59); fill-opacity: 1;\"/><path class=\"point\" transform=\"translate(411.44,300.25)\" d=\"M3,0A3,3 0 1,1 0,-3A3,3 0 0,1 3,0Z\" style=\"opacity: 1; stroke-width: 0px; fill: rgb(239, 85, 59); fill-opacity: 1;\"/><path class=\"point\" transform=\"translate(452.32,288.94)\" d=\"M3,0A3,3 0 1,1 0,-3A3,3 0 0,1 3,0Z\" style=\"opacity: 1; stroke-width: 0px; fill: rgb(239, 85, 59); fill-opacity: 1;\"/><path class=\"point\" transform=\"translate(490.56,284.81)\" d=\"M3,0A3,3 0 1,1 0,-3A3,3 0 0,1 3,0Z\" style=\"opacity: 1; stroke-width: 0px; fill: rgb(239, 85, 59); fill-opacity: 1;\"/><path class=\"point\" transform=\"translate(531.43,96.62)\" d=\"M3,0A3,3 0 1,1 0,-3A3,3 0 0,1 3,0Z\" style=\"opacity: 1; stroke-width: 0px; fill: rgb(239, 85, 59); fill-opacity: 1;\"/><path class=\"point\" transform=\"translate(570.99,93.33)\" d=\"M3,0A3,3 0 1,1 0,-3A3,3 0 0,1 3,0Z\" style=\"opacity: 1; stroke-width: 0px; fill: rgb(239, 85, 59); fill-opacity: 1;\"/><path class=\"point\" transform=\"translate(611.86,125.67)\" d=\"M3,0A3,3 0 1,1 0,-3A3,3 0 0,1 3,0Z\" style=\"opacity: 1; stroke-width: 0px; fill: rgb(239, 85, 59); fill-opacity: 1;\"/><path class=\"point\" transform=\"translate(651.42,81.5)\" d=\"M3,0A3,3 0 1,1 0,-3A3,3 0 0,1 3,0Z\" style=\"opacity: 1; stroke-width: 0px; fill: rgb(239, 85, 59); fill-opacity: 1;\"/><path class=\"point\" transform=\"translate(692.29,164.3)\" d=\"M3,0A3,3 0 1,1 0,-3A3,3 0 0,1 3,0Z\" style=\"opacity: 1; stroke-width: 0px; fill: rgb(239, 85, 59); fill-opacity: 1;\"/><path class=\"point\" transform=\"translate(733.16,125.26)\" d=\"M3,0A3,3 0 1,1 0,-3A3,3 0 0,1 3,0Z\" style=\"opacity: 1; stroke-width: 0px; fill: rgb(239, 85, 59); fill-opacity: 1;\"/><path class=\"point\" transform=\"translate(772.72,124.18)\" d=\"M3,0A3,3 0 1,1 0,-3A3,3 0 0,1 3,0Z\" style=\"opacity: 1; stroke-width: 0px; fill: rgb(239, 85, 59); fill-opacity: 1;\"/><path class=\"point\" transform=\"translate(813.59,137.04)\" d=\"M3,0A3,3 0 1,1 0,-3A3,3 0 0,1 3,0Z\" style=\"opacity: 1; stroke-width: 0px; fill: rgb(239, 85, 59); fill-opacity: 1;\"/><path class=\"point\" transform=\"translate(853.15,180.35)\" d=\"M3,0A3,3 0 1,1 0,-3A3,3 0 0,1 3,0Z\" style=\"opacity: 1; stroke-width: 0px; fill: rgb(239, 85, 59); fill-opacity: 1;\"/></g><g class=\"text\"/></g><g class=\"trace scatter trace917570\" style=\"stroke-miterlimit: 2; opacity: 1;\"><g class=\"fills\"/><g class=\"errorbars\"/><g class=\"lines\"><path class=\"js-line\" d=\"M48.85,288.89L88.41,154.31L129.28,193.15L168.84,216.16L209.71,220.74L250.58,286.29L290.14,251.3L331.01,276.07L370.57,294.28L411.44,226.9L452.32,197.83L490.56,277.58L531.43,181.84L570.99,209.83L611.86,99.18L651.42,123.31L692.29,162.17L733.16,158.7L772.72,113.24L813.59,172.21L853.15,175.41\" style=\"vector-effect: non-scaling-stroke; fill: none; stroke: rgb(0, 204, 150); stroke-opacity: 1; stroke-width: 2px; opacity: 1;\"/></g><g class=\"points\"><path class=\"point\" transform=\"translate(48.85,288.89)\" d=\"M3,0A3,3 0 1,1 0,-3A3,3 0 0,1 3,0Z\" style=\"opacity: 1; stroke-width: 0px; fill: rgb(0, 204, 150); fill-opacity: 1;\"/><path class=\"point\" transform=\"translate(88.41,154.31)\" d=\"M3,0A3,3 0 1,1 0,-3A3,3 0 0,1 3,0Z\" style=\"opacity: 1; stroke-width: 0px; fill: rgb(0, 204, 150); fill-opacity: 1;\"/><path class=\"point\" transform=\"translate(129.28,193.15)\" d=\"M3,0A3,3 0 1,1 0,-3A3,3 0 0,1 3,0Z\" style=\"opacity: 1; stroke-width: 0px; fill: rgb(0, 204, 150); fill-opacity: 1;\"/><path class=\"point\" transform=\"translate(168.84,216.16)\" d=\"M3,0A3,3 0 1,1 0,-3A3,3 0 0,1 3,0Z\" style=\"opacity: 1; stroke-width: 0px; fill: rgb(0, 204, 150); fill-opacity: 1;\"/><path class=\"point\" transform=\"translate(209.71,220.74)\" d=\"M3,0A3,3 0 1,1 0,-3A3,3 0 0,1 3,0Z\" style=\"opacity: 1; stroke-width: 0px; fill: rgb(0, 204, 150); fill-opacity: 1;\"/><path class=\"point\" transform=\"translate(250.58,286.29)\" d=\"M3,0A3,3 0 1,1 0,-3A3,3 0 0,1 3,0Z\" style=\"opacity: 1; stroke-width: 0px; fill: rgb(0, 204, 150); fill-opacity: 1;\"/><path class=\"point\" transform=\"translate(290.14,251.3)\" d=\"M3,0A3,3 0 1,1 0,-3A3,3 0 0,1 3,0Z\" style=\"opacity: 1; stroke-width: 0px; fill: rgb(0, 204, 150); fill-opacity: 1;\"/><path class=\"point\" transform=\"translate(331.01,276.07)\" d=\"M3,0A3,3 0 1,1 0,-3A3,3 0 0,1 3,0Z\" style=\"opacity: 1; stroke-width: 0px; fill: rgb(0, 204, 150); fill-opacity: 1;\"/><path class=\"point\" transform=\"translate(370.57,294.28)\" d=\"M3,0A3,3 0 1,1 0,-3A3,3 0 0,1 3,0Z\" style=\"opacity: 1; stroke-width: 0px; fill: rgb(0, 204, 150); fill-opacity: 1;\"/><path class=\"point\" transform=\"translate(411.44,226.9)\" d=\"M3,0A3,3 0 1,1 0,-3A3,3 0 0,1 3,0Z\" style=\"opacity: 1; stroke-width: 0px; fill: rgb(0, 204, 150); fill-opacity: 1;\"/><path class=\"point\" transform=\"translate(452.32,197.83)\" d=\"M3,0A3,3 0 1,1 0,-3A3,3 0 0,1 3,0Z\" style=\"opacity: 1; stroke-width: 0px; fill: rgb(0, 204, 150); fill-opacity: 1;\"/><path class=\"point\" transform=\"translate(490.56,277.58)\" d=\"M3,0A3,3 0 1,1 0,-3A3,3 0 0,1 3,0Z\" style=\"opacity: 1; stroke-width: 0px; fill: rgb(0, 204, 150); fill-opacity: 1;\"/><path class=\"point\" transform=\"translate(531.43,181.84)\" d=\"M3,0A3,3 0 1,1 0,-3A3,3 0 0,1 3,0Z\" style=\"opacity: 1; stroke-width: 0px; fill: rgb(0, 204, 150); fill-opacity: 1;\"/><path class=\"point\" transform=\"translate(570.99,209.83)\" d=\"M3,0A3,3 0 1,1 0,-3A3,3 0 0,1 3,0Z\" style=\"opacity: 1; stroke-width: 0px; fill: rgb(0, 204, 150); fill-opacity: 1;\"/><path class=\"point\" transform=\"translate(611.86,99.18)\" d=\"M3,0A3,3 0 1,1 0,-3A3,3 0 0,1 3,0Z\" style=\"opacity: 1; stroke-width: 0px; fill: rgb(0, 204, 150); fill-opacity: 1;\"/><path class=\"point\" transform=\"translate(651.42,123.31)\" d=\"M3,0A3,3 0 1,1 0,-3A3,3 0 0,1 3,0Z\" style=\"opacity: 1; stroke-width: 0px; fill: rgb(0, 204, 150); fill-opacity: 1;\"/><path class=\"point\" transform=\"translate(692.29,162.17)\" d=\"M3,0A3,3 0 1,1 0,-3A3,3 0 0,1 3,0Z\" style=\"opacity: 1; stroke-width: 0px; fill: rgb(0, 204, 150); fill-opacity: 1;\"/><path class=\"point\" transform=\"translate(733.16,158.7)\" d=\"M3,0A3,3 0 1,1 0,-3A3,3 0 0,1 3,0Z\" style=\"opacity: 1; stroke-width: 0px; fill: rgb(0, 204, 150); fill-opacity: 1;\"/><path class=\"point\" transform=\"translate(772.72,113.24)\" d=\"M3,0A3,3 0 1,1 0,-3A3,3 0 0,1 3,0Z\" style=\"opacity: 1; stroke-width: 0px; fill: rgb(0, 204, 150); fill-opacity: 1;\"/><path class=\"point\" transform=\"translate(813.59,172.21)\" d=\"M3,0A3,3 0 1,1 0,-3A3,3 0 0,1 3,0Z\" style=\"opacity: 1; stroke-width: 0px; fill: rgb(0, 204, 150); fill-opacity: 1;\"/><path class=\"point\" transform=\"translate(853.15,175.41)\" d=\"M3,0A3,3 0 1,1 0,-3A3,3 0 0,1 3,0Z\" style=\"opacity: 1; stroke-width: 0px; fill: rgb(0, 204, 150); fill-opacity: 1;\"/></g><g class=\"text\"/></g></g></g><g class=\"overplot\"/><path class=\"xlines-above crisp\" d=\"M0,0\" style=\"fill: none;\"/><path class=\"ylines-above crisp\" d=\"M0,0\" style=\"fill: none;\"/><g class=\"overlines-above\"/><g class=\"xaxislayer-above\"><g class=\"xtick\"><text text-anchor=\"middle\" x=\"0\" y=\"433\" transform=\"translate(130.17000000000002,0)\" style=\"font-family: 'Open Sans', verdana, arial, sans-serif; font-size: 12px; fill: rgb(42, 63, 95); fill-opacity: 1; white-space: pre; opacity: 1;\">Apr 2019</text></g><g class=\"xtick\"><text text-anchor=\"middle\" x=\"0\" y=\"433\" style=\"font-family: 'Open Sans', verdana, arial, sans-serif; font-size: 12px; fill: rgb(42, 63, 95); fill-opacity: 1; white-space: pre; opacity: 1;\" transform=\"translate(250.15,0)\">Jul 2019</text></g><g class=\"xtick\"><text text-anchor=\"middle\" x=\"0\" y=\"433\" style=\"font-family: 'Open Sans', verdana, arial, sans-serif; font-size: 12px; fill: rgb(42, 63, 95); fill-opacity: 1; white-space: pre; opacity: 1;\" transform=\"translate(371.46,0)\">Oct 2019</text></g><g class=\"xtick\"><text text-anchor=\"middle\" x=\"0\" y=\"433\" style=\"font-family: 'Open Sans', verdana, arial, sans-serif; font-size: 12px; fill: rgb(42, 63, 95); fill-opacity: 1; white-space: pre; opacity: 1;\" transform=\"translate(492.76,0)\">Jan 2020</text></g><g class=\"xtick\"><text text-anchor=\"middle\" x=\"0\" y=\"433\" style=\"font-family: 'Open Sans', verdana, arial, sans-serif; font-size: 12px; fill: rgb(42, 63, 95); fill-opacity: 1; white-space: pre; opacity: 1;\" transform=\"translate(612.75,0)\">Apr 2020</text></g><g class=\"xtick\"><text text-anchor=\"middle\" x=\"0\" y=\"433\" style=\"font-family: 'Open Sans', verdana, arial, sans-serif; font-size: 12px; fill: rgb(42, 63, 95); fill-opacity: 1; white-space: pre; opacity: 1;\" transform=\"translate(732.73,0)\">Jul 2020</text></g><g class=\"xtick\"><text text-anchor=\"middle\" x=\"0\" y=\"433\" style=\"font-family: 'Open Sans', verdana, arial, sans-serif; font-size: 12px; fill: rgb(42, 63, 95); fill-opacity: 1; white-space: pre; opacity: 1;\" transform=\"translate(854.04,0)\">Oct 2020</text></g><g class=\"xtick\"><text text-anchor=\"middle\" x=\"0\" y=\"433\" style=\"font-family: 'Open Sans', verdana, arial, sans-serif; font-size: 12px; fill: rgb(42, 63, 95); fill-opacity: 1; white-space: pre; opacity: 1;\" transform=\"translate(975.34,0)\">Jan 2021</text></g></g><g class=\"yaxislayer-above\"><g class=\"ytick\"><text text-anchor=\"end\" x=\"79\" y=\"4.199999999999999\" transform=\"translate(0,416.48)\" style=\"font-family: 'Open Sans', verdana, arial, sans-serif; font-size: 12px; fill: rgb(42, 63, 95); fill-opacity: 1; white-space: pre; opacity: 1;\">0.5</text></g><g class=\"ytick\"><text text-anchor=\"end\" x=\"79\" y=\"4.199999999999999\" style=\"font-family: 'Open Sans', verdana, arial, sans-serif; font-size: 12px; fill: rgb(42, 63, 95); fill-opacity: 1; white-space: pre; opacity: 1;\" transform=\"translate(0,361.73)\">1</text></g><g class=\"ytick\"><text text-anchor=\"end\" x=\"79\" y=\"4.199999999999999\" style=\"font-family: 'Open Sans', verdana, arial, sans-serif; font-size: 12px; fill: rgb(42, 63, 95); fill-opacity: 1; white-space: pre; opacity: 1;\" transform=\"translate(0,306.98)\">1.5</text></g><g class=\"ytick\"><text text-anchor=\"end\" x=\"79\" y=\"4.199999999999999\" style=\"font-family: 'Open Sans', verdana, arial, sans-serif; font-size: 12px; fill: rgb(42, 63, 95); fill-opacity: 1; white-space: pre; opacity: 1;\" transform=\"translate(0,252.23)\">2</text></g><g class=\"ytick\"><text text-anchor=\"end\" x=\"79\" y=\"4.199999999999999\" style=\"font-family: 'Open Sans', verdana, arial, sans-serif; font-size: 12px; fill: rgb(42, 63, 95); fill-opacity: 1; white-space: pre; opacity: 1;\" transform=\"translate(0,197.48000000000002)\">2.5</text></g><g class=\"ytick\"><text text-anchor=\"end\" x=\"79\" y=\"4.199999999999999\" style=\"font-family: 'Open Sans', verdana, arial, sans-serif; font-size: 12px; fill: rgb(42, 63, 95); fill-opacity: 1; white-space: pre; opacity: 1;\" transform=\"translate(0,142.73)\">3</text></g></g><g class=\"overaxes-above\"/></g></g><g class=\"polarlayer\"/><g class=\"smithlayer\"/><g class=\"ternarylayer\"/><g class=\"geolayer\"/><g class=\"funnelarealayer\"/><g class=\"pielayer\"/><g class=\"iciclelayer\"/><g class=\"treemaplayer\"/><g class=\"sunburstlayer\"/><g class=\"glimages\"/><defs id=\"topdefs-e388f9\"><g class=\"clips\"/><clipPath id=\"legende388f9\"><rect width=\"488\" height=\"67\" x=\"0\" y=\"0\"/></clipPath></defs><g class=\"layer-above\"><g class=\"imagelayer\"/><g class=\"shapelayer\"/></g><g class=\"infolayer\"><g class=\"legend\" pointer-events=\"all\" transform=\"translate(1000.04,100)\"><rect class=\"bg\" shape-rendering=\"crispEdges\" width=\"488\" height=\"67\" x=\"0\" y=\"0\" style=\"stroke: rgb(68, 68, 68); stroke-opacity: 1; fill: rgb(255, 255, 255); fill-opacity: 1; stroke-width: 0px;\"/><g class=\"scrollbox\" transform=\"\" clip-path=\"url(#legende388f9)\"><g class=\"groups\"><g class=\"traces\" transform=\"translate(0,14.5)\" style=\"opacity: 1;\"><text class=\"legendtext\" text-anchor=\"start\" x=\"40\" y=\"4.680000000000001\" style=\"font-family: 'Open Sans', verdana, arial, sans-serif; font-size: 12px; fill: rgb(42, 63, 95); fill-opacity: 1; white-space: pre;\">retrain model when drift detected</text><g class=\"layers\" style=\"opacity: 1;\"><g class=\"legendfill\"/><g class=\"legendlines\"><path class=\"js-line\" d=\"M5,0h30\" style=\"fill: none; stroke: rgb(99, 110, 250); stroke-opacity: 1; stroke-width: 2px;\"/></g><g class=\"legendsymbols\"><g class=\"legendpoints\"><path class=\"scatterpts\" transform=\"translate(20,0)\" d=\"M3,0A3,3 0 1,1 0,-3A3,3 0 0,1 3,0Z\" style=\"opacity: 1; stroke-width: 0px; fill: rgb(99, 110, 250); fill-opacity: 1;\"/></g></g></g><rect class=\"legendtoggle\" x=\"0\" y=\"-9.5\" width=\"482.296875\" height=\"19\" style=\"fill: rgb(0, 0, 0); fill-opacity: 0;\"/></g><g class=\"traces\" transform=\"translate(0,33.5)\" style=\"opacity: 1;\"><text class=\"legendtext\" text-anchor=\"start\" x=\"40\" y=\"4.680000000000001\" style=\"font-family: 'Open Sans', verdana, arial, sans-serif; font-size: 12px; fill: rgb(42, 63, 95); fill-opacity: 1; white-space: pre;\">retrain model with instance weights when drift detected</text><g class=\"layers\" style=\"opacity: 1;\"><g class=\"legendfill\"/><g class=\"legendlines\"><path class=\"js-line\" d=\"M5,0h30\" style=\"fill: none; stroke: rgb(239, 85, 59); stroke-opacity: 1; stroke-width: 2px;\"/></g><g class=\"legendsymbols\"><g class=\"legendpoints\"><path class=\"scatterpts\" transform=\"translate(20,0)\" d=\"M3,0A3,3 0 1,1 0,-3A3,3 0 0,1 3,0Z\" style=\"opacity: 1; stroke-width: 0px; fill: rgb(239, 85, 59); fill-opacity: 1;\"/></g></g></g><rect class=\"legendtoggle\" x=\"0\" y=\"-9.5\" width=\"482.296875\" height=\"19\" style=\"fill: rgb(0, 0, 0); fill-opacity: 0;\"/></g><g class=\"traces\" transform=\"translate(0,52.5)\" style=\"opacity: 1;\"><text class=\"legendtext\" text-anchor=\"start\" x=\"40\" y=\"4.680000000000001\" style=\"font-family: 'Open Sans', verdana, arial, sans-serif; font-size: 12px; fill: rgb(42, 63, 95); fill-opacity: 1; white-space: pre;\">retrain model when drift detected with data of only last12 month window</text><g class=\"layers\" style=\"opacity: 1;\"><g class=\"legendfill\"/><g class=\"legendlines\"><path class=\"js-line\" d=\"M5,0h30\" style=\"fill: none; stroke: rgb(0, 204, 150); stroke-opacity: 1; stroke-width: 2px;\"/></g><g class=\"legendsymbols\"><g class=\"legendpoints\"><path class=\"scatterpts\" transform=\"translate(20,0)\" d=\"M3,0A3,3 0 1,1 0,-3A3,3 0 0,1 3,0Z\" style=\"opacity: 1; stroke-width: 0px; fill: rgb(0, 204, 150); fill-opacity: 1;\"/></g></g></g><rect class=\"legendtoggle\" x=\"0\" y=\"-9.5\" width=\"482.296875\" height=\"19\" style=\"fill: rgb(0, 0, 0); fill-opacity: 0;\"/></g></g></g><rect class=\"scrollbar\" rx=\"20\" ry=\"3\" width=\"0\" height=\"0\" x=\"0\" y=\"0\" style=\"fill: rgb(128, 139, 164); fill-opacity: 1;\"/></g><g class=\"g-gtitle\"><text class=\"gtitle\" x=\"75\" y=\"50\" text-anchor=\"start\" dy=\"0em\" style=\"font-family: 'Open Sans', verdana, arial, sans-serif; font-size: 17px; fill: rgb(42, 63, 95); opacity: 1; font-weight: normal; white-space: pre;\">Overall model decay - apr 2019 to nov 2020</text></g><g class=\"g-xtitle\"><text class=\"xtitle\" x=\"531\" y=\"460.8\" text-anchor=\"middle\" style=\"font-family: 'Open Sans', verdana, arial, sans-serif; font-size: 14px; fill: rgb(42, 63, 95); opacity: 1; font-weight: normal; white-space: pre;\">Date</text></g><g class=\"g-ytitle\"><text class=\"ytitle\" transform=\"rotate(-90,34.575,260)\" x=\"34.575\" y=\"260\" text-anchor=\"middle\" style=\"font-family: 'Open Sans', verdana, arial, sans-serif; font-size: 14px; fill: rgb(42, 63, 95); opacity: 1; font-weight: normal; white-space: pre;\">monthly_rmse</text></g></g></svg>"
     },
     "metadata": {},
     "output_type": "display_data"
    }
   ],
   "source": [
    "plot_model_decay('Overall model decay - apr 2019 to nov 2020')"
   ]
  },
  {
   "cell_type": "markdown",
   "id": "afb178f7",
   "metadata": {},
   "source": [
    "##### Overall best performance was retraining model with exponential decay based instance weights. Instance weights based solution works well for gradual model decay which is expected over time.\n",
    "##### Best at handling sudden drift(sharp model decay) during covid was adaptive window solution. Adaptive window solution uses recent data as a result likey to capture more relevant patterns."
   ]
  }
 ],
 "metadata": {
  "hide_input": false,
  "kernelspec": {
   "display_name": "anaconda_env",
   "language": "python",
   "name": "anaconda_env"
  },
  "language_info": {
   "codemirror_mode": {
    "name": "ipython",
    "version": 3
   },
   "file_extension": ".py",
   "mimetype": "text/x-python",
   "name": "python",
   "nbconvert_exporter": "python",
   "pygments_lexer": "ipython3",
   "version": "3.9.12"
  },
  "toc": {
   "base_numbering": 1,
   "nav_menu": {},
   "number_sections": true,
   "sideBar": true,
   "skip_h1_title": false,
   "title_cell": "Table of Contents",
   "title_sidebar": "Contents",
   "toc_cell": true,
   "toc_position": {
    "height": "calc(100% - 180px)",
    "left": "10px",
    "top": "150px",
    "width": "384px"
   },
   "toc_section_display": true,
   "toc_window_display": true
  },
  "varInspector": {
   "cols": {
    "lenName": 16,
    "lenType": 16,
    "lenVar": 40
   },
   "kernels_config": {
    "python": {
     "delete_cmd_postfix": "",
     "delete_cmd_prefix": "del ",
     "library": "var_list.py",
     "varRefreshCmd": "print(var_dic_list())"
    },
    "r": {
     "delete_cmd_postfix": ") ",
     "delete_cmd_prefix": "rm(",
     "library": "var_list.r",
     "varRefreshCmd": "cat(var_dic_list()) "
    }
   },
   "types_to_exclude": [
    "module",
    "function",
    "builtin_function_or_method",
    "instance",
    "_Feature"
   ],
   "window_display": false
  }
 },
 "nbformat": 4,
 "nbformat_minor": 5
}
